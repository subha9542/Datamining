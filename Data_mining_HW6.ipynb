{
  "nbformat": 4,
  "nbformat_minor": 0,
  "metadata": {
    "colab": {
      "name": "Data_mining_HW6.ipynb",
      "provenance": [],
      "collapsed_sections": [],
      "authorship_tag": "ABX9TyOIUDClaHqQSLSwmxOZvaAn",
      "include_colab_link": true
    },
    "kernelspec": {
      "name": "python3",
      "display_name": "Python 3"
    }
  },
  "cells": [
    {
      "cell_type": "markdown",
      "metadata": {
        "id": "view-in-github",
        "colab_type": "text"
      },
      "source": [
        "<a href=\"https://colab.research.google.com/github/subha9542/Datamining/blob/master/Data_mining_HW6.ipynb\" target=\"_parent\"><img src=\"https://colab.research.google.com/assets/colab-badge.svg\" alt=\"Open In Colab\"/></a>"
      ]
    },
    {
      "cell_type": "code",
      "metadata": {
        "id": "xbJjKDKAsfh0"
      },
      "source": [
        "import pandas as pd\n",
        "import numpy as np\n",
        "import sys\n",
        "import random\n",
        "from itertools import combinations \n",
        "eps = np.finfo(float).eps\n",
        "from numpy import log2 as log\n",
        "from sklearn.tree import DecisionTreeClassifier\n",
        "from sklearn.naive_bayes import GaussianNB\n",
        "from sklearn.model_selection import train_test_split\n",
        "from sklearn import metrics"
      ],
      "execution_count": 1,
      "outputs": []
    },
    {
      "cell_type": "markdown",
      "metadata": {
        "id": "8fl6MtJ95mYJ"
      },
      "source": [
        "1. [25] Write Python code to perform the following tasks.\n",
        "\n",
        "(a) Read data from hwk06-01.csv into a DataFrame df1."
      ]
    },
    {
      "cell_type": "code",
      "metadata": {
        "id": "x-1rDOZ7sstU",
        "outputId": "531ef634-a3df-47f3-919b-022fffab473b",
        "colab": {
          "base_uri": "https://localhost:8080/",
          "height": 225
        }
      },
      "source": [
        "df = pd.read_csv(\"hwk06-01.csv\",sep = '\\t')\n",
        "df.head"
      ],
      "execution_count": 2,
      "outputs": [
        {
          "output_type": "execute_result",
          "data": {
            "text/plain": [
              "<bound method NDFrame.head of    department  status     age    salary  count\n",
              "0       sales  senior  31..35  46k..50k     30\n",
              "1       sales  junior  26..30  26k..30k     40\n",
              "2       sales  junior  31..35  31k..35k     40\n",
              "3     systems  junior  21..25  46k..50k     20\n",
              "4     systems  senior  31..35  66k..70k      5\n",
              "5     systems  junior  26..30  46k..50k      3\n",
              "6     systems  senior  41..45  66k..70k      3\n",
              "7   marketing  senior  36..40  46k..50k     10\n",
              "8   marketing  junior  31..35  41k..45k      4\n",
              "9   secretaty  senior  46..50  36k..40k      4\n",
              "10  secretaty  junior  26..30  26k..30k      6>"
            ]
          },
          "metadata": {
            "tags": []
          },
          "execution_count": 2
        }
      ]
    },
    {
      "cell_type": "markdown",
      "metadata": {
        "id": "MOoUh9Dc5uKH"
      },
      "source": [
        "(b) Create a new DataFrame df2 by replicating each row of df1 with the number of copies\n",
        "as indicated in the count column. For example, the first row in df1 should appear 30\n",
        "times in df2, second row in df1 40 times in df2, etc.\n"
      ]
    },
    {
      "cell_type": "code",
      "metadata": {
        "id": "XXcwPluVv0MH",
        "outputId": "b8b38561-e01c-4565-f55d-0f52788e4a5f",
        "colab": {
          "base_uri": "https://localhost:8080/",
          "height": 202
        }
      },
      "source": [
        "df2 = df.loc[np.repeat(df.index.values,df['count'].to_numpy())]\n",
        "df2.head()"
      ],
      "execution_count": 3,
      "outputs": [
        {
          "output_type": "execute_result",
          "data": {
            "text/html": [
              "<div>\n",
              "<style scoped>\n",
              "    .dataframe tbody tr th:only-of-type {\n",
              "        vertical-align: middle;\n",
              "    }\n",
              "\n",
              "    .dataframe tbody tr th {\n",
              "        vertical-align: top;\n",
              "    }\n",
              "\n",
              "    .dataframe thead th {\n",
              "        text-align: right;\n",
              "    }\n",
              "</style>\n",
              "<table border=\"1\" class=\"dataframe\">\n",
              "  <thead>\n",
              "    <tr style=\"text-align: right;\">\n",
              "      <th></th>\n",
              "      <th>department</th>\n",
              "      <th>status</th>\n",
              "      <th>age</th>\n",
              "      <th>salary</th>\n",
              "      <th>count</th>\n",
              "    </tr>\n",
              "  </thead>\n",
              "  <tbody>\n",
              "    <tr>\n",
              "      <th>0</th>\n",
              "      <td>sales</td>\n",
              "      <td>senior</td>\n",
              "      <td>31..35</td>\n",
              "      <td>46k..50k</td>\n",
              "      <td>30</td>\n",
              "    </tr>\n",
              "    <tr>\n",
              "      <th>0</th>\n",
              "      <td>sales</td>\n",
              "      <td>senior</td>\n",
              "      <td>31..35</td>\n",
              "      <td>46k..50k</td>\n",
              "      <td>30</td>\n",
              "    </tr>\n",
              "    <tr>\n",
              "      <th>0</th>\n",
              "      <td>sales</td>\n",
              "      <td>senior</td>\n",
              "      <td>31..35</td>\n",
              "      <td>46k..50k</td>\n",
              "      <td>30</td>\n",
              "    </tr>\n",
              "    <tr>\n",
              "      <th>0</th>\n",
              "      <td>sales</td>\n",
              "      <td>senior</td>\n",
              "      <td>31..35</td>\n",
              "      <td>46k..50k</td>\n",
              "      <td>30</td>\n",
              "    </tr>\n",
              "    <tr>\n",
              "      <th>0</th>\n",
              "      <td>sales</td>\n",
              "      <td>senior</td>\n",
              "      <td>31..35</td>\n",
              "      <td>46k..50k</td>\n",
              "      <td>30</td>\n",
              "    </tr>\n",
              "  </tbody>\n",
              "</table>\n",
              "</div>"
            ],
            "text/plain": [
              "  department  status     age    salary  count\n",
              "0      sales  senior  31..35  46k..50k     30\n",
              "0      sales  senior  31..35  46k..50k     30\n",
              "0      sales  senior  31..35  46k..50k     30\n",
              "0      sales  senior  31..35  46k..50k     30\n",
              "0      sales  senior  31..35  46k..50k     30"
            ]
          },
          "metadata": {
            "tags": []
          },
          "execution_count": 3
        }
      ]
    },
    {
      "cell_type": "markdown",
      "metadata": {
        "id": "qHLRoqjG5xih"
      },
      "source": [
        "(c) Perform the one-of-kinds encoding on the categorical columns. For example, if a categorical attribute has three values “A”, “B”, and “C”, you will encode “A” as 0, “B” as\n",
        "1, and “C” as 2. One way to do this in Python is to save the values in a list and use the\n",
        "list index as the coding."
      ]
    },
    {
      "cell_type": "code",
      "metadata": {
        "id": "UmHyvlcb17ww",
        "outputId": "6e207463-0605-45d4-8abb-6990f43c1272",
        "colab": {
          "base_uri": "https://localhost:8080/",
          "height": 415
        }
      },
      "source": [
        "df2['department'] = df2['department'].astype('category')\n",
        "#df2['status'] = df2['status'].astype('category')\n",
        "cat_columns = df2.select_dtypes(['category']).columns\n",
        "df2[cat_columns] = df2[cat_columns].apply(lambda x: x.cat.codes)\n",
        "df2"
      ],
      "execution_count": 4,
      "outputs": [
        {
          "output_type": "execute_result",
          "data": {
            "text/html": [
              "<div>\n",
              "<style scoped>\n",
              "    .dataframe tbody tr th:only-of-type {\n",
              "        vertical-align: middle;\n",
              "    }\n",
              "\n",
              "    .dataframe tbody tr th {\n",
              "        vertical-align: top;\n",
              "    }\n",
              "\n",
              "    .dataframe thead th {\n",
              "        text-align: right;\n",
              "    }\n",
              "</style>\n",
              "<table border=\"1\" class=\"dataframe\">\n",
              "  <thead>\n",
              "    <tr style=\"text-align: right;\">\n",
              "      <th></th>\n",
              "      <th>department</th>\n",
              "      <th>status</th>\n",
              "      <th>age</th>\n",
              "      <th>salary</th>\n",
              "      <th>count</th>\n",
              "    </tr>\n",
              "  </thead>\n",
              "  <tbody>\n",
              "    <tr>\n",
              "      <th>0</th>\n",
              "      <td>1</td>\n",
              "      <td>senior</td>\n",
              "      <td>31..35</td>\n",
              "      <td>46k..50k</td>\n",
              "      <td>30</td>\n",
              "    </tr>\n",
              "    <tr>\n",
              "      <th>0</th>\n",
              "      <td>1</td>\n",
              "      <td>senior</td>\n",
              "      <td>31..35</td>\n",
              "      <td>46k..50k</td>\n",
              "      <td>30</td>\n",
              "    </tr>\n",
              "    <tr>\n",
              "      <th>0</th>\n",
              "      <td>1</td>\n",
              "      <td>senior</td>\n",
              "      <td>31..35</td>\n",
              "      <td>46k..50k</td>\n",
              "      <td>30</td>\n",
              "    </tr>\n",
              "    <tr>\n",
              "      <th>0</th>\n",
              "      <td>1</td>\n",
              "      <td>senior</td>\n",
              "      <td>31..35</td>\n",
              "      <td>46k..50k</td>\n",
              "      <td>30</td>\n",
              "    </tr>\n",
              "    <tr>\n",
              "      <th>0</th>\n",
              "      <td>1</td>\n",
              "      <td>senior</td>\n",
              "      <td>31..35</td>\n",
              "      <td>46k..50k</td>\n",
              "      <td>30</td>\n",
              "    </tr>\n",
              "    <tr>\n",
              "      <th>...</th>\n",
              "      <td>...</td>\n",
              "      <td>...</td>\n",
              "      <td>...</td>\n",
              "      <td>...</td>\n",
              "      <td>...</td>\n",
              "    </tr>\n",
              "    <tr>\n",
              "      <th>10</th>\n",
              "      <td>2</td>\n",
              "      <td>junior</td>\n",
              "      <td>26..30</td>\n",
              "      <td>26k..30k</td>\n",
              "      <td>6</td>\n",
              "    </tr>\n",
              "    <tr>\n",
              "      <th>10</th>\n",
              "      <td>2</td>\n",
              "      <td>junior</td>\n",
              "      <td>26..30</td>\n",
              "      <td>26k..30k</td>\n",
              "      <td>6</td>\n",
              "    </tr>\n",
              "    <tr>\n",
              "      <th>10</th>\n",
              "      <td>2</td>\n",
              "      <td>junior</td>\n",
              "      <td>26..30</td>\n",
              "      <td>26k..30k</td>\n",
              "      <td>6</td>\n",
              "    </tr>\n",
              "    <tr>\n",
              "      <th>10</th>\n",
              "      <td>2</td>\n",
              "      <td>junior</td>\n",
              "      <td>26..30</td>\n",
              "      <td>26k..30k</td>\n",
              "      <td>6</td>\n",
              "    </tr>\n",
              "    <tr>\n",
              "      <th>10</th>\n",
              "      <td>2</td>\n",
              "      <td>junior</td>\n",
              "      <td>26..30</td>\n",
              "      <td>26k..30k</td>\n",
              "      <td>6</td>\n",
              "    </tr>\n",
              "  </tbody>\n",
              "</table>\n",
              "<p>165 rows × 5 columns</p>\n",
              "</div>"
            ],
            "text/plain": [
              "    department  status     age    salary  count\n",
              "0            1  senior  31..35  46k..50k     30\n",
              "0            1  senior  31..35  46k..50k     30\n",
              "0            1  senior  31..35  46k..50k     30\n",
              "0            1  senior  31..35  46k..50k     30\n",
              "0            1  senior  31..35  46k..50k     30\n",
              "..         ...     ...     ...       ...    ...\n",
              "10           2  junior  26..30  26k..30k      6\n",
              "10           2  junior  26..30  26k..30k      6\n",
              "10           2  junior  26..30  26k..30k      6\n",
              "10           2  junior  26..30  26k..30k      6\n",
              "10           2  junior  26..30  26k..30k      6\n",
              "\n",
              "[165 rows x 5 columns]"
            ]
          },
          "metadata": {
            "tags": []
          },
          "execution_count": 4
        }
      ]
    },
    {
      "cell_type": "markdown",
      "metadata": {
        "id": "QpmxAikK6PHC"
      },
      "source": [
        "(d) Make sure that df2 does not have the column count.\n"
      ]
    },
    {
      "cell_type": "code",
      "metadata": {
        "id": "rVkLQre85TyQ",
        "outputId": "2c44b221-42bf-478e-9b4c-6a47c1799b92",
        "colab": {
          "base_uri": "https://localhost:8080/",
          "height": 415
        }
      },
      "source": [
        "df2 = df2.drop(\"count\",axis=1).reset_index(drop=True)\n",
        "df2"
      ],
      "execution_count": 5,
      "outputs": [
        {
          "output_type": "execute_result",
          "data": {
            "text/html": [
              "<div>\n",
              "<style scoped>\n",
              "    .dataframe tbody tr th:only-of-type {\n",
              "        vertical-align: middle;\n",
              "    }\n",
              "\n",
              "    .dataframe tbody tr th {\n",
              "        vertical-align: top;\n",
              "    }\n",
              "\n",
              "    .dataframe thead th {\n",
              "        text-align: right;\n",
              "    }\n",
              "</style>\n",
              "<table border=\"1\" class=\"dataframe\">\n",
              "  <thead>\n",
              "    <tr style=\"text-align: right;\">\n",
              "      <th></th>\n",
              "      <th>department</th>\n",
              "      <th>status</th>\n",
              "      <th>age</th>\n",
              "      <th>salary</th>\n",
              "    </tr>\n",
              "  </thead>\n",
              "  <tbody>\n",
              "    <tr>\n",
              "      <th>0</th>\n",
              "      <td>1</td>\n",
              "      <td>senior</td>\n",
              "      <td>31..35</td>\n",
              "      <td>46k..50k</td>\n",
              "    </tr>\n",
              "    <tr>\n",
              "      <th>1</th>\n",
              "      <td>1</td>\n",
              "      <td>senior</td>\n",
              "      <td>31..35</td>\n",
              "      <td>46k..50k</td>\n",
              "    </tr>\n",
              "    <tr>\n",
              "      <th>2</th>\n",
              "      <td>1</td>\n",
              "      <td>senior</td>\n",
              "      <td>31..35</td>\n",
              "      <td>46k..50k</td>\n",
              "    </tr>\n",
              "    <tr>\n",
              "      <th>3</th>\n",
              "      <td>1</td>\n",
              "      <td>senior</td>\n",
              "      <td>31..35</td>\n",
              "      <td>46k..50k</td>\n",
              "    </tr>\n",
              "    <tr>\n",
              "      <th>4</th>\n",
              "      <td>1</td>\n",
              "      <td>senior</td>\n",
              "      <td>31..35</td>\n",
              "      <td>46k..50k</td>\n",
              "    </tr>\n",
              "    <tr>\n",
              "      <th>...</th>\n",
              "      <td>...</td>\n",
              "      <td>...</td>\n",
              "      <td>...</td>\n",
              "      <td>...</td>\n",
              "    </tr>\n",
              "    <tr>\n",
              "      <th>160</th>\n",
              "      <td>2</td>\n",
              "      <td>junior</td>\n",
              "      <td>26..30</td>\n",
              "      <td>26k..30k</td>\n",
              "    </tr>\n",
              "    <tr>\n",
              "      <th>161</th>\n",
              "      <td>2</td>\n",
              "      <td>junior</td>\n",
              "      <td>26..30</td>\n",
              "      <td>26k..30k</td>\n",
              "    </tr>\n",
              "    <tr>\n",
              "      <th>162</th>\n",
              "      <td>2</td>\n",
              "      <td>junior</td>\n",
              "      <td>26..30</td>\n",
              "      <td>26k..30k</td>\n",
              "    </tr>\n",
              "    <tr>\n",
              "      <th>163</th>\n",
              "      <td>2</td>\n",
              "      <td>junior</td>\n",
              "      <td>26..30</td>\n",
              "      <td>26k..30k</td>\n",
              "    </tr>\n",
              "    <tr>\n",
              "      <th>164</th>\n",
              "      <td>2</td>\n",
              "      <td>junior</td>\n",
              "      <td>26..30</td>\n",
              "      <td>26k..30k</td>\n",
              "    </tr>\n",
              "  </tbody>\n",
              "</table>\n",
              "<p>165 rows × 4 columns</p>\n",
              "</div>"
            ],
            "text/plain": [
              "     department  status     age    salary\n",
              "0             1  senior  31..35  46k..50k\n",
              "1             1  senior  31..35  46k..50k\n",
              "2             1  senior  31..35  46k..50k\n",
              "3             1  senior  31..35  46k..50k\n",
              "4             1  senior  31..35  46k..50k\n",
              "..          ...     ...     ...       ...\n",
              "160           2  junior  26..30  26k..30k\n",
              "161           2  junior  26..30  26k..30k\n",
              "162           2  junior  26..30  26k..30k\n",
              "163           2  junior  26..30  26k..30k\n",
              "164           2  junior  26..30  26k..30k\n",
              "\n",
              "[165 rows x 4 columns]"
            ]
          },
          "metadata": {
            "tags": []
          },
          "execution_count": 5
        }
      ]
    },
    {
      "cell_type": "markdown",
      "metadata": {
        "id": "itoMzw3O6dw1"
      },
      "source": [
        "2. [25] Write Python code to use sklearn.tree.DecisionTreeClassifier to learn a decision tree\n",
        "using the df2 as the training data, and then use the decision tree to predict the status of a user\n",
        "provided unseen data, such as\n"
      ]
    },
    {
      "cell_type": "markdown",
      "metadata": {
        "id": "BDR4QKZU6f-8"
      },
      "source": [
        "t =< department : systems, status :?, age : 28, salary : 50K >"
      ]
    },
    {
      "cell_type": "markdown",
      "metadata": {
        "id": "_cfLIAIH6h24"
      },
      "source": [
        "Your program needs to convert the actual age and salary values into the codes for the corresponding ranges before using the decision tree to predict the status. Also, use the graphviz\n",
        "package to display the learned decision tree.\n"
      ]
    },
    {
      "cell_type": "code",
      "metadata": {
        "id": "hh-smUtFKGcc"
      },
      "source": [
        "def get_random(value):\n",
        "    j,k = value.split('..')\n",
        "    ran = random.randint(int(j.rstrip('k')),int(k.strip('k')))\n",
        "    return ran\n",
        "\n",
        "for i in df2.index:\n",
        "    df2.loc[i,'salary'] = get_random(df2['salary'][i])\n",
        "    df2.loc[i,'age'] = get_random(df2['age'][i])"
      ],
      "execution_count": 6,
      "outputs": []
    },
    {
      "cell_type": "code",
      "metadata": {
        "id": "nGg3milP6jfl",
        "outputId": "33ac5e30-3682-4163-eb9a-b7c2eb1c36e2",
        "colab": {
          "base_uri": "https://localhost:8080/",
          "height": 35
        }
      },
      "source": [
        "def get_split_value(df,attribute,value):\n",
        "    variables = df[attribute].unique() \n",
        "    for i in variables:\n",
        "        j,k = i.split('..')\n",
        "        if value >= int(j.rstrip('k')) and value <= int(k.strip('k')):\n",
        "            return i\n",
        "\n",
        "feature_cols = ['department','salary','age']\n",
        "X = df2[feature_cols] # Features\n",
        "y = df2.status # Target variable\n",
        "clf = DecisionTreeClassifier(random_state=0)\n",
        "X_train, X_test, y_train, y_test = train_test_split(X, y, test_size=0.3, random_state=1)\n",
        "clf = clf.fit(X_train,y_train)\n",
        "#y_pred = clf.predict(X_test)\n",
        "y_pred = clf.predict([[2,28,50]])\n",
        "print(y_pred)\n",
        "#print(\"Accuracy:\",metrics.accuracy_score(y_test, y_pred))\n",
        "\n"
      ],
      "execution_count": 7,
      "outputs": [
        {
          "output_type": "stream",
          "text": [
            "['junior']\n"
          ],
          "name": "stdout"
        }
      ]
    },
    {
      "cell_type": "code",
      "metadata": {
        "id": "oYJW73vjJ-cx",
        "outputId": "9a588897-5496-4486-8494-4702fdae12fc",
        "colab": {
          "base_uri": "https://localhost:8080/",
          "height": 808
        }
      },
      "source": [
        "from sklearn.tree import export_graphviz\n",
        "from sklearn.externals.six import StringIO  \n",
        "from IPython.display import Image  \n",
        "import pydotplus\n",
        "\n",
        "dot_data = StringIO()\n",
        "export_graphviz(clf, out_file=dot_data,  \n",
        "                filled=True, rounded=True,\n",
        "                special_characters=True,feature_names = feature_cols,class_names=['junior','senior'])\n",
        "graph = pydotplus.graph_from_dot_data(dot_data.getvalue())  \n",
        "graph.write_png('sales.png')\n",
        "Image(graph.create_png())"
      ],
      "execution_count": 8,
      "outputs": [
        {
          "output_type": "stream",
          "text": [
            "/usr/local/lib/python3.6/dist-packages/sklearn/externals/six.py:31: FutureWarning: The module is deprecated in version 0.21 and will be removed in version 0.23 since we've dropped support for Python 2.7. Please rely on the official version of six (https://pypi.org/project/six/).\n",
            "  \"(https://pypi.org/project/six/).\", FutureWarning)\n"
          ],
          "name": "stderr"
        },
        {
          "output_type": "execute_result",
          "data": {
            "image/png": "[encoded data removed]",
            "text/plain": [
              "<IPython.core.display.Image object>"
            ]
          },
          "metadata": {
            "tags": []
          },
          "execution_count": 8
        }
      ]
    },
    {
      "cell_type": "code",
      "metadata": {
        "id": "_Hls1t4bVSTl",
        "outputId": "e1e5904a-e5bd-4309-cd66-94f87b37eef6",
        "colab": {
          "base_uri": "https://localhost:8080/",
          "height": 415
        }
      },
      "source": [
        "df3 = df.loc[np.repeat(df.index.values,df['count'].to_numpy())]\n",
        "df3['department'] = df3['department'].astype('category')\n",
        "df3['status'] = df3['status'].astype('category')\n",
        "cat_columns = df3.select_dtypes(['category']).columns\n",
        "df3[cat_columns] = df3[cat_columns].apply(lambda x: x.cat.codes)\n",
        "df3 = df3.drop(\"count\",axis=1).reset_index(drop=True)\n",
        "df3"
      ],
      "execution_count": 9,
      "outputs": [
        {
          "output_type": "execute_result",
          "data": {
            "text/html": [
              "<div>\n",
              "<style scoped>\n",
              "    .dataframe tbody tr th:only-of-type {\n",
              "        vertical-align: middle;\n",
              "    }\n",
              "\n",
              "    .dataframe tbody tr th {\n",
              "        vertical-align: top;\n",
              "    }\n",
              "\n",
              "    .dataframe thead th {\n",
              "        text-align: right;\n",
              "    }\n",
              "</style>\n",
              "<table border=\"1\" class=\"dataframe\">\n",
              "  <thead>\n",
              "    <tr style=\"text-align: right;\">\n",
              "      <th></th>\n",
              "      <th>department</th>\n",
              "      <th>status</th>\n",
              "      <th>age</th>\n",
              "      <th>salary</th>\n",
              "    </tr>\n",
              "  </thead>\n",
              "  <tbody>\n",
              "    <tr>\n",
              "      <th>0</th>\n",
              "      <td>1</td>\n",
              "      <td>1</td>\n",
              "      <td>31..35</td>\n",
              "      <td>46k..50k</td>\n",
              "    </tr>\n",
              "    <tr>\n",
              "      <th>1</th>\n",
              "      <td>1</td>\n",
              "      <td>1</td>\n",
              "      <td>31..35</td>\n",
              "      <td>46k..50k</td>\n",
              "    </tr>\n",
              "    <tr>\n",
              "      <th>2</th>\n",
              "      <td>1</td>\n",
              "      <td>1</td>\n",
              "      <td>31..35</td>\n",
              "      <td>46k..50k</td>\n",
              "    </tr>\n",
              "    <tr>\n",
              "      <th>3</th>\n",
              "      <td>1</td>\n",
              "      <td>1</td>\n",
              "      <td>31..35</td>\n",
              "      <td>46k..50k</td>\n",
              "    </tr>\n",
              "    <tr>\n",
              "      <th>4</th>\n",
              "      <td>1</td>\n",
              "      <td>1</td>\n",
              "      <td>31..35</td>\n",
              "      <td>46k..50k</td>\n",
              "    </tr>\n",
              "    <tr>\n",
              "      <th>...</th>\n",
              "      <td>...</td>\n",
              "      <td>...</td>\n",
              "      <td>...</td>\n",
              "      <td>...</td>\n",
              "    </tr>\n",
              "    <tr>\n",
              "      <th>160</th>\n",
              "      <td>2</td>\n",
              "      <td>0</td>\n",
              "      <td>26..30</td>\n",
              "      <td>26k..30k</td>\n",
              "    </tr>\n",
              "    <tr>\n",
              "      <th>161</th>\n",
              "      <td>2</td>\n",
              "      <td>0</td>\n",
              "      <td>26..30</td>\n",
              "      <td>26k..30k</td>\n",
              "    </tr>\n",
              "    <tr>\n",
              "      <th>162</th>\n",
              "      <td>2</td>\n",
              "      <td>0</td>\n",
              "      <td>26..30</td>\n",
              "      <td>26k..30k</td>\n",
              "    </tr>\n",
              "    <tr>\n",
              "      <th>163</th>\n",
              "      <td>2</td>\n",
              "      <td>0</td>\n",
              "      <td>26..30</td>\n",
              "      <td>26k..30k</td>\n",
              "    </tr>\n",
              "    <tr>\n",
              "      <th>164</th>\n",
              "      <td>2</td>\n",
              "      <td>0</td>\n",
              "      <td>26..30</td>\n",
              "      <td>26k..30k</td>\n",
              "    </tr>\n",
              "  </tbody>\n",
              "</table>\n",
              "<p>165 rows × 4 columns</p>\n",
              "</div>"
            ],
            "text/plain": [
              "     department  status     age    salary\n",
              "0             1       1  31..35  46k..50k\n",
              "1             1       1  31..35  46k..50k\n",
              "2             1       1  31..35  46k..50k\n",
              "3             1       1  31..35  46k..50k\n",
              "4             1       1  31..35  46k..50k\n",
              "..          ...     ...     ...       ...\n",
              "160           2       0  26..30  26k..30k\n",
              "161           2       0  26..30  26k..30k\n",
              "162           2       0  26..30  26k..30k\n",
              "163           2       0  26..30  26k..30k\n",
              "164           2       0  26..30  26k..30k\n",
              "\n",
              "[165 rows x 4 columns]"
            ]
          },
          "metadata": {
            "tags": []
          },
          "execution_count": 9
        }
      ]
    },
    {
      "cell_type": "code",
      "metadata": {
        "id": "P182a-gjWUxH"
      },
      "source": [
        "for i in df3.index:\n",
        "    df3.loc[i,'salary'] = get_random(df3['salary'][i])\n",
        "    df3.loc[i,'age'] = get_random(df3['age'][i])"
      ],
      "execution_count": 10,
      "outputs": []
    },
    {
      "cell_type": "code",
      "metadata": {
        "id": "msxrEJILVkgz",
        "outputId": "ddc010b7-77de-4204-c155-cad045f1838f",
        "colab": {
          "base_uri": "https://localhost:8080/",
          "height": 35
        }
      },
      "source": [
        "model = GaussianNB()\n",
        "\n",
        "model.fit(X_train,y_train)\n",
        "\n",
        "predicted= model.predict([[2,28,50]])\n",
        "print(predicted)"
      ],
      "execution_count": 11,
      "outputs": [
        {
          "output_type": "stream",
          "text": [
            "['senior']\n"
          ],
          "name": "stdout"
        }
      ]
    }
  ]
}