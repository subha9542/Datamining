{
  "nbformat": 4,
  "nbformat_minor": 0,
  "metadata": {
    "colab": {
      "name": "Data_mining_HW6.ipynb",
      "provenance": [],
      "collapsed_sections": [],
      "authorship_tag": "ABX9TyP1AQ60v20ugfW8KC+k0Kvl",
      "include_colab_link": true
    },
    "kernelspec": {
      "name": "python3",
      "display_name": "Python 3"
    }
  },
  "cells": [
    {
      "cell_type": "markdown",
      "metadata": {
        "id": "view-in-github",
        "colab_type": "text"
      },
      "source": [
        "<a href=\"https://colab.research.google.com/github/subha9542/Datamining/blob/master/Data_mining_HW6.ipynb\" target=\"_parent\"><img src=\"https://colab.research.google.com/assets/colab-badge.svg\" alt=\"Open In Colab\"/></a>"
      ]
    },
    {
      "cell_type": "code",
      "metadata": {
        "id": "xbJjKDKAsfh0"
      },
      "source": [
        "import pandas as pd\n",
        "import numpy as np\n",
        "import sys\n",
        "import random\n",
        "from itertools import combinations \n",
        "eps = np.finfo(float).eps\n",
        "from numpy import log2 as log\n",
        "from sklearn.tree import DecisionTreeClassifier\n",
        "from sklearn.naive_bayes import GaussianNB\n",
        "from sklearn.model_selection import train_test_split\n",
        "from sklearn import metrics"
      ],
      "execution_count": 1,
      "outputs": []
    },
    {
      "cell_type": "markdown",
      "metadata": {
        "id": "8fl6MtJ95mYJ"
      },
      "source": [
        "1. [25] Write Python code to perform the following tasks.\n",
        "\n",
        "(a) Read data from hwk06-01.csv into a DataFrame df1."
      ]
    },
    {
      "cell_type": "code",
      "metadata": {
        "id": "x-1rDOZ7sstU",
        "outputId": "b98665a9-679b-431a-b118-b834ce67b722",
        "colab": {
          "base_uri": "https://localhost:8080/",
          "height": 225
        }
      },
      "source": [
        "df1 = pd.read_csv(\"hwk06-01.csv\",sep = '\\t')\n",
        "df1.head"
      ],
      "execution_count": 2,
      "outputs": [
        {
          "output_type": "execute_result",
          "data": {
            "text/plain": [
              "<bound method NDFrame.head of    department  status     age    salary  count\n",
              "0       sales  senior  31..35  46k..50k     30\n",
              "1       sales  junior  26..30  26k..30k     40\n",
              "2       sales  junior  31..35  31k..35k     40\n",
              "3     systems  junior  21..25  46k..50k     20\n",
              "4     systems  senior  31..35  66k..70k      5\n",
              "5     systems  junior  26..30  46k..50k      3\n",
              "6     systems  senior  41..45  66k..70k      3\n",
              "7   marketing  senior  36..40  46k..50k     10\n",
              "8   marketing  junior  31..35  41k..45k      4\n",
              "9   secretaty  senior  46..50  36k..40k      4\n",
              "10  secretaty  junior  26..30  26k..30k      6>"
            ]
          },
          "metadata": {
            "tags": []
          },
          "execution_count": 2
        }
      ]
    },
    {
      "cell_type": "markdown",
      "metadata": {
        "id": "MOoUh9Dc5uKH"
      },
      "source": [
        "(b) Create a new DataFrame df2 by replicating each row of df1 with the number of copies\n",
        "as indicated in the count column. For example, the first row in df1 should appear 30\n",
        "times in df2, second row in df1 40 times in df2, etc.\n"
      ]
    },
    {
      "cell_type": "code",
      "metadata": {
        "id": "XXcwPluVv0MH",
        "outputId": "d819f34b-bbe9-42c8-d5e6-291fac641a64",
        "colab": {
          "base_uri": "https://localhost:8080/",
          "height": 415
        }
      },
      "source": [
        "df2 = df1.loc[np.repeat(df1.index.values,df1['count'].to_numpy())].reset_index(drop=True)\n",
        "df2"
      ],
      "execution_count": 3,
      "outputs": [
        {
          "output_type": "execute_result",
          "data": {
            "text/html": [
              "<div>\n",
              "<style scoped>\n",
              "    .dataframe tbody tr th:only-of-type {\n",
              "        vertical-align: middle;\n",
              "    }\n",
              "\n",
              "    .dataframe tbody tr th {\n",
              "        vertical-align: top;\n",
              "    }\n",
              "\n",
              "    .dataframe thead th {\n",
              "        text-align: right;\n",
              "    }\n",
              "</style>\n",
              "<table border=\"1\" class=\"dataframe\">\n",
              "  <thead>\n",
              "    <tr style=\"text-align: right;\">\n",
              "      <th></th>\n",
              "      <th>department</th>\n",
              "      <th>status</th>\n",
              "      <th>age</th>\n",
              "      <th>salary</th>\n",
              "      <th>count</th>\n",
              "    </tr>\n",
              "  </thead>\n",
              "  <tbody>\n",
              "    <tr>\n",
              "      <th>0</th>\n",
              "      <td>sales</td>\n",
              "      <td>senior</td>\n",
              "      <td>31..35</td>\n",
              "      <td>46k..50k</td>\n",
              "      <td>30</td>\n",
              "    </tr>\n",
              "    <tr>\n",
              "      <th>1</th>\n",
              "      <td>sales</td>\n",
              "      <td>senior</td>\n",
              "      <td>31..35</td>\n",
              "      <td>46k..50k</td>\n",
              "      <td>30</td>\n",
              "    </tr>\n",
              "    <tr>\n",
              "      <th>2</th>\n",
              "      <td>sales</td>\n",
              "      <td>senior</td>\n",
              "      <td>31..35</td>\n",
              "      <td>46k..50k</td>\n",
              "      <td>30</td>\n",
              "    </tr>\n",
              "    <tr>\n",
              "      <th>3</th>\n",
              "      <td>sales</td>\n",
              "      <td>senior</td>\n",
              "      <td>31..35</td>\n",
              "      <td>46k..50k</td>\n",
              "      <td>30</td>\n",
              "    </tr>\n",
              "    <tr>\n",
              "      <th>4</th>\n",
              "      <td>sales</td>\n",
              "      <td>senior</td>\n",
              "      <td>31..35</td>\n",
              "      <td>46k..50k</td>\n",
              "      <td>30</td>\n",
              "    </tr>\n",
              "    <tr>\n",
              "      <th>...</th>\n",
              "      <td>...</td>\n",
              "      <td>...</td>\n",
              "      <td>...</td>\n",
              "      <td>...</td>\n",
              "      <td>...</td>\n",
              "    </tr>\n",
              "    <tr>\n",
              "      <th>160</th>\n",
              "      <td>secretaty</td>\n",
              "      <td>junior</td>\n",
              "      <td>26..30</td>\n",
              "      <td>26k..30k</td>\n",
              "      <td>6</td>\n",
              "    </tr>\n",
              "    <tr>\n",
              "      <th>161</th>\n",
              "      <td>secretaty</td>\n",
              "      <td>junior</td>\n",
              "      <td>26..30</td>\n",
              "      <td>26k..30k</td>\n",
              "      <td>6</td>\n",
              "    </tr>\n",
              "    <tr>\n",
              "      <th>162</th>\n",
              "      <td>secretaty</td>\n",
              "      <td>junior</td>\n",
              "      <td>26..30</td>\n",
              "      <td>26k..30k</td>\n",
              "      <td>6</td>\n",
              "    </tr>\n",
              "    <tr>\n",
              "      <th>163</th>\n",
              "      <td>secretaty</td>\n",
              "      <td>junior</td>\n",
              "      <td>26..30</td>\n",
              "      <td>26k..30k</td>\n",
              "      <td>6</td>\n",
              "    </tr>\n",
              "    <tr>\n",
              "      <th>164</th>\n",
              "      <td>secretaty</td>\n",
              "      <td>junior</td>\n",
              "      <td>26..30</td>\n",
              "      <td>26k..30k</td>\n",
              "      <td>6</td>\n",
              "    </tr>\n",
              "  </tbody>\n",
              "</table>\n",
              "<p>165 rows × 5 columns</p>\n",
              "</div>"
            ],
            "text/plain": [
              "    department  status     age    salary  count\n",
              "0        sales  senior  31..35  46k..50k     30\n",
              "1        sales  senior  31..35  46k..50k     30\n",
              "2        sales  senior  31..35  46k..50k     30\n",
              "3        sales  senior  31..35  46k..50k     30\n",
              "4        sales  senior  31..35  46k..50k     30\n",
              "..         ...     ...     ...       ...    ...\n",
              "160  secretaty  junior  26..30  26k..30k      6\n",
              "161  secretaty  junior  26..30  26k..30k      6\n",
              "162  secretaty  junior  26..30  26k..30k      6\n",
              "163  secretaty  junior  26..30  26k..30k      6\n",
              "164  secretaty  junior  26..30  26k..30k      6\n",
              "\n",
              "[165 rows x 5 columns]"
            ]
          },
          "metadata": {
            "tags": []
          },
          "execution_count": 3
        }
      ]
    },
    {
      "cell_type": "markdown",
      "metadata": {
        "id": "qHLRoqjG5xih"
      },
      "source": [
        "(c) Perform the one-of-kinds encoding on the categorical columns. For example, if a categorical attribute has three values “A”, “B”, and “C”, you will encode “A” as 0, “B” as\n",
        "1, and “C” as 2. One way to do this in Python is to save the values in a list and use the\n",
        "list index as the coding."
      ]
    },
    {
      "cell_type": "code",
      "metadata": {
        "id": "UmHyvlcb17ww",
        "outputId": "e29dc503-32ad-4ebc-f973-e03cdda118fa",
        "colab": {
          "base_uri": "https://localhost:8080/",
          "height": 467
        }
      },
      "source": [
        "df2['department'] = df2['department'].astype('category')\n",
        "df2['age'] = df2['age'].astype('category')\n",
        "df2['salary'] = df2['salary'].astype('category')\n",
        "#df2['status'] = df2['status'].astype('category')\n",
        "cat_columns = df2.select_dtypes(['category']).columns\n",
        "age_cat = dict( enumerate(df2['age'].cat.categories ) )\n",
        "department_cat = dict( enumerate(df2['department'].cat.categories ) )\n",
        "salary_cat = dict( enumerate(df2['salary'].cat.categories ) )\n",
        "print(age_cat,'\\n',department_cat,'\\n',salary_cat)\n",
        "df2[cat_columns] = df2[cat_columns].apply(lambda x: x.cat.codes)\n",
        "df2"
      ],
      "execution_count": 4,
      "outputs": [
        {
          "output_type": "stream",
          "text": [
            "{0: '21..25', 1: '26..30', 2: '31..35', 3: '36..40', 4: '41..45', 5: '46..50'} \n",
            " {0: 'marketing', 1: 'sales', 2: 'secretaty', 3: 'systems'} \n",
            " {0: '26k..30k', 1: '31k..35k', 2: '36k..40k', 3: '41k..45k', 4: '46k..50k', 5: '66k..70k'}\n"
          ],
          "name": "stdout"
        },
        {
          "output_type": "execute_result",
          "data": {
            "text/html": [
              "<div>\n",
              "<style scoped>\n",
              "    .dataframe tbody tr th:only-of-type {\n",
              "        vertical-align: middle;\n",
              "    }\n",
              "\n",
              "    .dataframe tbody tr th {\n",
              "        vertical-align: top;\n",
              "    }\n",
              "\n",
              "    .dataframe thead th {\n",
              "        text-align: right;\n",
              "    }\n",
              "</style>\n",
              "<table border=\"1\" class=\"dataframe\">\n",
              "  <thead>\n",
              "    <tr style=\"text-align: right;\">\n",
              "      <th></th>\n",
              "      <th>department</th>\n",
              "      <th>status</th>\n",
              "      <th>age</th>\n",
              "      <th>salary</th>\n",
              "      <th>count</th>\n",
              "    </tr>\n",
              "  </thead>\n",
              "  <tbody>\n",
              "    <tr>\n",
              "      <th>0</th>\n",
              "      <td>1</td>\n",
              "      <td>senior</td>\n",
              "      <td>2</td>\n",
              "      <td>4</td>\n",
              "      <td>30</td>\n",
              "    </tr>\n",
              "    <tr>\n",
              "      <th>1</th>\n",
              "      <td>1</td>\n",
              "      <td>senior</td>\n",
              "      <td>2</td>\n",
              "      <td>4</td>\n",
              "      <td>30</td>\n",
              "    </tr>\n",
              "    <tr>\n",
              "      <th>2</th>\n",
              "      <td>1</td>\n",
              "      <td>senior</td>\n",
              "      <td>2</td>\n",
              "      <td>4</td>\n",
              "      <td>30</td>\n",
              "    </tr>\n",
              "    <tr>\n",
              "      <th>3</th>\n",
              "      <td>1</td>\n",
              "      <td>senior</td>\n",
              "      <td>2</td>\n",
              "      <td>4</td>\n",
              "      <td>30</td>\n",
              "    </tr>\n",
              "    <tr>\n",
              "      <th>4</th>\n",
              "      <td>1</td>\n",
              "      <td>senior</td>\n",
              "      <td>2</td>\n",
              "      <td>4</td>\n",
              "      <td>30</td>\n",
              "    </tr>\n",
              "    <tr>\n",
              "      <th>...</th>\n",
              "      <td>...</td>\n",
              "      <td>...</td>\n",
              "      <td>...</td>\n",
              "      <td>...</td>\n",
              "      <td>...</td>\n",
              "    </tr>\n",
              "    <tr>\n",
              "      <th>160</th>\n",
              "      <td>2</td>\n",
              "      <td>junior</td>\n",
              "      <td>1</td>\n",
              "      <td>0</td>\n",
              "      <td>6</td>\n",
              "    </tr>\n",
              "    <tr>\n",
              "      <th>161</th>\n",
              "      <td>2</td>\n",
              "      <td>junior</td>\n",
              "      <td>1</td>\n",
              "      <td>0</td>\n",
              "      <td>6</td>\n",
              "    </tr>\n",
              "    <tr>\n",
              "      <th>162</th>\n",
              "      <td>2</td>\n",
              "      <td>junior</td>\n",
              "      <td>1</td>\n",
              "      <td>0</td>\n",
              "      <td>6</td>\n",
              "    </tr>\n",
              "    <tr>\n",
              "      <th>163</th>\n",
              "      <td>2</td>\n",
              "      <td>junior</td>\n",
              "      <td>1</td>\n",
              "      <td>0</td>\n",
              "      <td>6</td>\n",
              "    </tr>\n",
              "    <tr>\n",
              "      <th>164</th>\n",
              "      <td>2</td>\n",
              "      <td>junior</td>\n",
              "      <td>1</td>\n",
              "      <td>0</td>\n",
              "      <td>6</td>\n",
              "    </tr>\n",
              "  </tbody>\n",
              "</table>\n",
              "<p>165 rows × 5 columns</p>\n",
              "</div>"
            ],
            "text/plain": [
              "     department  status  age  salary  count\n",
              "0             1  senior    2       4     30\n",
              "1             1  senior    2       4     30\n",
              "2             1  senior    2       4     30\n",
              "3             1  senior    2       4     30\n",
              "4             1  senior    2       4     30\n",
              "..          ...     ...  ...     ...    ...\n",
              "160           2  junior    1       0      6\n",
              "161           2  junior    1       0      6\n",
              "162           2  junior    1       0      6\n",
              "163           2  junior    1       0      6\n",
              "164           2  junior    1       0      6\n",
              "\n",
              "[165 rows x 5 columns]"
            ]
          },
          "metadata": {
            "tags": []
          },
          "execution_count": 4
        }
      ]
    },
    {
      "cell_type": "markdown",
      "metadata": {
        "id": "QpmxAikK6PHC"
      },
      "source": [
        "(d) Make sure that df2 does not have the column count.\n"
      ]
    },
    {
      "cell_type": "code",
      "metadata": {
        "id": "rVkLQre85TyQ",
        "outputId": "d5781bc5-a74d-4e76-e858-622949f32563",
        "colab": {
          "base_uri": "https://localhost:8080/",
          "height": 415
        }
      },
      "source": [
        "df2 = df2.drop(\"count\",axis=1)\n",
        "df2"
      ],
      "execution_count": 5,
      "outputs": [
        {
          "output_type": "execute_result",
          "data": {
            "text/html": [
              "<div>\n",
              "<style scoped>\n",
              "    .dataframe tbody tr th:only-of-type {\n",
              "        vertical-align: middle;\n",
              "    }\n",
              "\n",
              "    .dataframe tbody tr th {\n",
              "        vertical-align: top;\n",
              "    }\n",
              "\n",
              "    .dataframe thead th {\n",
              "        text-align: right;\n",
              "    }\n",
              "</style>\n",
              "<table border=\"1\" class=\"dataframe\">\n",
              "  <thead>\n",
              "    <tr style=\"text-align: right;\">\n",
              "      <th></th>\n",
              "      <th>department</th>\n",
              "      <th>status</th>\n",
              "      <th>age</th>\n",
              "      <th>salary</th>\n",
              "    </tr>\n",
              "  </thead>\n",
              "  <tbody>\n",
              "    <tr>\n",
              "      <th>0</th>\n",
              "      <td>1</td>\n",
              "      <td>senior</td>\n",
              "      <td>2</td>\n",
              "      <td>4</td>\n",
              "    </tr>\n",
              "    <tr>\n",
              "      <th>1</th>\n",
              "      <td>1</td>\n",
              "      <td>senior</td>\n",
              "      <td>2</td>\n",
              "      <td>4</td>\n",
              "    </tr>\n",
              "    <tr>\n",
              "      <th>2</th>\n",
              "      <td>1</td>\n",
              "      <td>senior</td>\n",
              "      <td>2</td>\n",
              "      <td>4</td>\n",
              "    </tr>\n",
              "    <tr>\n",
              "      <th>3</th>\n",
              "      <td>1</td>\n",
              "      <td>senior</td>\n",
              "      <td>2</td>\n",
              "      <td>4</td>\n",
              "    </tr>\n",
              "    <tr>\n",
              "      <th>4</th>\n",
              "      <td>1</td>\n",
              "      <td>senior</td>\n",
              "      <td>2</td>\n",
              "      <td>4</td>\n",
              "    </tr>\n",
              "    <tr>\n",
              "      <th>...</th>\n",
              "      <td>...</td>\n",
              "      <td>...</td>\n",
              "      <td>...</td>\n",
              "      <td>...</td>\n",
              "    </tr>\n",
              "    <tr>\n",
              "      <th>160</th>\n",
              "      <td>2</td>\n",
              "      <td>junior</td>\n",
              "      <td>1</td>\n",
              "      <td>0</td>\n",
              "    </tr>\n",
              "    <tr>\n",
              "      <th>161</th>\n",
              "      <td>2</td>\n",
              "      <td>junior</td>\n",
              "      <td>1</td>\n",
              "      <td>0</td>\n",
              "    </tr>\n",
              "    <tr>\n",
              "      <th>162</th>\n",
              "      <td>2</td>\n",
              "      <td>junior</td>\n",
              "      <td>1</td>\n",
              "      <td>0</td>\n",
              "    </tr>\n",
              "    <tr>\n",
              "      <th>163</th>\n",
              "      <td>2</td>\n",
              "      <td>junior</td>\n",
              "      <td>1</td>\n",
              "      <td>0</td>\n",
              "    </tr>\n",
              "    <tr>\n",
              "      <th>164</th>\n",
              "      <td>2</td>\n",
              "      <td>junior</td>\n",
              "      <td>1</td>\n",
              "      <td>0</td>\n",
              "    </tr>\n",
              "  </tbody>\n",
              "</table>\n",
              "<p>165 rows × 4 columns</p>\n",
              "</div>"
            ],
            "text/plain": [
              "     department  status  age  salary\n",
              "0             1  senior    2       4\n",
              "1             1  senior    2       4\n",
              "2             1  senior    2       4\n",
              "3             1  senior    2       4\n",
              "4             1  senior    2       4\n",
              "..          ...     ...  ...     ...\n",
              "160           2  junior    1       0\n",
              "161           2  junior    1       0\n",
              "162           2  junior    1       0\n",
              "163           2  junior    1       0\n",
              "164           2  junior    1       0\n",
              "\n",
              "[165 rows x 4 columns]"
            ]
          },
          "metadata": {
            "tags": []
          },
          "execution_count": 5
        }
      ]
    },
    {
      "cell_type": "markdown",
      "metadata": {
        "id": "itoMzw3O6dw1"
      },
      "source": [
        "2. [25] Write Python code to use sklearn.tree.DecisionTreeClassifier to learn a decision tree\n",
        "using the df2 as the training data, and then use the decision tree to predict the status of a user\n",
        "provided unseen data, such as\n"
      ]
    },
    {
      "cell_type": "markdown",
      "metadata": {
        "id": "BDR4QKZU6f-8"
      },
      "source": [
        "t =< department : systems, status :?, age : 28, salary : 50K >"
      ]
    },
    {
      "cell_type": "markdown",
      "metadata": {
        "id": "_cfLIAIH6h24"
      },
      "source": [
        "Your program needs to convert the actual age and salary values into the codes for the corresponding ranges before using the decision tree to predict the status. Also, use the graphviz\n",
        "package to display the learned decision tree.\n"
      ]
    },
    {
      "cell_type": "code",
      "metadata": {
        "id": "hh-smUtFKGcc",
        "outputId": "41d34483-6904-41cb-f350-d3315a30eec6",
        "colab": {
          "base_uri": "https://localhost:8080/",
          "height": 52
        }
      },
      "source": [
        "def get_split_value(df,attribute,value):\n",
        "    variables = df1[attribute].unique() \n",
        "    for i in variables:\n",
        "        j,k = i.split('..')\n",
        "        if value >= int(j.rstrip('k')) and value <= int(k.strip('k')):\n",
        "            return i\n",
        "\n",
        "department = 'systems'\n",
        "age = 28\n",
        "salary = 50\n",
        "\n",
        "def get_codes(department,age,salary):\n",
        "    dep = list(department_cat.keys())[list(department_cat.values()).index(department)]\n",
        "    age = list(age_cat.keys())[list(age_cat.values()).index(get_split_value(df1,'age',age))]\n",
        "    salary = list(salary_cat.keys())[list(salary_cat.values()).index(get_split_value(df1,'salary',salary))]\n",
        "    return [dep,age,salary]\n",
        "print(\"Converted codes for department,age and salary are:\")\n",
        "get_codes(department,age,salary)"
      ],
      "execution_count": 6,
      "outputs": [
        {
          "output_type": "stream",
          "text": [
            "Converted codes for department,age and salary are:\n"
          ],
          "name": "stdout"
        },
        {
          "output_type": "execute_result",
          "data": {
            "text/plain": [
              "[3, 1, 4]"
            ]
          },
          "metadata": {
            "tags": []
          },
          "execution_count": 6
        }
      ]
    },
    {
      "cell_type": "code",
      "metadata": {
        "id": "nGg3milP6jfl",
        "outputId": "7eb3909b-1aad-4d4f-c170-7cba3e1c7e37",
        "colab": {
          "base_uri": "https://localhost:8080/",
          "height": 35
        }
      },
      "source": [
        "feature_cols = ['department','salary','age']\n",
        "X = df2[feature_cols] # Features\n",
        "y = df2.status # Target variable\n",
        "\n",
        "X_train, X_test, y_train, y_test = train_test_split(X, y, test_size=0.3, random_state=1)\n",
        "\n",
        "clf = DecisionTreeClassifier(random_state=0)\n",
        "clf = clf.fit(X_train,y_train)\n",
        "\n",
        "y_pred = clf.predict([get_codes(department,age,salary)])\n",
        "print(\"Predicted class using Decision Tree is: \",y_pred)\n",
        "\n"
      ],
      "execution_count": 7,
      "outputs": [
        {
          "output_type": "stream",
          "text": [
            "Predicted class using Decision Tree is:  ['junior']\n"
          ],
          "name": "stdout"
        }
      ]
    },
    {
      "cell_type": "code",
      "metadata": {
        "id": "oYJW73vjJ-cx",
        "outputId": "a45ac704-5223-468b-c29a-44d72cbe4d2e",
        "colab": {
          "base_uri": "https://localhost:8080/",
          "height": 808
        }
      },
      "source": [
        "from sklearn.tree import export_graphviz\n",
        "from sklearn.externals.six import StringIO  \n",
        "from IPython.display import Image  \n",
        "import pydotplus\n",
        "\n",
        "dot_data = StringIO()\n",
        "export_graphviz(clf, out_file=dot_data,  \n",
        "                filled=True, rounded=True,\n",
        "                special_characters=True,feature_names = feature_cols,class_names=['junior','senior'])\n",
        "graph = pydotplus.graph_from_dot_data(dot_data.getvalue())  \n",
        "graph.write_png('sales.png')\n",
        "Image(graph.create_png())"
      ],
      "execution_count": 8,
      "outputs": [
        {
          "output_type": "stream",
          "text": [
            "/usr/local/lib/python3.6/dist-packages/sklearn/externals/six.py:31: FutureWarning: The module is deprecated in version 0.21 and will be removed in version 0.23 since we've dropped support for Python 2.7. Please rely on the official version of six (https://pypi.org/project/six/).\n",
            "  \"(https://pypi.org/project/six/).\", FutureWarning)\n"
          ],
          "name": "stderr"
        },
        {
          "output_type": "execute_result",
          "data": {
            "image/png": "[encoded data removed]",
            "text/plain": [
              "<IPython.core.display.Image object>"
            ]
          },
          "metadata": {
            "tags": []
          },
          "execution_count": 8
        }
      ]
    },
    {
      "cell_type": "markdown",
      "metadata": {
        "id": "nvvwQJcu-u6G"
      },
      "source": [
        "3. [25] Write Python code to create another DataFrame df3 from df1 as follows.\n",
        "\n",
        "(a) Replicate rows as described above\n"
      ]
    },
    {
      "cell_type": "code",
      "metadata": {
        "id": "_Hls1t4bVSTl",
        "outputId": "05fc99a5-85ed-46af-d27d-78a06feb2c28",
        "colab": {
          "base_uri": "https://localhost:8080/",
          "height": 415
        }
      },
      "source": [
        "df3 = df1.loc[np.repeat(df1.index.values,df1['count'].to_numpy())].reset_index(drop = True)\n",
        "df3"
      ],
      "execution_count": 9,
      "outputs": [
        {
          "output_type": "execute_result",
          "data": {
            "text/html": [
              "<div>\n",
              "<style scoped>\n",
              "    .dataframe tbody tr th:only-of-type {\n",
              "        vertical-align: middle;\n",
              "    }\n",
              "\n",
              "    .dataframe tbody tr th {\n",
              "        vertical-align: top;\n",
              "    }\n",
              "\n",
              "    .dataframe thead th {\n",
              "        text-align: right;\n",
              "    }\n",
              "</style>\n",
              "<table border=\"1\" class=\"dataframe\">\n",
              "  <thead>\n",
              "    <tr style=\"text-align: right;\">\n",
              "      <th></th>\n",
              "      <th>department</th>\n",
              "      <th>status</th>\n",
              "      <th>age</th>\n",
              "      <th>salary</th>\n",
              "      <th>count</th>\n",
              "    </tr>\n",
              "  </thead>\n",
              "  <tbody>\n",
              "    <tr>\n",
              "      <th>0</th>\n",
              "      <td>sales</td>\n",
              "      <td>senior</td>\n",
              "      <td>31..35</td>\n",
              "      <td>46k..50k</td>\n",
              "      <td>30</td>\n",
              "    </tr>\n",
              "    <tr>\n",
              "      <th>1</th>\n",
              "      <td>sales</td>\n",
              "      <td>senior</td>\n",
              "      <td>31..35</td>\n",
              "      <td>46k..50k</td>\n",
              "      <td>30</td>\n",
              "    </tr>\n",
              "    <tr>\n",
              "      <th>2</th>\n",
              "      <td>sales</td>\n",
              "      <td>senior</td>\n",
              "      <td>31..35</td>\n",
              "      <td>46k..50k</td>\n",
              "      <td>30</td>\n",
              "    </tr>\n",
              "    <tr>\n",
              "      <th>3</th>\n",
              "      <td>sales</td>\n",
              "      <td>senior</td>\n",
              "      <td>31..35</td>\n",
              "      <td>46k..50k</td>\n",
              "      <td>30</td>\n",
              "    </tr>\n",
              "    <tr>\n",
              "      <th>4</th>\n",
              "      <td>sales</td>\n",
              "      <td>senior</td>\n",
              "      <td>31..35</td>\n",
              "      <td>46k..50k</td>\n",
              "      <td>30</td>\n",
              "    </tr>\n",
              "    <tr>\n",
              "      <th>...</th>\n",
              "      <td>...</td>\n",
              "      <td>...</td>\n",
              "      <td>...</td>\n",
              "      <td>...</td>\n",
              "      <td>...</td>\n",
              "    </tr>\n",
              "    <tr>\n",
              "      <th>160</th>\n",
              "      <td>secretaty</td>\n",
              "      <td>junior</td>\n",
              "      <td>26..30</td>\n",
              "      <td>26k..30k</td>\n",
              "      <td>6</td>\n",
              "    </tr>\n",
              "    <tr>\n",
              "      <th>161</th>\n",
              "      <td>secretaty</td>\n",
              "      <td>junior</td>\n",
              "      <td>26..30</td>\n",
              "      <td>26k..30k</td>\n",
              "      <td>6</td>\n",
              "    </tr>\n",
              "    <tr>\n",
              "      <th>162</th>\n",
              "      <td>secretaty</td>\n",
              "      <td>junior</td>\n",
              "      <td>26..30</td>\n",
              "      <td>26k..30k</td>\n",
              "      <td>6</td>\n",
              "    </tr>\n",
              "    <tr>\n",
              "      <th>163</th>\n",
              "      <td>secretaty</td>\n",
              "      <td>junior</td>\n",
              "      <td>26..30</td>\n",
              "      <td>26k..30k</td>\n",
              "      <td>6</td>\n",
              "    </tr>\n",
              "    <tr>\n",
              "      <th>164</th>\n",
              "      <td>secretaty</td>\n",
              "      <td>junior</td>\n",
              "      <td>26..30</td>\n",
              "      <td>26k..30k</td>\n",
              "      <td>6</td>\n",
              "    </tr>\n",
              "  </tbody>\n",
              "</table>\n",
              "<p>165 rows × 5 columns</p>\n",
              "</div>"
            ],
            "text/plain": [
              "    department  status     age    salary  count\n",
              "0        sales  senior  31..35  46k..50k     30\n",
              "1        sales  senior  31..35  46k..50k     30\n",
              "2        sales  senior  31..35  46k..50k     30\n",
              "3        sales  senior  31..35  46k..50k     30\n",
              "4        sales  senior  31..35  46k..50k     30\n",
              "..         ...     ...     ...       ...    ...\n",
              "160  secretaty  junior  26..30  26k..30k      6\n",
              "161  secretaty  junior  26..30  26k..30k      6\n",
              "162  secretaty  junior  26..30  26k..30k      6\n",
              "163  secretaty  junior  26..30  26k..30k      6\n",
              "164  secretaty  junior  26..30  26k..30k      6\n",
              "\n",
              "[165 rows x 5 columns]"
            ]
          },
          "metadata": {
            "tags": []
          },
          "execution_count": 9
        }
      ]
    },
    {
      "cell_type": "markdown",
      "metadata": {
        "id": "lL9Elfm0Vb-m"
      },
      "source": [
        "(b) Convert values in the age and salary columns to random values drawn from the specific\n",
        "range for each row. For example, suppose the age of a row is “31..35”, replace it by a\n",
        "random integer between 31 and 35 inclusively.\n"
      ]
    },
    {
      "cell_type": "code",
      "metadata": {
        "id": "P182a-gjWUxH",
        "outputId": "ec6bfba5-85c2-42bc-e10e-fd07970baa94",
        "colab": {
          "base_uri": "https://localhost:8080/",
          "height": 415
        }
      },
      "source": [
        "def get_random(value):\n",
        "    j,k = value.split('..')\n",
        "    ran = random.randint(int(j.rstrip('k')),int(k.strip('k')))\n",
        "    return ran\n",
        "for i in df3.index:\n",
        "    df3.loc[i,'salary'] = get_random(df3['salary'][i])\n",
        "    df3.loc[i,'age'] = get_random(df3['age'][i])\n",
        "df3"
      ],
      "execution_count": 10,
      "outputs": [
        {
          "output_type": "execute_result",
          "data": {
            "text/html": [
              "<div>\n",
              "<style scoped>\n",
              "    .dataframe tbody tr th:only-of-type {\n",
              "        vertical-align: middle;\n",
              "    }\n",
              "\n",
              "    .dataframe tbody tr th {\n",
              "        vertical-align: top;\n",
              "    }\n",
              "\n",
              "    .dataframe thead th {\n",
              "        text-align: right;\n",
              "    }\n",
              "</style>\n",
              "<table border=\"1\" class=\"dataframe\">\n",
              "  <thead>\n",
              "    <tr style=\"text-align: right;\">\n",
              "      <th></th>\n",
              "      <th>department</th>\n",
              "      <th>status</th>\n",
              "      <th>age</th>\n",
              "      <th>salary</th>\n",
              "      <th>count</th>\n",
              "    </tr>\n",
              "  </thead>\n",
              "  <tbody>\n",
              "    <tr>\n",
              "      <th>0</th>\n",
              "      <td>sales</td>\n",
              "      <td>senior</td>\n",
              "      <td>33</td>\n",
              "      <td>47</td>\n",
              "      <td>30</td>\n",
              "    </tr>\n",
              "    <tr>\n",
              "      <th>1</th>\n",
              "      <td>sales</td>\n",
              "      <td>senior</td>\n",
              "      <td>33</td>\n",
              "      <td>50</td>\n",
              "      <td>30</td>\n",
              "    </tr>\n",
              "    <tr>\n",
              "      <th>2</th>\n",
              "      <td>sales</td>\n",
              "      <td>senior</td>\n",
              "      <td>35</td>\n",
              "      <td>49</td>\n",
              "      <td>30</td>\n",
              "    </tr>\n",
              "    <tr>\n",
              "      <th>3</th>\n",
              "      <td>sales</td>\n",
              "      <td>senior</td>\n",
              "      <td>32</td>\n",
              "      <td>48</td>\n",
              "      <td>30</td>\n",
              "    </tr>\n",
              "    <tr>\n",
              "      <th>4</th>\n",
              "      <td>sales</td>\n",
              "      <td>senior</td>\n",
              "      <td>31</td>\n",
              "      <td>48</td>\n",
              "      <td>30</td>\n",
              "    </tr>\n",
              "    <tr>\n",
              "      <th>...</th>\n",
              "      <td>...</td>\n",
              "      <td>...</td>\n",
              "      <td>...</td>\n",
              "      <td>...</td>\n",
              "      <td>...</td>\n",
              "    </tr>\n",
              "    <tr>\n",
              "      <th>160</th>\n",
              "      <td>secretaty</td>\n",
              "      <td>junior</td>\n",
              "      <td>26</td>\n",
              "      <td>29</td>\n",
              "      <td>6</td>\n",
              "    </tr>\n",
              "    <tr>\n",
              "      <th>161</th>\n",
              "      <td>secretaty</td>\n",
              "      <td>junior</td>\n",
              "      <td>27</td>\n",
              "      <td>30</td>\n",
              "      <td>6</td>\n",
              "    </tr>\n",
              "    <tr>\n",
              "      <th>162</th>\n",
              "      <td>secretaty</td>\n",
              "      <td>junior</td>\n",
              "      <td>26</td>\n",
              "      <td>30</td>\n",
              "      <td>6</td>\n",
              "    </tr>\n",
              "    <tr>\n",
              "      <th>163</th>\n",
              "      <td>secretaty</td>\n",
              "      <td>junior</td>\n",
              "      <td>30</td>\n",
              "      <td>27</td>\n",
              "      <td>6</td>\n",
              "    </tr>\n",
              "    <tr>\n",
              "      <th>164</th>\n",
              "      <td>secretaty</td>\n",
              "      <td>junior</td>\n",
              "      <td>27</td>\n",
              "      <td>30</td>\n",
              "      <td>6</td>\n",
              "    </tr>\n",
              "  </tbody>\n",
              "</table>\n",
              "<p>165 rows × 5 columns</p>\n",
              "</div>"
            ],
            "text/plain": [
              "    department  status age salary  count\n",
              "0        sales  senior  33     47     30\n",
              "1        sales  senior  33     50     30\n",
              "2        sales  senior  35     49     30\n",
              "3        sales  senior  32     48     30\n",
              "4        sales  senior  31     48     30\n",
              "..         ...     ...  ..    ...    ...\n",
              "160  secretaty  junior  26     29      6\n",
              "161  secretaty  junior  27     30      6\n",
              "162  secretaty  junior  26     30      6\n",
              "163  secretaty  junior  30     27      6\n",
              "164  secretaty  junior  27     30      6\n",
              "\n",
              "[165 rows x 5 columns]"
            ]
          },
          "metadata": {
            "tags": []
          },
          "execution_count": 10
        }
      ]
    },
    {
      "cell_type": "markdown",
      "metadata": {
        "id": "6ix6eB46V4tM"
      },
      "source": [
        "(c) Perform the same encoding on column department"
      ]
    },
    {
      "cell_type": "code",
      "metadata": {
        "id": "UTlOXXVmV570",
        "outputId": "804c0b41-7230-4620-a985-a841a5443286",
        "colab": {
          "base_uri": "https://localhost:8080/",
          "height": 415
        }
      },
      "source": [
        "df3['department'] = df3['department'].astype('category')\n",
        "cat_columns = df3.select_dtypes(['category']).columns\n",
        "df3[cat_columns] = df3[cat_columns].apply(lambda x: x.cat.codes)\n",
        "df3"
      ],
      "execution_count": 11,
      "outputs": [
        {
          "output_type": "execute_result",
          "data": {
            "text/html": [
              "<div>\n",
              "<style scoped>\n",
              "    .dataframe tbody tr th:only-of-type {\n",
              "        vertical-align: middle;\n",
              "    }\n",
              "\n",
              "    .dataframe tbody tr th {\n",
              "        vertical-align: top;\n",
              "    }\n",
              "\n",
              "    .dataframe thead th {\n",
              "        text-align: right;\n",
              "    }\n",
              "</style>\n",
              "<table border=\"1\" class=\"dataframe\">\n",
              "  <thead>\n",
              "    <tr style=\"text-align: right;\">\n",
              "      <th></th>\n",
              "      <th>department</th>\n",
              "      <th>status</th>\n",
              "      <th>age</th>\n",
              "      <th>salary</th>\n",
              "      <th>count</th>\n",
              "    </tr>\n",
              "  </thead>\n",
              "  <tbody>\n",
              "    <tr>\n",
              "      <th>0</th>\n",
              "      <td>1</td>\n",
              "      <td>senior</td>\n",
              "      <td>33</td>\n",
              "      <td>47</td>\n",
              "      <td>30</td>\n",
              "    </tr>\n",
              "    <tr>\n",
              "      <th>1</th>\n",
              "      <td>1</td>\n",
              "      <td>senior</td>\n",
              "      <td>33</td>\n",
              "      <td>50</td>\n",
              "      <td>30</td>\n",
              "    </tr>\n",
              "    <tr>\n",
              "      <th>2</th>\n",
              "      <td>1</td>\n",
              "      <td>senior</td>\n",
              "      <td>35</td>\n",
              "      <td>49</td>\n",
              "      <td>30</td>\n",
              "    </tr>\n",
              "    <tr>\n",
              "      <th>3</th>\n",
              "      <td>1</td>\n",
              "      <td>senior</td>\n",
              "      <td>32</td>\n",
              "      <td>48</td>\n",
              "      <td>30</td>\n",
              "    </tr>\n",
              "    <tr>\n",
              "      <th>4</th>\n",
              "      <td>1</td>\n",
              "      <td>senior</td>\n",
              "      <td>31</td>\n",
              "      <td>48</td>\n",
              "      <td>30</td>\n",
              "    </tr>\n",
              "    <tr>\n",
              "      <th>...</th>\n",
              "      <td>...</td>\n",
              "      <td>...</td>\n",
              "      <td>...</td>\n",
              "      <td>...</td>\n",
              "      <td>...</td>\n",
              "    </tr>\n",
              "    <tr>\n",
              "      <th>160</th>\n",
              "      <td>2</td>\n",
              "      <td>junior</td>\n",
              "      <td>26</td>\n",
              "      <td>29</td>\n",
              "      <td>6</td>\n",
              "    </tr>\n",
              "    <tr>\n",
              "      <th>161</th>\n",
              "      <td>2</td>\n",
              "      <td>junior</td>\n",
              "      <td>27</td>\n",
              "      <td>30</td>\n",
              "      <td>6</td>\n",
              "    </tr>\n",
              "    <tr>\n",
              "      <th>162</th>\n",
              "      <td>2</td>\n",
              "      <td>junior</td>\n",
              "      <td>26</td>\n",
              "      <td>30</td>\n",
              "      <td>6</td>\n",
              "    </tr>\n",
              "    <tr>\n",
              "      <th>163</th>\n",
              "      <td>2</td>\n",
              "      <td>junior</td>\n",
              "      <td>30</td>\n",
              "      <td>27</td>\n",
              "      <td>6</td>\n",
              "    </tr>\n",
              "    <tr>\n",
              "      <th>164</th>\n",
              "      <td>2</td>\n",
              "      <td>junior</td>\n",
              "      <td>27</td>\n",
              "      <td>30</td>\n",
              "      <td>6</td>\n",
              "    </tr>\n",
              "  </tbody>\n",
              "</table>\n",
              "<p>165 rows × 5 columns</p>\n",
              "</div>"
            ],
            "text/plain": [
              "     department  status age salary  count\n",
              "0             1  senior  33     47     30\n",
              "1             1  senior  33     50     30\n",
              "2             1  senior  35     49     30\n",
              "3             1  senior  32     48     30\n",
              "4             1  senior  31     48     30\n",
              "..          ...     ...  ..    ...    ...\n",
              "160           2  junior  26     29      6\n",
              "161           2  junior  27     30      6\n",
              "162           2  junior  26     30      6\n",
              "163           2  junior  30     27      6\n",
              "164           2  junior  27     30      6\n",
              "\n",
              "[165 rows x 5 columns]"
            ]
          },
          "metadata": {
            "tags": []
          },
          "execution_count": 11
        }
      ]
    },
    {
      "cell_type": "markdown",
      "metadata": {
        "id": "jjO8GUZbWMpc"
      },
      "source": [
        "(d) Make sure there is no column count\n"
      ]
    },
    {
      "cell_type": "code",
      "metadata": {
        "id": "Uixx-QY2WOlP",
        "outputId": "6b8ca923-9950-41c9-9654-86eddf87fc7e",
        "colab": {
          "base_uri": "https://localhost:8080/",
          "height": 415
        }
      },
      "source": [
        "df3.drop(\"count\",axis=1,inplace = True)\n",
        "df3"
      ],
      "execution_count": 12,
      "outputs": [
        {
          "output_type": "execute_result",
          "data": {
            "text/html": [
              "<div>\n",
              "<style scoped>\n",
              "    .dataframe tbody tr th:only-of-type {\n",
              "        vertical-align: middle;\n",
              "    }\n",
              "\n",
              "    .dataframe tbody tr th {\n",
              "        vertical-align: top;\n",
              "    }\n",
              "\n",
              "    .dataframe thead th {\n",
              "        text-align: right;\n",
              "    }\n",
              "</style>\n",
              "<table border=\"1\" class=\"dataframe\">\n",
              "  <thead>\n",
              "    <tr style=\"text-align: right;\">\n",
              "      <th></th>\n",
              "      <th>department</th>\n",
              "      <th>status</th>\n",
              "      <th>age</th>\n",
              "      <th>salary</th>\n",
              "    </tr>\n",
              "  </thead>\n",
              "  <tbody>\n",
              "    <tr>\n",
              "      <th>0</th>\n",
              "      <td>1</td>\n",
              "      <td>senior</td>\n",
              "      <td>33</td>\n",
              "      <td>47</td>\n",
              "    </tr>\n",
              "    <tr>\n",
              "      <th>1</th>\n",
              "      <td>1</td>\n",
              "      <td>senior</td>\n",
              "      <td>33</td>\n",
              "      <td>50</td>\n",
              "    </tr>\n",
              "    <tr>\n",
              "      <th>2</th>\n",
              "      <td>1</td>\n",
              "      <td>senior</td>\n",
              "      <td>35</td>\n",
              "      <td>49</td>\n",
              "    </tr>\n",
              "    <tr>\n",
              "      <th>3</th>\n",
              "      <td>1</td>\n",
              "      <td>senior</td>\n",
              "      <td>32</td>\n",
              "      <td>48</td>\n",
              "    </tr>\n",
              "    <tr>\n",
              "      <th>4</th>\n",
              "      <td>1</td>\n",
              "      <td>senior</td>\n",
              "      <td>31</td>\n",
              "      <td>48</td>\n",
              "    </tr>\n",
              "    <tr>\n",
              "      <th>...</th>\n",
              "      <td>...</td>\n",
              "      <td>...</td>\n",
              "      <td>...</td>\n",
              "      <td>...</td>\n",
              "    </tr>\n",
              "    <tr>\n",
              "      <th>160</th>\n",
              "      <td>2</td>\n",
              "      <td>junior</td>\n",
              "      <td>26</td>\n",
              "      <td>29</td>\n",
              "    </tr>\n",
              "    <tr>\n",
              "      <th>161</th>\n",
              "      <td>2</td>\n",
              "      <td>junior</td>\n",
              "      <td>27</td>\n",
              "      <td>30</td>\n",
              "    </tr>\n",
              "    <tr>\n",
              "      <th>162</th>\n",
              "      <td>2</td>\n",
              "      <td>junior</td>\n",
              "      <td>26</td>\n",
              "      <td>30</td>\n",
              "    </tr>\n",
              "    <tr>\n",
              "      <th>163</th>\n",
              "      <td>2</td>\n",
              "      <td>junior</td>\n",
              "      <td>30</td>\n",
              "      <td>27</td>\n",
              "    </tr>\n",
              "    <tr>\n",
              "      <th>164</th>\n",
              "      <td>2</td>\n",
              "      <td>junior</td>\n",
              "      <td>27</td>\n",
              "      <td>30</td>\n",
              "    </tr>\n",
              "  </tbody>\n",
              "</table>\n",
              "<p>165 rows × 4 columns</p>\n",
              "</div>"
            ],
            "text/plain": [
              "     department  status age salary\n",
              "0             1  senior  33     47\n",
              "1             1  senior  33     50\n",
              "2             1  senior  35     49\n",
              "3             1  senior  32     48\n",
              "4             1  senior  31     48\n",
              "..          ...     ...  ..    ...\n",
              "160           2  junior  26     29\n",
              "161           2  junior  27     30\n",
              "162           2  junior  26     30\n",
              "163           2  junior  30     27\n",
              "164           2  junior  27     30\n",
              "\n",
              "[165 rows x 4 columns]"
            ]
          },
          "metadata": {
            "tags": []
          },
          "execution_count": 12
        }
      ]
    },
    {
      "cell_type": "markdown",
      "metadata": {
        "id": "V13MkWslWZMP"
      },
      "source": [
        "4. [25] Write Python code to use sklearn.naive_bayes to learn a Guassian Naive Bayes classifier\n",
        "using df3 as the training data, and use the learned predictive model to predict the status of a\n",
        "user provided unseen data, for example,\n",
        "\n",
        "t =< department : systems, status :?, age : 28, salary : 50K >\n",
        "\n",
        "Again, you need to encode the department."
      ]
    },
    {
      "cell_type": "code",
      "metadata": {
        "id": "ix7UvalNWq5U",
        "outputId": "3126c809-339e-4680-aee1-67a8ed654912",
        "colab": {
          "base_uri": "https://localhost:8080/",
          "height": 35
        }
      },
      "source": [
        "feature_cols = ['department','salary','age']\n",
        "X1 = df3[feature_cols] # Features\n",
        "y1 = df3.status # Target variable\n",
        "\n",
        "X_train1, X_test, y_train1, y_test = train_test_split(X1, y1, test_size=0.3, random_state=1)\n",
        "\n",
        "model = GaussianNB()\n",
        "model.fit(X_train1,y_train1)\n",
        "\n",
        "dep = list(department_cat.keys())[list(department_cat.values()).index('systems')]\n",
        "y_pred1 = model.predict([[dep,28,50]])\n",
        "print(\"Predicted class using Gaussian Naive bayes is: \",y_pred1)"
      ],
      "execution_count": 13,
      "outputs": [
        {
          "output_type": "stream",
          "text": [
            "Predicted class using Gaussian Naive bayes is:  ['senior']\n"
          ],
          "name": "stdout"
        }
      ]
    }
  ]
}