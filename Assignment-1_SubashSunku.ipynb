{
 "cells": [
  {
   "cell_type": "markdown",
   "metadata": {},
   "source": [
    "# Assignment 1\n",
    "\n",
    "Subash Sunku"
   ]
  },
  {
   "cell_type": "code",
   "execution_count": 1,
   "metadata": {},
   "outputs": [],
   "source": [
    "#Imports are prefered to be all at the top\n",
    "import pandas as pd\n",
    "import numpy as np\n",
    "from collections import Counter\n",
    "import math\n",
    "from scipy.spatial.distance import pdist, squareform\n",
    "from scipy.spatial import distance\n",
    "import sys"
   ]
  },
  {
   "cell_type": "markdown",
   "metadata": {},
   "source": [
    "# 1. [40] (Data Statistics) Write basic Python functions to obtain the following statistics and apply these functions to columns C, D, E, and F in the table."
   ]
  },
  {
   "cell_type": "code",
   "execution_count": 2,
   "metadata": {},
   "outputs": [
    {
     "data": {
      "text/html": [
       "<div>\n",
       "<style scoped>\n",
       "    .dataframe tbody tr th:only-of-type {\n",
       "        vertical-align: middle;\n",
       "    }\n",
       "\n",
       "    .dataframe tbody tr th {\n",
       "        vertical-align: top;\n",
       "    }\n",
       "\n",
       "    .dataframe thead th {\n",
       "        text-align: right;\n",
       "    }\n",
       "</style>\n",
       "<table border=\"1\" class=\"dataframe\">\n",
       "  <thead>\n",
       "    <tr style=\"text-align: right;\">\n",
       "      <th></th>\n",
       "      <th>Unnamed: 0</th>\n",
       "      <th>A</th>\n",
       "      <th>B</th>\n",
       "      <th>C</th>\n",
       "      <th>D</th>\n",
       "      <th>E</th>\n",
       "      <th>F</th>\n",
       "    </tr>\n",
       "  </thead>\n",
       "  <tbody>\n",
       "    <tr>\n",
       "      <td>0</td>\n",
       "      <td>0</td>\n",
       "      <td>a1</td>\n",
       "      <td>b1</td>\n",
       "      <td>964</td>\n",
       "      <td>-0.588637</td>\n",
       "      <td>9.755197</td>\n",
       "      <td>6</td>\n",
       "    </tr>\n",
       "    <tr>\n",
       "      <td>1</td>\n",
       "      <td>1</td>\n",
       "      <td>a1</td>\n",
       "      <td>b2</td>\n",
       "      <td>5342</td>\n",
       "      <td>-1.355422</td>\n",
       "      <td>31.337353</td>\n",
       "      <td>7</td>\n",
       "    </tr>\n",
       "    <tr>\n",
       "      <td>2</td>\n",
       "      <td>2</td>\n",
       "      <td>a1</td>\n",
       "      <td>b1</td>\n",
       "      <td>7265</td>\n",
       "      <td>-0.344939</td>\n",
       "      <td>0.603110</td>\n",
       "      <td>3</td>\n",
       "    </tr>\n",
       "    <tr>\n",
       "      <td>3</td>\n",
       "      <td>3</td>\n",
       "      <td>a2</td>\n",
       "      <td>b2</td>\n",
       "      <td>5787</td>\n",
       "      <td>-0.728955</td>\n",
       "      <td>10.148975</td>\n",
       "      <td>1</td>\n",
       "    </tr>\n",
       "    <tr>\n",
       "      <td>4</td>\n",
       "      <td>4</td>\n",
       "      <td>a1</td>\n",
       "      <td>b2</td>\n",
       "      <td>2889</td>\n",
       "      <td>1.196114</td>\n",
       "      <td>21.856450</td>\n",
       "      <td>2</td>\n",
       "    </tr>\n",
       "  </tbody>\n",
       "</table>\n",
       "</div>"
      ],
      "text/plain": [
       "   Unnamed: 0   A   B     C         D          E  F\n",
       "0           0  a1  b1   964 -0.588637   9.755197  6\n",
       "1           1  a1  b2  5342 -1.355422  31.337353  7\n",
       "2           2  a1  b1  7265 -0.344939   0.603110  3\n",
       "3           3  a2  b2  5787 -0.728955  10.148975  1\n",
       "4           4  a1  b2  2889  1.196114  21.856450  2"
      ]
     },
     "execution_count": 2,
     "metadata": {},
     "output_type": "execute_result"
    }
   ],
   "source": [
    "#Read CSV to Dataframe:\n",
    "df = pd.read_csv('hwk01.csv')\n",
    "#define mean function\n",
    "def df_mean(sr):\n",
    "    n = len(sr)\n",
    "    sumSet = sum(sr)\n",
    "    return round(sumSet / n,4)\n",
    "\n",
    "#define midrange function\n",
    "def df_midrange(sr):\n",
    "    mi = sr.min()\n",
    "    ma = sr.max()\n",
    "    return round(mi+ma/2,4)\n",
    "    \n",
    "#define mode function    \n",
    "def df_mode(sr):\n",
    "    n = len(sr) \n",
    "    sr = sr.to_list()\n",
    "    data = Counter(sr) \n",
    "    get_mode = dict(data) \n",
    "    mode = [k for k, v in get_mode.items() if v == max(list(data.values()))] \n",
    "\n",
    "    if len(mode) == n: \n",
    "        return \"No mode found\"\n",
    "    elif len(mode) == 1:\n",
    "        return \"Mode is: \" + ', '.join(map(str, mode)) + \" it's Unimodal\"\n",
    "    elif len(mode) == 2: \n",
    "        return \"Modes are: \" + ', '.join(map(str, mode)) + \" its's Bimodal\" \n",
    "    else: \n",
    "        return \"Modes are: \" + ', '.join(map(str, mode)) + \" its's Multimodal\" \n",
    "\n",
    "#define percentile function    \n",
    "def df_percentile(sr, percent, key=lambda x:x):\n",
    "    sr = sr.to_list()  \n",
    "    sr.sort()\n",
    "    k = (len(sr)-1) * percent\n",
    "    f = math.floor(k)\n",
    "    c = math.ceil(k)\n",
    "    if f == c:\n",
    "        return key(sr[int(k)])\n",
    "    d0 = key(sr[int(f)]) * (c-k)\n",
    "    d1 = key(sr[int(c)]) * (k-f)\n",
    "    return round(d0+d1,4)\n",
    "\n",
    "df.head(5)"
   ]
  },
  {
   "cell_type": "markdown",
   "metadata": {},
   "source": [
    "## 1.a The mean and the midrange."
   ]
  },
  {
   "cell_type": "code",
   "execution_count": 3,
   "metadata": {},
   "outputs": [
    {
     "name": "stdout",
     "output_type": "stream",
     "text": [
      "Mean for C: 5184.663\n",
      "Mean for D: -0.0348\n",
      "Mean for E: 15.4567\n",
      "Mean for F: 5.92\n",
      "Midrange for C: 5076.0\n",
      "Midrange for D: -1.663\n",
      "Midrange for E: 10.8582\n",
      "Midrange for F: 6.5\n"
     ]
    }
   ],
   "source": [
    "print(\"Mean for C: \" + str(df_mean(df['C'])))\n",
    "print(\"Mean for D: \" + str(df_mean(df['D'])))\n",
    "print(\"Mean for E: \" + str(df_mean(df['E'])))\n",
    "print(\"Mean for F: \" + str(df_mean(df['F'])))\n",
    "print(\"Midrange for C: \" + str(df_midrange(df['C'])))\n",
    "print(\"Midrange for D: \" + str(df_midrange(df['D'])))\n",
    "print(\"Midrange for E: \" + str(df_midrange(df['E'])))\n",
    "print(\"Midrange for F: \" + str(df_midrange(df['F'])))\n",
    "\n",
    "original_stdout = sys.stdout\n",
    "\n",
    "with open('output.txt', 'w') as f:\n",
    "    sys.stdout = f \n",
    "    print(\"Mean for C: \" + str(df_mean(df['C'])))\n",
    "    print(\"Mean for D: \" + str(df_mean(df['D'])))\n",
    "    print(\"Mean for E: \" + str(df_mean(df['E'])))\n",
    "    print(\"Mean for F: \" + str(df_mean(df['F'])))\n",
    "    print(\"Midrange for C: \" + str(df_midrange(df['C'])))\n",
    "    print(\"Midrange for D: \" + str(df_midrange(df['D'])))\n",
    "    print(\"Midrange for E: \" + str(df_midrange(df['E'])))\n",
    "    print(\"Midrange for F: \" + str(df_midrange(df['F'])))\n",
    "    sys.stdout = original_stdout"
   ]
  },
  {
   "cell_type": "markdown",
   "metadata": {},
   "source": [
    "## 1.b The mode and the modality (i.e., bimodal, trimodal, etc.)."
   ]
  },
  {
   "cell_type": "code",
   "execution_count": 4,
   "metadata": {},
   "outputs": [
    {
     "name": "stdout",
     "output_type": "stream",
     "text": [
      "Mode for C: Modes are: 6930, 589 its's Bimodal\n",
      "Mode for D: No mode found\n",
      "Mode for E: No mode found\n",
      "Mode for F: Mode is: 6 it's Unimodal\n"
     ]
    }
   ],
   "source": [
    "print(\"Mode for C: \" + str(df_mode(df['C'])))\n",
    "print(\"Mode for D: \" + str(df_mode(df['D'])))\n",
    "print(\"Mode for E: \" + str(df_mode(df['E'])))\n",
    "print(\"Mode for F: \" + str(df_mode(df['F'])))\n",
    "\n",
    "original_stdout = sys.stdout\n",
    "\n",
    "with open('output.txt', 'a') as f:\n",
    "    sys.stdout = f \n",
    "    print(\"Mode for C: \" + str(df_mode(df['C'])))\n",
    "    print(\"Mode for D: \" + str(df_mode(df['D'])))\n",
    "    print(\"Mode for E: \" + str(df_mode(df['E'])))\n",
    "    print(\"Mode for F: \" + str(df_mode(df['F'])))\n",
    "    sys.stdout = original_stdout"
   ]
  },
  {
   "cell_type": "markdown",
   "metadata": {},
   "source": [
    "## 1.c The five-number summary."
   ]
  },
  {
   "cell_type": "code",
   "execution_count": 5,
   "metadata": {},
   "outputs": [
    {
     "name": "stdout",
     "output_type": "stream",
     "text": [
      "Max of C: 9996\n",
      "Min of C: 78\n",
      "Median of C: 5180.0\n",
      "25th percentile of C: 2795.5\n",
      "75th percentile of C: 7557.25\n",
      "Max of D: 3.2708\n",
      "Min of D: -3.2984\n",
      "Median of D: -0.0454\n",
      "25th percentile of D: -0.7186\n",
      "75th percentile of D: 0.6769\n",
      "Max of E: 54.7065\n",
      "Min of E: -16.4951\n",
      "Median of E: 15.4411\n",
      "25th percentile of E: 8.5649\n",
      "75th percentile of E: 22.4839\n",
      "Max of F: 11\n",
      "Min of F: 1\n",
      "Median of F: 6.0\n",
      "25th percentile of F: 3.0\n",
      "75th percentile of F: 9.0\n"
     ]
    }
   ],
   "source": [
    "print(\"Max of C: \" + str(round(df['C'].max(),4)))\n",
    "print(\"Min of C: \" + str(round(df['C'].min(),4)))\n",
    "print(\"Median of C: \" + str(df_percentile(df['C'],percent = .5)))\n",
    "print(\"25th percentile of C: \" + str(df_percentile(df['C'],percent = .25)))\n",
    "print(\"75th percentile of C: \" + str(df_percentile(df['C'],percent = .75)))\n",
    "\n",
    "print(\"Max of D: \" + str(round(df['D'].max(),4)))\n",
    "print(\"Min of D: \" + str(round(df['D'].min(),4)))\n",
    "print(\"Median of D: \" + str(df_percentile(df['D'],percent = .5)))\n",
    "print(\"25th percentile of D: \" + str(df_percentile(df['D'],percent = .25)))\n",
    "print(\"75th percentile of D: \" + str(df_percentile(df['D'],percent = .75)))\n",
    "\n",
    "print(\"Max of E: \" + str(round(df['E'].max(),4)))\n",
    "print(\"Min of E: \" + str(round(df['E'].min(),4)))\n",
    "print(\"Median of E: \" + str(df_percentile(df['E'],percent = .5)))\n",
    "print(\"25th percentile of E: \" + str(df_percentile(df['E'],percent = .25)))\n",
    "print(\"75th percentile of E: \" + str(df_percentile(df['E'],percent = .75)))\n",
    "\n",
    "print(\"Max of F: \" + str(round(df['F'].max(),4)))\n",
    "print(\"Min of F: \" + str(round(df['F'].min(),4)))\n",
    "print(\"Median of F: \" + str(df_percentile(df['F'],percent = .5)))\n",
    "print(\"25th percentile of F: \" + str(df_percentile(df['F'],percent = .25)))\n",
    "print(\"75th percentile of F: \" + str(df_percentile(df['F'],percent = .75)))\n",
    "\n",
    "original_stdout = sys.stdout\n",
    "\n",
    "with open('output.txt', 'a') as f:\n",
    "    sys.stdout = f \n",
    "    print(\"Max of C: \" + str(round(df['C'].max(),4)))\n",
    "    print(\"Min of C: \" + str(round(df['C'].min(),4)))\n",
    "    print(\"Median of C: \" + str(df_percentile(df['C'],percent = .5)))\n",
    "    print(\"25th percentile of C: \" + str(df_percentile(df['C'],percent = .25)))\n",
    "    print(\"75th percentile of C: \" + str(df_percentile(df['C'],percent = .75)))\n",
    "\n",
    "    print(\"Max of D: \" + str(round(df['D'].max(),4)))\n",
    "    print(\"Min of D: \" + str(round(df['D'].min(),4)))\n",
    "    print(\"Median of D: \" + str(df_percentile(df['D'],percent = .5)))\n",
    "    print(\"25th percentile of D: \" + str(df_percentile(df['D'],percent = .25)))\n",
    "    print(\"75th percentile of D: \" + str(df_percentile(df['D'],percent = .75)))\n",
    "\n",
    "    print(\"Max of E: \" + str(round(df['E'].max(),4)))\n",
    "    print(\"Min of E: \" + str(round(df['E'].min(),4)))\n",
    "    print(\"Median of E: \" + str(df_percentile(df['E'],percent = .5)))\n",
    "    print(\"25th percentile of E: \" + str(df_percentile(df['E'],percent = .25)))\n",
    "    print(\"75th percentile of E: \" + str(df_percentile(df['E'],percent = .75)))\n",
    "\n",
    "    print(\"Max of F: \" + str(round(df['F'].max(),4)))\n",
    "    print(\"Min of F: \" + str(round(df['F'].min(),4)))\n",
    "    print(\"Median of F: \" + str(df_percentile(df['F'],percent = .5)))\n",
    "    print(\"25th percentile of F: \" + str(df_percentile(df['F'],percent = .25)))\n",
    "    print(\"75th percentile of F: \" + str(df_percentile(df['F'],percent = .75)))\n",
    "    sys.stdout = original_stdout"
   ]
  },
  {
   "cell_type": "markdown",
   "metadata": {},
   "source": [
    "## 1.d Compare to the corresponding functions provided by DataFrame"
   ]
  },
  {
   "cell_type": "code",
   "execution_count": 6,
   "metadata": {},
   "outputs": [
    {
     "name": "stdout",
     "output_type": "stream",
     "text": [
      "              C          D          E          F\n",
      "count  1000.000  1000.0000  1000.0000  1000.0000\n",
      "mean   5184.663    -0.0348    15.4567     5.9200\n",
      "std    2854.099     1.0016    10.0504     3.1221\n",
      "min      78.000    -3.2984   -16.4951     1.0000\n",
      "25%    2795.500    -0.7186     8.5649     3.0000\n",
      "50%    5180.000    -0.0454    15.4411     6.0000\n",
      "75%    7557.250     0.6769    22.4839     9.0000\n",
      "max    9996.000     3.2708    54.7065    11.0000\n"
     ]
    }
   ],
   "source": [
    "#comparing with inbuild function\n",
    "print(df[['C','D','E','F']].describe().round(4))\n",
    "\n",
    "original_stdout = sys.stdout\n",
    "\n",
    "with open('output.txt', 'a') as f:\n",
    "    sys.stdout = f \n",
    "    print(df[['C','D','E','F']].describe())\n",
    "    sys.stdout = original_stdout\n"
   ]
  },
  {
   "cell_type": "markdown",
   "metadata": {},
   "source": [
    "# 2. [30] (Similarity and Distance) Prompt the user for a tuple, say p = (a1, b2, 515, −0.876, 6.4253, 45), and perform the following tasks."
   ]
  },
  {
   "cell_type": "markdown",
   "metadata": {},
   "source": [
    "## 2.a Print the row in the DF that is the least dissimilar to p, where the dissimilarity is measured by different types of distances, including the Euclidean distance, Manhattan distance, supremum distance, and cosine similarity, using the set of columns C, D, E, and F"
   ]
  },
  {
   "cell_type": "code",
   "execution_count": 7,
   "metadata": {},
   "outputs": [
    {
     "name": "stdout",
     "output_type": "stream",
     "text": [
      "Enter a tuple with 6 elements: (a1, b2, 515, -0.876, 6.4253, 45)\n",
      "\n",
      "Least Dissimilar to p when using Euclidean Distance is Row: 529\n",
      "C    518.0000\n",
      "D      2.0931\n",
      "E      5.5301\n",
      "F     11.0000\n",
      "Name: 529, dtype: float64\n",
      "Distance: 34.2727\n",
      "\n",
      "Least Dissimilar to p when using Manhattan Distance is Row: 529\n",
      "C    518.0000\n",
      "D      2.0931\n",
      "E      5.5301\n",
      "F     11.0000\n",
      "Name: 529, dtype: float64\n",
      "Distance: 40.8643\n",
      "\n",
      "Least Dissimilar to p when using Supremum Distance is Row: 529\n",
      "C    518.0000\n",
      "D      2.0931\n",
      "E      5.5301\n",
      "F     11.0000\n",
      "Name: 529, dtype: float64\n",
      "Distance: 34.0\n",
      "\n",
      "Least Dissimilar to p when using Cosine Distance is Row: 207\n",
      "C    193.0000\n",
      "D      0.2251\n",
      "E     -3.9180\n",
      "F     11.0000\n",
      "Name: 207, dtype: float64\n",
      "Distance: 0.001\n"
     ]
    }
   ],
   "source": [
    "#define function for calculating euclidean distance\n",
    "def euclidean_distance(x,y):\n",
    "    return math.sqrt(sum(pow(a-b,2) for a, b in zip(x, y))).round(4)\n",
    "\n",
    "#define function for calculating Manhattan distance\n",
    "def manhattan_distance(x,y):\n",
    "    return sum(abs(a-b) for a,b in zip(x,y)).round(4)\n",
    "\n",
    "def nth_root(value, n_root):\n",
    "    root_value = 1/float(n_root)\n",
    "    return round (Decimal(value) ** Decimal(root_value),3)\n",
    "\n",
    "#define function for calculating Supremum distance\n",
    "def supremum_distance(x,y,p_value):\n",
    "    return nth_root(sum(pow(abs(a-b),p_value) for a,b in zip(x, y)),p_value)\n",
    "\n",
    "def square_rooted(x):\n",
    "    return round(sqrt(sum([a*a for a in x])),3).round(4)\n",
    "\n",
    "#define function for calculating Cosine distance  \n",
    "def cosine_similarity(x,y):\n",
    "    numerator = sum(a*b for a,b in zip(x,y))\n",
    "    denominator = square_rooted(x)*square_rooted(y)\n",
    "    return numerator/float(denominator).round(4)\n",
    "\n",
    "tup = input(\"Enter a tuple with 6 elements: \")\n",
    "tup = tup.lstrip('(').rstrip(')')\n",
    "tup = tup.split(',')\n",
    "df_main = df[['C','D','E','F']]\n",
    "df_main =df_main.astype(dtype= {\"C\":\"float64\",\"D\":\"float64\",\"E\":\"float64\",\"F\":\"float64\"})\n",
    "df_input = pd.DataFrame([[tup[2],tup[3],tup[4],tup[5]]],columns = ['C','D','E','F'])\n",
    "df_input =df_input.astype(np.float64)\n",
    "ary_eu = distance.cdist(df_main.iloc[:,:], df_input.iloc[:,:], metric='euclidean')\n",
    "ary_ma = distance.cdist(df_main.iloc[:,:], df_input.iloc[:,:], metric='cityblock')\n",
    "ary_ch = distance.cdist(df_main.iloc[:,:], df_input.iloc[:,:], metric='chebyshev')\n",
    "ary_co = distance.cdist(df_main.iloc[:,:], df_input.iloc[:,:], metric='cosine')\n",
    "print(\"\\nLeast Dissimilar to p when using Euclidean Distance is Row: \" + str(ary_eu.argmin()))\n",
    "print(df_main.iloc[ary_eu.argmin()].round(4))\n",
    "print(\"Distance: \" + str(round(ary_eu.min(),4)))\n",
    "print(\"\\nLeast Dissimilar to p when using Manhattan Distance is Row: \" + str(ary_ma.argmin()))\n",
    "print(df_main.iloc[ary_ma.argmin()].round(4))\n",
    "print(\"Distance: \" + str(round(ary_ma.min(),4)))\n",
    "print(\"\\nLeast Dissimilar to p when using Supremum Distance is Row: \" + str(ary_ch.argmin()))\n",
    "print(df_main.iloc[ary_ch.argmin()].round(4))\n",
    "print(\"Distance: \" + str(round(ary_ch.min(),4)))\n",
    "print(\"\\nLeast Dissimilar to p when using Cosine Distance is Row: \" + str(ary_co.argmin()))\n",
    "print(df_main.iloc[ary_co.argmin()].round(4))  \n",
    "print(\"Distance: \" + str(round(ary_co.min(),4)))     \n",
    "\n",
    "original_stdout = sys.stdout\n",
    "\n",
    "with open('output.txt', 'a') as f:\n",
    "    sys.stdout = f \n",
    "    print(\"\\nLeast Dissimilar to p when using Euclidean Distance is Row: \" + str(ary_eu.argmin()))\n",
    "    print(df_main.iloc[ary_eu.argmin()])\n",
    "    print(\"\\nLeast Dissimilar to p when using Manhattan Distance is Row: \" + str(ary_ma.argmin()))\n",
    "    print(df_main.iloc[ary_ma.argmin()])\n",
    "    print(\"\\nLeast Dissimilar to p when using Supremum Distance is Row: \" + str(ary_ch.argmin()))\n",
    "    print(df_main.iloc[ary_ch.argmin()])\n",
    "    print(\"\\nLeast Dissimilar to p when using Cosine Distance is Row: \" + str(ary_co.argmin()))\n",
    "    print(df_main.iloc[ary_co.argmin()])\n",
    "    sys.stdout = original_stdout"
   ]
  },
  {
   "cell_type": "markdown",
   "metadata": {},
   "source": [
    "## 2.b Normalize the data points by making the norm of each data point (under columns C, D, E, and F) equal to 1. That is, scale the values in columns C, D, E, and F, so that, for each row (c, d, e, f) we have p c 2 + d 2 + e 2 + f 2 = 1. Then, print the row in the DataFrame that has the shortest Euclidean distances from the normalized point p."
   ]
  },
  {
   "cell_type": "code",
   "execution_count": 8,
   "metadata": {},
   "outputs": [
    {
     "name": "stdout",
     "output_type": "stream",
     "text": [
      "Least Dissimilar to p when using Euclidean Distance after normalizing both dataframes is Row: 207\n",
      "C    0.9997\n",
      "D    0.0040\n",
      "E    0.0107\n",
      "F    0.0212\n",
      "Name: 529, dtype: float64\n"
     ]
    }
   ],
   "source": [
    "#df_main.div(df_main.pow(2).sum(axis = 0).pow(1/2),axis = 1)\n",
    "#df_main = df_main.pow(2)\n",
    "df_main_norm = df_main.div(np.sqrt((df_main.pow(2,axis = 1)).sum(axis=1)),axis = 0).round(4)\n",
    "#print(df_main_norm)\n",
    "df_input_norm = df_input.div(np.sqrt((df_input.pow(2,axis = 1)).sum(axis=1)),axis = 0).round(4)\n",
    "#print(df_input)\n",
    "ary = distance.cdist(df_main_norm.iloc[:,:], df_input_norm.iloc[:,:], metric='Euclidean')\n",
    "print(\"Least Dissimilar to p when using Euclidean Distance after normalizing both dataframes is Row: \" + str(ary.argmin()))\n",
    "print(df_main_norm.iloc[ary_eu.argmin()].round(4))\n",
    "#from sklearn import preprocessing\n",
    "#preprocessing.normalize(df_input, norm='l2',axis = 0)\n",
    "#df_main.div(df_main.apply(lambda x: np.sqrt(x.dot(x)), axis=0))\n",
    "#df_main.apply(lambda x: np.sqrt(x**2), axis=1)\n",
    "\n",
    "original_stdout = sys.stdout\n",
    "\n",
    "with open('output.txt', 'a') as f:\n",
    "    sys.stdout = f \n",
    "    print(\"Least Dissimilar to p when using Euclidean Distance after normalizing both dataframes is Row: \" + str(ary.argmin()))\n",
    "    print(df_main_norm.iloc[ary_eu.argmin()])\n",
    "    sys.stdout = original_stdout"
   ]
  },
  {
   "cell_type": "markdown",
   "metadata": {},
   "source": [
    "# 3. [30] (Normalization) Write functions to normalize the data in a given column using the following methods. Apply these functions on column C."
   ]
  },
  {
   "cell_type": "markdown",
   "metadata": {},
   "source": [
    "## 3.a Min-max normalization that transforms the values onto a given range, for example, [−1.0, 1.0]."
   ]
  },
  {
   "cell_type": "code",
   "execution_count": 9,
   "metadata": {},
   "outputs": [
    {
     "name": "stdout",
     "output_type": "stream",
     "text": [
      "Normalizing column C using Min-Max Scaling Normalization with range[-1.0,1.0]:\n",
      "          C\n",
      "0   -0.8213\n",
      "1    0.0615\n",
      "2    0.4493\n",
      "3    0.1512\n",
      "4   -0.4332\n",
      "..      ...\n",
      "995 -0.9226\n",
      "996  0.4533\n",
      "997  0.7443\n",
      "998 -0.5836\n",
      "999 -0.7534\n",
      "\n",
      "[1000 rows x 1 columns]\n"
     ]
    }
   ],
   "source": [
    "#define function to calculate min_max normalization\n",
    "def min_max_norm(df,rang):\n",
    "    return df.apply(lambda x: rang[0] + (x - x.min()) * (rang[1] - rang[0]) / (x.max() - x.min())).round(4)\n",
    "\n",
    "print(\"Normalizing column C using Min-Max Scaling Normalization with range[-1.0,1.0]:\")\n",
    "print(min_max_norm(df_main[['C']],rang = [-1.0,1.0]))\n",
    "\n",
    "original_stdout = sys.stdout\n",
    "\n",
    "with open('output.txt', 'a') as f:\n",
    "    sys.stdout = f \n",
    "    print(\"Normalizing column C using Min-Max Scaling Normalization with range[-1.0,1.0]:\")\n",
    "    print(min_max_norm(df_main[['C']],rang = [-1.0,1.0]))\n",
    "    sys.stdout = original_stdout"
   ]
  },
  {
   "cell_type": "markdown",
   "metadata": {},
   "source": [
    "## 3.b Z-score normalization"
   ]
  },
  {
   "cell_type": "code",
   "execution_count": 10,
   "metadata": {},
   "outputs": [
    {
     "name": "stdout",
     "output_type": "stream",
     "text": [
      "Normalizing column C using Z-Score Normalization:\n",
      "          C\n",
      "0   -1.4795\n",
      "1    0.0552\n",
      "2    0.7293\n",
      "3    0.2111\n",
      "4   -0.8047\n",
      "..      ...\n",
      "995 -1.6555\n",
      "996  0.7363\n",
      "997  1.2421\n",
      "998 -1.0663\n",
      "999 -1.3614\n",
      "\n",
      "[1000 rows x 1 columns]\n"
     ]
    }
   ],
   "source": [
    "#define function to calculate z score normalization\n",
    "def z_score_norm(df):\n",
    "    return ((df - df.mean())/df.std(ddof=0)).round(4)\n",
    "\n",
    "print(\"Normalizing column C using Z-Score Normalization:\")\n",
    "print(z_score_norm(df[['C']]))\n",
    "\n",
    "original_stdout = sys.stdout\n",
    "\n",
    "with open('output.txt', 'a') as f:\n",
    "    sys.stdout = f \n",
    "    print(\"Normalizing column C using Z-Score Normalization:\")\n",
    "    print(z_score_norm(df[['C']]))\n",
    "    sys.stdout = original_stdout"
   ]
  },
  {
   "cell_type": "markdown",
   "metadata": {},
   "source": [
    "## 3.c Decimal scaling normalization."
   ]
  },
  {
   "cell_type": "code",
   "execution_count": 11,
   "metadata": {},
   "outputs": [
    {
     "name": "stdout",
     "output_type": "stream",
     "text": [
      "Normalizing column C using Decimal Scaling Normalization:\n",
      "             C\n",
      "0     9.64e-24\n",
      "1    5.342e-23\n",
      "2    7.265e-23\n",
      "3    5.787e-23\n",
      "4    2.889e-23\n",
      "..         ...\n",
      "995   4.62e-24\n",
      "996  7.285e-23\n",
      "997  8.728e-23\n",
      "998  2.143e-23\n",
      "999  1.301e-23\n",
      "\n",
      "[1000 rows x 1 columns]\n"
     ]
    }
   ],
   "source": [
    "#define function for calculating decimal scaling normalization\n",
    "def dec_scale_norm(df):\n",
    "    p = df.max()\n",
    "    q = len(str(abs(p)))\n",
    "    return df/10**q\n",
    "\n",
    "print(\"Normalizing column C using Decimal Scaling Normalization:\")\n",
    "print(dec_scale_norm(df_main[['C']]))\n",
    "\n",
    "original_stdout = sys.stdout\n",
    "\n",
    "with open('output.txt', 'a') as f:\n",
    "    sys.stdout = f \n",
    "    print(\"Normalizing column C using Decimal Scaling Normalization:\")\n",
    "    print(dec_scale_norm(df_main[['C']]))\n",
    "    sys.stdout = original_stdout"
   ]
  },
  {
   "cell_type": "code",
   "execution_count": null,
   "metadata": {},
   "outputs": [],
   "source": []
  }
 ],
 "metadata": {
  "kernelspec": {
   "display_name": "Python 3",
   "language": "python",
   "name": "python3"
  },
  "language_info": {
   "codemirror_mode": {
    "name": "ipython",
    "version": 3
   },
   "file_extension": ".py",
   "mimetype": "text/x-python",
   "name": "python",
   "nbconvert_exporter": "python",
   "pygments_lexer": "ipython3",
   "version": "3.7.4"
  }
 },
 "nbformat": 4,
 "nbformat_minor": 2
}
