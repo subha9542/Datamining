{
  "nbformat": 4,
  "nbformat_minor": 0,
  "metadata": {
    "colab": {
      "name": "Data_mining_HW5.ipynb",
      "provenance": [],
      "collapsed_sections": [],
      "authorship_tag": "ABX9TyNKOuBnRX1LVgHBLuZkW7cM",
      "include_colab_link": true
    },
    "kernelspec": {
      "name": "python3",
      "display_name": "Python 3"
    }
  },
  "cells": [
    {
      "cell_type": "markdown",
      "metadata": {
        "id": "view-in-github",
        "colab_type": "text"
      },
      "source": [
        "<a href=\"https://colab.research.google.com/github/subha9542/Datamining/blob/master/Data_mining_HW5.ipynb\" target=\"_parent\"><img src=\"https://colab.research.google.com/assets/colab-badge.svg\" alt=\"Open In Colab\"/></a>"
      ]
    },
    {
      "cell_type": "code",
      "metadata": {
        "id": "8PQh04N5CVje"
      },
      "source": [
        "import pandas as pd\n",
        "import numpy as np\n",
        "import sys\n",
        "from itertools import combinations \n",
        "eps = np.finfo(float).eps\n",
        "from numpy import log2 as log\n",
        "from sklearn.tree import DecisionTreeClassifier # Import Decision Tree Classifier\n",
        "from sklearn.model_selection import train_test_split # Import train_test_split function\n",
        "from sklearn import metrics #Import scikit-learn metrics module for accuracy calculation"
      ],
      "execution_count": 4,
      "outputs": []
    },
    {
      "cell_type": "code",
      "metadata": {
        "id": "M-qNBHDtCcVW",
        "outputId": "04fb5af8-3472-4df0-e377-7c4390c61df3",
        "colab": {
          "base_uri": "https://localhost:8080/",
          "height": 243
        }
      },
      "source": [
        "!pwd\n",
        "df = pd.read_csv(\"HW5.csv\")\n",
        "df.head"
      ],
      "execution_count": 5,
      "outputs": [
        {
          "output_type": "stream",
          "text": [
            "/content\n"
          ],
          "name": "stdout"
        },
        {
          "output_type": "execute_result",
          "data": {
            "text/plain": [
              "<bound method NDFrame.head of    department  status     age    salary  count\n",
              "0       sales  senior  31..35  46k..50k     30\n",
              "1       sales  junior  26..30  26k..30k     40\n",
              "2       sales  junior  31..35  31k..35k     40\n",
              "3     systems  junior  21..25  46k..50k     20\n",
              "4     systems  senior  31..35  66k..70k      5\n",
              "5     systems  junior  26..30  46k..50k      3\n",
              "6     systems  senior  41..45  66k..70k      3\n",
              "7   marketing  senior  36..40  46k..50k     10\n",
              "8   marketing  junior  31..35  41k..45k      4\n",
              "9   secretary  senior  46..50  36k..40k      4\n",
              "10  secretary  junior  26..30  26k..30k      6>"
            ]
          },
          "metadata": {
            "tags": []
          },
          "execution_count": 5
        }
      ]
    },
    {
      "cell_type": "code",
      "metadata": {
        "id": "I3ooYiLmGZaM",
        "outputId": "f07eec14-4f9d-43fe-8299-45ae603cbd44",
        "colab": {
          "base_uri": "https://localhost:8080/",
          "height": 173
        }
      },
      "source": [
        "#https://medium.com/@rakendd/decision-tree-from-scratch-9e23bcfb4928\n",
        "def entropy(df,target_attribute):\n",
        "    entropy_node = 0  #Initialize Entropy\n",
        "    values = df[target_attribute].unique() \n",
        "    for value in values:\n",
        "        fraction = df.groupby(['status'])['count'].agg('sum')[value]/sum(df['count'])\n",
        "        entropy_node += -fraction*np.log2(fraction)\n",
        "    print(\"entropy: \",round(entropy_node,4))\n",
        "    return round(entropy_node,4)\n",
        "\n",
        "def info_gain(df,attribute,target_attribute):\n",
        "    target_variables = df[target_attribute].unique() \n",
        "    variables = df[attribute].unique()    \n",
        "    entropy_attribute = 0\n",
        "    for variable in variables:\n",
        "        entropy_each_feature = 0\n",
        "        for target_variable in target_variables:\n",
        "            attribute_num = df.groupby(['status',attribute],as_index=False)['count'].agg('sum')\n",
        "            num = attribute_num['count'][attribute_num[attribute]==variable][attribute_num[target_attribute]==target_variable].sum()\n",
        "            attribute_den = df.groupby([attribute],as_index=False)['count'].agg('sum')\n",
        "            den = attribute_den['count'][attribute_den[attribute]==variable].sum()\n",
        "            fraction = num/(den+eps)  \n",
        "            entropy_each_feature += fraction*log(fraction+eps) \n",
        "        fraction2 = den/df['count'].sum()\n",
        "        entropy_attribute += -fraction2*entropy_each_feature   #Sums up all the entropy ETaste\n",
        "    print(\"entropy_\",attribute,\":\",round(entropy_attribute,4))\n",
        "    return round(entropy(df,'status') - entropy_attribute,4)\n",
        "\n",
        "print(\"Info_gain = \",\"using department :\",info_gain(df,'department','status'))\n",
        "print(\"Info_gain = \",\"using age :\",info_gain(df,'age','status'))\n",
        "print(\"Info_gain = \",\"using salary :\",info_gain(df,'salary','status'))"
      ],
      "execution_count": 12,
      "outputs": [
        {
          "output_type": "stream",
          "text": [
            "entropy_ department : 0.8504\n",
            "entropy:  0.899\n",
            "Info_gain =  using department : 0.0486\n",
            "entropy_ age : 0.4743\n",
            "entropy:  0.899\n",
            "Info_gain =  using age : 0.4247\n",
            "entropy_ salary : 0.3615\n",
            "entropy:  0.899\n",
            "Info_gain =  using salary : 0.5375\n"
          ],
          "name": "stdout"
        }
      ]
    },
    {
      "cell_type": "code",
      "metadata": {
        "id": "oF9c1P72cVKD",
        "outputId": "c39c6e57-312e-4cc7-a503-db0c2c8926b0",
        "colab": {
          "base_uri": "https://localhost:8080/",
          "height": 225
        }
      },
      "source": [
        "def split_info(df,attribute):\n",
        "    values = df[attribute].unique() \n",
        "    split_info = 0\n",
        "    for value in values:\n",
        "        fraction = df.groupby([attribute])['count'].agg('sum')[value]/sum(df['count'])\n",
        "        split_info += -fraction*np.log2(fraction)\n",
        "    print(\"split_info_\",attribute, split_info)\n",
        "    return round(split_info,4)\n",
        "print(\"Gain_ratio_\",\"department\",round(info_gain(df,'department','status')/split_info(df,'department'),4))\n",
        "print(\"Gain_ratio_\",\"age\",round(info_gain(df,'age','status')/split_info(df,'age'),4))\n",
        "print(\"Gain_ratio_\",\"salary\",round(info_gain(df,'salary','status')/split_info(df,'salary'),4))"
      ],
      "execution_count": 14,
      "outputs": [
        {
          "output_type": "stream",
          "text": [
            "entropy_ department : 0.8504\n",
            "entropy:  0.899\n",
            "split_info_ department 1.3902500689889323\n",
            "Gain_ratio_ department 0.035\n",
            "entropy_ age : 0.4743\n",
            "entropy:  0.899\n",
            "split_info_ age 1.878248324449327\n",
            "Gain_ratio_ age 0.2261\n",
            "entropy_ salary : 0.3615\n",
            "entropy:  0.899\n",
            "split_info_ salary 2.0115973114905925\n",
            "Gain_ratio_ salary 0.2672\n"
          ],
          "name": "stdout"
        }
      ]
    },
    {
      "cell_type": "code",
      "metadata": {
        "id": "ej75-s0zkrw-",
        "outputId": "ffcab68a-88fd-480c-cf5b-1a982f9afc42",
        "colab": {
          "base_uri": "https://localhost:8080/",
          "height": 260
        }
      },
      "source": [
        "def get_list(df,attribute):\n",
        "  items = df[attribute].unique() \n",
        "  #print(items)\n",
        "  from itertools import combinations\n",
        "  tmp = []\n",
        "  for j in range(1,len(items)):\n",
        "    for i in combinations(items, j):\n",
        "      tmp.append(i)\n",
        "  return list(set(tmp))\n",
        "get_list(df,'department')\n"
      ],
      "execution_count": 8,
      "outputs": [
        {
          "output_type": "execute_result",
          "data": {
            "text/plain": [
              "[('marketing',),\n",
              " ('systems',),\n",
              " ('systems', 'marketing'),\n",
              " ('sales', 'secretary'),\n",
              " ('sales', 'marketing'),\n",
              " ('sales', 'systems', 'secretary'),\n",
              " ('systems', 'secretary'),\n",
              " ('sales', 'systems'),\n",
              " ('systems', 'marketing', 'secretary'),\n",
              " ('sales', 'marketing', 'secretary'),\n",
              " ('secretary',),\n",
              " ('sales', 'systems', 'marketing'),\n",
              " ('marketing', 'secretary'),\n",
              " ('sales',)]"
            ]
          },
          "metadata": {
            "tags": []
          },
          "execution_count": 8
        }
      ]
    },
    {
      "cell_type": "code",
      "metadata": {
        "id": "3qsq6zn3qRa9"
      },
      "source": [
        "def gini(df,attribute,target_attribute):\n",
        "    target_variables = df[target_attribute].unique() \n",
        "    all_variables = df[attribute].unique()  \n",
        "    entropy_attribute = 0\n",
        "    variables = get_list(df,attribute)\n",
        "    min = sys.maxsize\n",
        "    split = ''\n",
        "    for variable in variables:\n",
        "        variable = list(variable)\n",
        "        entropy_each_feature = 0\n",
        "        attribute_num = df.groupby([attribute],as_index=False)['count'].agg('sum')\n",
        "        num1 = 0\n",
        "        for i in variable:\n",
        "            num1 += attribute_num['count'][attribute_num[attribute] == i].sum()\n",
        "        #print(num1)\n",
        "        #for target_variable in target_variables:\n",
        "        attribute_num2 = df.groupby(['status',attribute],as_index=False)['count'].agg('sum')\n",
        "        num2 = 0\n",
        "        for i in variable:\n",
        "          num2 += attribute_num2['count'][attribute_num2[attribute]==i][attribute_num2[target_attribute]=='junior'].sum()\n",
        "        num3 = 0\n",
        "        for i in variable:\n",
        "          num3 += attribute_num2['count'][attribute_num2[attribute]==i][attribute_num2[target_attribute]=='senior'].sum()\n",
        "        #print(num1,num2,num3)\n",
        "        #print(variable)\n",
        "        remaining_variables = li_dif = [i for i in all_variables if i not in variable] \n",
        "        num4 = 0\n",
        "        for i in remaining_variables:\n",
        "            num4 += attribute_num['count'][attribute_num[attribute] == i].sum()\n",
        "        #print(num1)\n",
        "        #for target_variable in target_variables:\n",
        "        attribute_num2 = df.groupby(['status',attribute],as_index=False)['count'].agg('sum')\n",
        "        num5 = 0\n",
        "        for i in remaining_variables:\n",
        "          num5 += attribute_num2['count'][attribute_num2[attribute]==i][attribute_num2[target_attribute]=='junior'].sum()\n",
        "        num6 = 0\n",
        "        for i in remaining_variables:\n",
        "          num6 += attribute_num2['count'][attribute_num2[attribute]==i][attribute_num2[target_attribute]=='senior'].sum()\n",
        "        #print(num4,num5,num6)\n",
        "        #print(remaining_variables)\n",
        "        gini_index = (num1*(1 - (num2/num1)**2 - (num3/num1)**2) +  num4*(1 - (num5/num4)**2 - (num6/num4)**2))/sum(df['count'])\n",
        "        if gini_index < min:\n",
        "            min = gini_index\n",
        "            split = variable\n",
        "        print(\"gini split of\",variable,round(gini_index,4))\n",
        "    #print(min,split)\n",
        "    #return round(entropy(df,'status') - entropy_attribute,4)\n",
        "gini(df,'department','status')\n",
        "gini(df,'age','status')\n",
        "gini(df,'salary','status')  "
      ],
      "execution_count": null,
      "outputs": []
    },
    {
      "cell_type": "code",
      "metadata": {
        "id": "Bgw1HeYnuzQ9",
        "outputId": "01942baf-e132-4d32-fa54-2262c8057a81",
        "colab": {
          "base_uri": "https://localhost:8080/",
          "height": 572
        }
      },
      "source": [
        "def probability(df,attribute,target_attribute):\n",
        "    variables = df[attribute].unique() \n",
        "    target_variables = df[target_attribute].unique() \n",
        "    for i in target_variables:\n",
        "      for j in variables:\n",
        "        num = df.groupby(['status',attribute],as_index=False)['count'].agg('sum')\n",
        "        den = df.groupby(['status'],as_index=False)['count'].agg('sum')\n",
        "        p_a_t = num['count'][num[attribute]==j][num[target_attribute]==i].sum()/den['count'][den['status'] == i].sum()\n",
        "        print(\"Probability of\",attribute,j,\"given\",i,round(p_a_t,4))\n",
        "\n",
        "probability(df,'department','status')\n",
        "probability(df,'age','status')\n",
        "probability(df,'salary','status')"
      ],
      "execution_count": 23,
      "outputs": [
        {
          "output_type": "stream",
          "text": [
            "Probability of department sales given senior 0.5769\n",
            "Probability of department systems given senior 0.1538\n",
            "Probability of department marketing given senior 0.1923\n",
            "Probability of department secretary given senior 0.0769\n",
            "Probability of department sales given junior 0.708\n",
            "Probability of department systems given junior 0.2035\n",
            "Probability of department marketing given junior 0.0354\n",
            "Probability of department secretary given junior 0.0531\n",
            "Probability of age 31..35 given senior 0.6731\n",
            "Probability of age 26..30 given senior 0.0\n",
            "Probability of age 21..25 given senior 0.0\n",
            "Probability of age 41..45 given senior 0.0577\n",
            "Probability of age 36..40 given senior 0.1923\n",
            "Probability of age 46..50 given senior 0.0769\n",
            "Probability of age 31..35 given junior 0.3894\n",
            "Probability of age 26..30 given junior 0.4336\n",
            "Probability of age 21..25 given junior 0.177\n",
            "Probability of age 41..45 given junior 0.0\n",
            "Probability of age 36..40 given junior 0.0\n",
            "Probability of age 46..50 given junior 0.0\n",
            "Probability of salary 46k..50k given senior 0.7692\n",
            "Probability of salary 26k..30k given senior 0.0\n",
            "Probability of salary 31k..35k given senior 0.0\n",
            "Probability of salary 66k..70k given senior 0.1538\n",
            "Probability of salary 41k..45k given senior 0.0\n",
            "Probability of salary 36k..40k given senior 0.0769\n",
            "Probability of salary 46k..50k given junior 0.2035\n",
            "Probability of salary 26k..30k given junior 0.4071\n",
            "Probability of salary 31k..35k given junior 0.354\n",
            "Probability of salary 66k..70k given junior 0.0\n",
            "Probability of salary 41k..45k given junior 0.0354\n",
            "Probability of salary 36k..40k given junior 0.0\n"
          ],
          "name": "stdout"
        }
      ]
    },
    {
      "cell_type": "code",
      "metadata": {
        "id": "9fqogcG1weWQ",
        "outputId": "b0318a81-acb6-434c-a6da-89f70fa8f04a",
        "colab": {
          "base_uri": "https://localhost:8080/",
          "height": 35
        }
      },
      "source": [
        "def get_split_value(df,attribute,value):\n",
        "    variables = df[attribute].unique() \n",
        "    for i in variables:\n",
        "        j,k = i.split('..')\n",
        "        if value >= int(j.rstrip('k')) and value <= int(k.strip('k')):\n",
        "            return i\n",
        "print(get_split_value(df,'salary',35))"
      ],
      "execution_count": 48,
      "outputs": [
        {
          "output_type": "stream",
          "text": [
            "31k..35k\n"
          ],
          "name": "stdout"
        }
      ]
    },
    {
      "cell_type": "code",
      "metadata": {
        "id": "9G0GFxLDDxHm",
        "outputId": "7279d4fc-8f56-4765-8af5-54bea58c6f70",
        "colab": {
          "base_uri": "https://localhost:8080/",
          "height": 35
        }
      },
      "source": [
        "def single_probability(df,attribute,value,target):\n",
        "    num = df.groupby(['status',attribute],as_index=False)['count'].agg('sum')\n",
        "    den = df.groupby(['status'],as_index=False)['count'].agg('sum')\n",
        "    p_a_t = num['count'][num[attribute]==value][num['status']==target].sum()/den['count'][den['status'] == target].sum()\n",
        "    return p_a_t\n",
        "\n",
        "def def_status(df,department_attribute,age_attribute,salary_attribute):\n",
        "      age = get_split_value(df,'age',age_attribute)\n",
        "      salary = get_split_value(df,'salary',salary_attribute)\n",
        "      target_variables = df['status'].unique() \n",
        "      status_check = {}\n",
        "      for i in target_variables:\n",
        "          status_check[i] = single_probability(df,'age',age,i) * single_probability(df,'salary',salary,i) * single_probability(df,'department',department_attribute,i)\n",
        "      print(status_check)\n",
        "def_status(df,'systems',28,50)"
      ],
      "execution_count": 54,
      "outputs": [
        {
          "output_type": "stream",
          "text": [
            "{'senior': 0.0, 'junior': 0.01796455325640015}\n"
          ],
          "name": "stdout"
        }
      ]
    }
  ]
}