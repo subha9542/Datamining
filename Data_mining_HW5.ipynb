{
  "nbformat": 4,
  "nbformat_minor": 0,
  "metadata": {
    "colab": {
      "name": "Data_mining_HW5.ipynb",
      "provenance": [],
      "collapsed_sections": [],
      "authorship_tag": "ABX9TyMmfA1F/B7sMFGXJVg09wwj",
      "include_colab_link": true
    },
    "kernelspec": {
      "name": "python3",
      "display_name": "Python 3"
    }
  },
  "cells": [
    {
      "cell_type": "markdown",
      "metadata": {
        "id": "view-in-github",
        "colab_type": "text"
      },
      "source": [
        "<a href=\"https://colab.research.google.com/github/subha9542/Datamining/blob/master/Data_mining_HW5.ipynb\" target=\"_parent\"><img src=\"https://colab.research.google.com/assets/colab-badge.svg\" alt=\"Open In Colab\"/></a>"
      ]
    },
    {
      "cell_type": "code",
      "metadata": {
        "id": "8PQh04N5CVje"
      },
      "source": [
        "import pandas as pd\n",
        "import numpy as np\n",
        "eps = np.finfo(float).eps\n",
        "from numpy import log2 as log\n",
        "from sklearn.tree import DecisionTreeClassifier # Import Decision Tree Classifier\n",
        "from sklearn.model_selection import train_test_split # Import train_test_split function\n",
        "from sklearn import metrics #Import scikit-learn metrics module for accuracy calculation"
      ],
      "execution_count": 1,
      "outputs": []
    },
    {
      "cell_type": "code",
      "metadata": {
        "id": "M-qNBHDtCcVW",
        "outputId": "a9e1175b-f2a3-457f-df1d-b56638abdea3",
        "colab": {
          "base_uri": "https://localhost:8080/",
          "height": 219
        }
      },
      "source": [
        "!pwd\n",
        "df = pd.read_csv(\"HW5.csv\")\n",
        "df.head(5)"
      ],
      "execution_count": 2,
      "outputs": [
        {
          "output_type": "stream",
          "text": [
            "/content\n"
          ],
          "name": "stdout"
        },
        {
          "output_type": "execute_result",
          "data": {
            "text/html": [
              "<div>\n",
              "<style scoped>\n",
              "    .dataframe tbody tr th:only-of-type {\n",
              "        vertical-align: middle;\n",
              "    }\n",
              "\n",
              "    .dataframe tbody tr th {\n",
              "        vertical-align: top;\n",
              "    }\n",
              "\n",
              "    .dataframe thead th {\n",
              "        text-align: right;\n",
              "    }\n",
              "</style>\n",
              "<table border=\"1\" class=\"dataframe\">\n",
              "  <thead>\n",
              "    <tr style=\"text-align: right;\">\n",
              "      <th></th>\n",
              "      <th>department</th>\n",
              "      <th>status</th>\n",
              "      <th>age</th>\n",
              "      <th>salary</th>\n",
              "      <th>count</th>\n",
              "    </tr>\n",
              "  </thead>\n",
              "  <tbody>\n",
              "    <tr>\n",
              "      <th>0</th>\n",
              "      <td>sales</td>\n",
              "      <td>senior</td>\n",
              "      <td>31..35</td>\n",
              "      <td>46k..50k</td>\n",
              "      <td>30</td>\n",
              "    </tr>\n",
              "    <tr>\n",
              "      <th>1</th>\n",
              "      <td>sales</td>\n",
              "      <td>junior</td>\n",
              "      <td>26..30</td>\n",
              "      <td>26k..30k</td>\n",
              "      <td>40</td>\n",
              "    </tr>\n",
              "    <tr>\n",
              "      <th>2</th>\n",
              "      <td>sales</td>\n",
              "      <td>junior</td>\n",
              "      <td>31..35</td>\n",
              "      <td>31k..35k</td>\n",
              "      <td>40</td>\n",
              "    </tr>\n",
              "    <tr>\n",
              "      <th>3</th>\n",
              "      <td>systems</td>\n",
              "      <td>junior</td>\n",
              "      <td>21..25</td>\n",
              "      <td>46k..50k</td>\n",
              "      <td>20</td>\n",
              "    </tr>\n",
              "    <tr>\n",
              "      <th>4</th>\n",
              "      <td>systems</td>\n",
              "      <td>senior</td>\n",
              "      <td>31..35</td>\n",
              "      <td>66k..70k</td>\n",
              "      <td>5</td>\n",
              "    </tr>\n",
              "  </tbody>\n",
              "</table>\n",
              "</div>"
            ],
            "text/plain": [
              "  department  status     age    salary  count\n",
              "0      sales  senior  31..35  46k..50k     30\n",
              "1      sales  junior  26..30  26k..30k     40\n",
              "2      sales  junior  31..35  31k..35k     40\n",
              "3    systems  junior  21..25  46k..50k     20\n",
              "4    systems  senior  31..35  66k..70k      5"
            ]
          },
          "metadata": {
            "tags": []
          },
          "execution_count": 2
        }
      ]
    },
    {
      "cell_type": "code",
      "metadata": {
        "id": "I3ooYiLmGZaM",
        "outputId": "2d92bb8e-ad93-40ff-a3dc-b3b8245c5ccc",
        "colab": {
          "base_uri": "https://localhost:8080/",
          "height": 173
        }
      },
      "source": [
        "#https://medium.com/@rakendd/decision-tree-from-scratch-9e23bcfb4928\n",
        "def entropy(df,target_attribute):\n",
        "    entropy_node = 0  #Initialize Entropy\n",
        "    values = df[target_attribute].unique() \n",
        "    for value in values:\n",
        "        fraction = df.groupby(['status'])['count'].agg('sum')[value]/sum(df['count'])\n",
        "        entropy_node += -fraction*np.log2(fraction)\n",
        "    print(\"entropy: \",round(entropy_node,4))\n",
        "    return round(entropy_node,4)\n",
        "\n",
        "def info_gain(df,attribute,target_attribute):\n",
        "    target_variables = df[target_attribute].unique() \n",
        "    variables = df[attribute].unique()    \n",
        "    entropy_attribute = 0\n",
        "    for variable in variables:\n",
        "        entropy_each_feature = 0\n",
        "        for target_variable in target_variables:\n",
        "            attribute_num = df.groupby(['status',attribute],as_index=False)['count'].agg('sum')\n",
        "            num = attribute_num['count'][attribute_num[attribute]==variable][attribute_num[target_attribute]==target_variable].sum()\n",
        "            attribute_den = df.groupby([attribute],as_index=False)['count'].agg('sum')\n",
        "            den = attribute_den['count'][attribute_den[attribute]==variable].sum()\n",
        "            fraction = num/(den+eps)  \n",
        "            entropy_each_feature += fraction*log(fraction+eps) \n",
        "        fraction2 = den/df['count'].sum()\n",
        "        entropy_attribute += -fraction2*entropy_each_feature   #Sums up all the entropy ETaste\n",
        "    print(\"entropy_\",attribute,\":\",round(entropy_attribute,4))\n",
        "    return round(entropy(df,'status') - entropy_attribute,4)\n",
        "\n",
        "print(\"Info_gain = \",\"using department :\",info_gain(df,'department','status'))\n",
        "print(\"Info_gain = \",\"using age :\",info_gain(df,'age','status'))\n",
        "print(\"Info_gain = \",\"using salary :\",info_gain(df,'salary','status'))"
      ],
      "execution_count": 15,
      "outputs": [
        {
          "output_type": "stream",
          "text": [
            "entropy_ department : 0.8504\n",
            "entropy:  0.899\n",
            "Info_gain =  using department : 0.0486\n",
            "entropy_ age : 0.4743\n",
            "entropy:  0.899\n",
            "Info_gain =  using age : 0.4247\n",
            "entropy_ salary : 0.3615\n",
            "entropy:  0.899\n",
            "Info_gain =  using salary : 0.5375\n"
          ],
          "name": "stdout"
        }
      ]
    }
  ]
}