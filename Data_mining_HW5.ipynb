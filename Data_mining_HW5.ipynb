{
  "nbformat": 4,
  "nbformat_minor": 0,
  "metadata": {
    "colab": {
      "name": "Data_mining_HW5.ipynb",
      "provenance": [],
      "collapsed_sections": [],
      "authorship_tag": "ABX9TyPx1XB8ttgchJ8YRmaGMDwd",
      "include_colab_link": true
    },
    "kernelspec": {
      "name": "python3",
      "display_name": "Python 3"
    }
  },
  "cells": [
    {
      "cell_type": "markdown",
      "metadata": {
        "id": "view-in-github",
        "colab_type": "text"
      },
      "source": [
        "<a href=\"https://colab.research.google.com/github/subha9542/Datamining/blob/master/Data_mining_HW5.ipynb\" target=\"_parent\"><img src=\"https://colab.research.google.com/assets/colab-badge.svg\" alt=\"Open In Colab\"/></a>"
      ]
    },
    {
      "cell_type": "code",
      "metadata": {
        "id": "8PQh04N5CVje"
      },
      "source": [
        "import pandas as pd\n",
        "import numpy as np\n",
        "from itertools import combinations \n",
        "eps = np.finfo(float).eps\n",
        "from numpy import log2 as log\n",
        "from sklearn.tree import DecisionTreeClassifier # Import Decision Tree Classifier\n",
        "from sklearn.model_selection import train_test_split # Import train_test_split function\n",
        "from sklearn import metrics #Import scikit-learn metrics module for accuracy calculation"
      ],
      "execution_count": 9,
      "outputs": []
    },
    {
      "cell_type": "code",
      "metadata": {
        "id": "M-qNBHDtCcVW",
        "outputId": "aba16f87-e9de-4b53-d06e-72edef63049e",
        "colab": {
          "base_uri": "https://localhost:8080/",
          "height": 243
        }
      },
      "source": [
        "!pwd\n",
        "df = pd.read_csv(\"HW5.csv\")\n",
        "df.head"
      ],
      "execution_count": 2,
      "outputs": [
        {
          "output_type": "stream",
          "text": [
            "/content\n"
          ],
          "name": "stdout"
        },
        {
          "output_type": "execute_result",
          "data": {
            "text/plain": [
              "<bound method NDFrame.head of    department  status     age    salary  count\n",
              "0       sales  senior  31..35  46k..50k     30\n",
              "1       sales  junior  26..30  26k..30k     40\n",
              "2       sales  junior  31..35  31k..35k     40\n",
              "3     systems  junior  21..25  46k..50k     20\n",
              "4     systems  senior  31..35  66k..70k      5\n",
              "5     systems  junior  26..30  46k..50k      3\n",
              "6     systems  senior  41..45  66k..70k      3\n",
              "7   marketing  senior  36..40  46k..50k     10\n",
              "8   marketing  junior  31..35  41k..45k      4\n",
              "9   secretary  senior  46..50  36k..40k      4\n",
              "10  secretary  junior  26..30  26k..30k      6>"
            ]
          },
          "metadata": {
            "tags": []
          },
          "execution_count": 2
        }
      ]
    },
    {
      "cell_type": "code",
      "metadata": {
        "id": "I3ooYiLmGZaM",
        "outputId": "5c6f83ac-85ac-4624-80ba-ca7924f83488",
        "colab": {
          "base_uri": "https://localhost:8080/",
          "height": 173
        }
      },
      "source": [
        "#https://medium.com/@rakendd/decision-tree-from-scratch-9e23bcfb4928\n",
        "def entropy(df,target_attribute):\n",
        "    entropy_node = 0  #Initialize Entropy\n",
        "    values = df[target_attribute].unique() \n",
        "    for value in values:\n",
        "        fraction = df.groupby(['status'])['count'].agg('sum')[value]/sum(df['count'])\n",
        "        entropy_node += -fraction*np.log2(fraction)\n",
        "    print(\"entropy: \",round(entropy_node,4))\n",
        "    return round(entropy_node,4)\n",
        "\n",
        "def info_gain(df,attribute,target_attribute):\n",
        "    target_variables = df[target_attribute].unique() \n",
        "    variables = df[attribute].unique()    \n",
        "    entropy_attribute = 0\n",
        "    for variable in variables:\n",
        "        entropy_each_feature = 0\n",
        "        for target_variable in target_variables:\n",
        "            attribute_num = df.groupby(['status',attribute],as_index=False)['count'].agg('sum')\n",
        "            num = attribute_num['count'][attribute_num[attribute]==variable][attribute_num[target_attribute]==target_variable].sum()\n",
        "            attribute_den = df.groupby([attribute],as_index=False)['count'].agg('sum')\n",
        "            den = attribute_den['count'][attribute_den[attribute]==variable].sum()\n",
        "            fraction = num/(den+eps)  \n",
        "            entropy_each_feature += fraction*log(fraction+eps) \n",
        "        fraction2 = den/df['count'].sum()\n",
        "        entropy_attribute += -fraction2*entropy_each_feature   #Sums up all the entropy ETaste\n",
        "    print(\"entropy_\",attribute,\":\",round(entropy_attribute,4))\n",
        "    return round(entropy(df,'status') - entropy_attribute,4)\n",
        "\n",
        "print(\"Info_gain = \",\"using department :\",info_gain(df,'department','status'))\n",
        "print(\"Info_gain = \",\"using age :\",info_gain(df,'age','status'))\n",
        "print(\"Info_gain = \",\"using salary :\",info_gain(df,'salary','status'))"
      ],
      "execution_count": 3,
      "outputs": [
        {
          "output_type": "stream",
          "text": [
            "entropy_ department : 0.8504\n",
            "entropy:  0.899\n",
            "Info_gain =  using department : 0.0486\n",
            "entropy_ age : 0.4743\n",
            "entropy:  0.899\n",
            "Info_gain =  using age : 0.4247\n",
            "entropy_ salary : 0.3615\n",
            "entropy:  0.899\n",
            "Info_gain =  using salary : 0.5375\n"
          ],
          "name": "stdout"
        }
      ]
    },
    {
      "cell_type": "code",
      "metadata": {
        "id": "oF9c1P72cVKD",
        "outputId": "e0330a5e-56c4-494f-bc94-a8b08b00dd7c",
        "colab": {
          "base_uri": "https://localhost:8080/",
          "height": 173
        }
      },
      "source": [
        "def split_info(df,attribute):\n",
        "    values = df[attribute].unique() \n",
        "    split_info = 0\n",
        "    for value in values:\n",
        "        fraction = df.groupby([attribute])['count'].agg('sum')[value]/sum(df['count'])\n",
        "        split_info += -fraction*np.log2(fraction)\n",
        "    return round(split_info,4)\n",
        "print(\"Gain_ratio_\",\"department\",round(info_gain(df,'department','status')/split_info(df,'department'),4))\n",
        "print(\"Gain_ratio_\",\"age\",round(info_gain(df,'age','status')/split_info(df,'age'),4))\n",
        "print(\"Gain_ratio_\",\"salary\",round(info_gain(df,'salary','status')/split_info(df,'salary'),4))"
      ],
      "execution_count": 146,
      "outputs": [
        {
          "output_type": "stream",
          "text": [
            "entropy_ department : 0.8504\n",
            "entropy:  0.899\n",
            "Gain_ratio_ department 0.035\n",
            "entropy_ age : 0.4743\n",
            "entropy:  0.899\n",
            "Gain_ratio_ age 0.2261\n",
            "entropy_ salary : 0.3615\n",
            "entropy:  0.899\n",
            "Gain_ratio_ salary 0.2672\n"
          ],
          "name": "stdout"
        }
      ]
    },
    {
      "cell_type": "code",
      "metadata": {
        "id": "ej75-s0zkrw-",
        "outputId": "9305026a-7b28-48d7-e076-91455a9e4543",
        "colab": {
          "base_uri": "https://localhost:8080/",
          "height": 55
        }
      },
      "source": [
        "def get_list(df,attribute):\n",
        "  items = df[attribute].unique() \n",
        "  #print(items)\n",
        "  from itertools import combinations\n",
        "  tmp = []\n",
        "  for j in range(1,len(items)):\n",
        "    for i in combinations(items, j):\n",
        "      tmp.append(i)\n",
        "  return list(set(tmp))\n",
        "get_list(df,'department')\n"
      ],
      "execution_count": 130,
      "outputs": [
        {
          "output_type": "stream",
          "text": [
            "[\"('sales', 'marketing', 'secretary'),('sales', 'secretary')\", \"('sales', 'marketing', 'secretary'),('marketing', 'secretary')\", \"('sales', 'marketing', 'secretary'),('sales', 'systems')\", \"('sales', 'marketing', 'secretary'),('secretary',)\", \"('sales', 'marketing', 'secretary'),('sales', 'marketing')\", \"('sales', 'marketing', 'secretary'),('systems', 'secretary')\", \"('sales', 'marketing', 'secretary'),('systems', 'marketing')\", \"('sales', 'marketing', 'secretary'),('sales', 'systems', 'marketing')\", \"('sales', 'marketing', 'secretary'),('systems',)\", \"('sales', 'marketing', 'secretary'),('systems', 'marketing', 'secretary')\", \"('sales', 'marketing', 'secretary'),('marketing',)\", \"('sales', 'marketing', 'secretary'),('sales', 'systems', 'secretary')\", \"('sales', 'marketing', 'secretary'),('sales',)\", \"('sales', 'secretary'),('marketing', 'secretary')\", \"('sales', 'secretary'),('sales', 'systems')\", \"('sales', 'secretary'),('secretary',)\", \"('sales', 'secretary'),('sales', 'marketing')\", \"('sales', 'secretary'),('systems', 'secretary')\", \"('sales', 'secretary'),('systems', 'marketing')\", \"('sales', 'secretary'),('sales', 'systems', 'marketing')\", \"('sales', 'secretary'),('systems',)\", \"('sales', 'secretary'),('systems', 'marketing', 'secretary')\", \"('sales', 'secretary'),('marketing',)\", \"('sales', 'secretary'),('sales', 'systems', 'secretary')\", \"('sales', 'secretary'),('sales',)\", \"('marketing', 'secretary'),('sales', 'systems')\", \"('marketing', 'secretary'),('secretary',)\", \"('marketing', 'secretary'),('sales', 'marketing')\", \"('marketing', 'secretary'),('systems', 'secretary')\", \"('marketing', 'secretary'),('systems', 'marketing')\", \"('marketing', 'secretary'),('sales', 'systems', 'marketing')\", \"('marketing', 'secretary'),('systems',)\", \"('marketing', 'secretary'),('systems', 'marketing', 'secretary')\", \"('marketing', 'secretary'),('marketing',)\", \"('marketing', 'secretary'),('sales', 'systems', 'secretary')\", \"('marketing', 'secretary'),('sales',)\", \"('sales', 'systems'),('secretary',)\", \"('sales', 'systems'),('sales', 'marketing')\", \"('sales', 'systems'),('systems', 'secretary')\", \"('sales', 'systems'),('systems', 'marketing')\", \"('sales', 'systems'),('sales', 'systems', 'marketing')\", \"('sales', 'systems'),('systems',)\", \"('sales', 'systems'),('systems', 'marketing', 'secretary')\", \"('sales', 'systems'),('marketing',)\", \"('sales', 'systems'),('sales', 'systems', 'secretary')\", \"('sales', 'systems'),('sales',)\", \"('secretary',),('sales', 'marketing')\", \"('secretary',),('systems', 'secretary')\", \"('secretary',),('systems', 'marketing')\", \"('secretary',),('sales', 'systems', 'marketing')\", \"('secretary',),('systems',)\", \"('secretary',),('systems', 'marketing', 'secretary')\", \"('secretary',),('marketing',)\", \"('secretary',),('sales', 'systems', 'secretary')\", \"('secretary',),('sales',)\", \"('sales', 'marketing'),('systems', 'secretary')\", \"('sales', 'marketing'),('systems', 'marketing')\", \"('sales', 'marketing'),('sales', 'systems', 'marketing')\", \"('sales', 'marketing'),('systems',)\", \"('sales', 'marketing'),('systems', 'marketing', 'secretary')\", \"('sales', 'marketing'),('marketing',)\", \"('sales', 'marketing'),('sales', 'systems', 'secretary')\", \"('sales', 'marketing'),('sales',)\", \"('systems', 'secretary'),('systems', 'marketing')\", \"('systems', 'secretary'),('sales', 'systems', 'marketing')\", \"('systems', 'secretary'),('systems',)\", \"('systems', 'secretary'),('systems', 'marketing', 'secretary')\", \"('systems', 'secretary'),('marketing',)\", \"('systems', 'secretary'),('sales', 'systems', 'secretary')\", \"('systems', 'secretary'),('sales',)\", \"('systems', 'marketing'),('sales', 'systems', 'marketing')\", \"('systems', 'marketing'),('systems',)\", \"('systems', 'marketing'),('systems', 'marketing', 'secretary')\", \"('systems', 'marketing'),('marketing',)\", \"('systems', 'marketing'),('sales', 'systems', 'secretary')\", \"('systems', 'marketing'),('sales',)\", \"('sales', 'systems', 'marketing'),('systems',)\", \"('sales', 'systems', 'marketing'),('systems', 'marketing', 'secretary')\", \"('sales', 'systems', 'marketing'),('marketing',)\", \"('sales', 'systems', 'marketing'),('sales', 'systems', 'secretary')\", \"('sales', 'systems', 'marketing'),('sales',)\", \"('systems',),('systems', 'marketing', 'secretary')\", \"('systems',),('marketing',)\", \"('systems',),('sales', 'systems', 'secretary')\", \"('systems',),('sales',)\", \"('systems', 'marketing', 'secretary'),('marketing',)\", \"('systems', 'marketing', 'secretary'),('sales', 'systems', 'secretary')\", \"('systems', 'marketing', 'secretary'),('sales',)\", \"('marketing',),('sales', 'systems', 'secretary')\", \"('marketing',),('sales',)\", \"('sales', 'systems', 'secretary'),('sales',)\"]\n"
          ],
          "name": "stdout"
        }
      ]
    },
    {
      "cell_type": "code",
      "metadata": {
        "id": "3qsq6zn3qRa9",
        "outputId": "0e553b0b-ba68-4f33-d71a-6caff88088b5",
        "colab": {
          "base_uri": "https://localhost:8080/",
          "height": 1000
        }
      },
      "source": [
        "def gini(df,attribute,target_attribute):\n",
        "    target_variables = df[target_attribute].unique() \n",
        "    all_variables = df[attribute].unique()  \n",
        "    entropy_attribute = 0\n",
        "    variables = get_list(df,attribute)\n",
        "    for variable in variables:\n",
        "        variable = list(variable)\n",
        "        entropy_each_feature = 0\n",
        "        attribute_num = df.groupby([attribute],as_index=False)['count'].agg('sum')\n",
        "        num1 = 0\n",
        "        for i in variable:\n",
        "            num1 += attribute_num['count'][attribute_num[attribute] == i].sum()\n",
        "        #print(num1)\n",
        "        #for target_variable in target_variables:\n",
        "        attribute_num2 = df.groupby(['status',attribute],as_index=False)['count'].agg('sum')\n",
        "        num2 = 0\n",
        "        for i in variable:\n",
        "          num2 += attribute_num2['count'][attribute_num2[attribute]==i][attribute_num2[target_attribute]=='junior'].sum()\n",
        "        num3 = 0\n",
        "        for i in variable:\n",
        "          num3 += attribute_num2['count'][attribute_num2[attribute]==i][attribute_num2[target_attribute]=='senior'].sum()\n",
        "        #print(num1,num2,num3)\n",
        "        #print(variable)\n",
        "        remaining_variables = li_dif = [i for i in all_variables if i not in variable] \n",
        "        num4 = 0\n",
        "        for i in remaining_variables:\n",
        "            num4 += attribute_num['count'][attribute_num[attribute] == i].sum()\n",
        "        #print(num1)\n",
        "        #for target_variable in target_variables:\n",
        "        attribute_num2 = df.groupby(['status',attribute],as_index=False)['count'].agg('sum')\n",
        "        num5 = 0\n",
        "        for i in remaining_variables:\n",
        "          num5 += attribute_num2['count'][attribute_num2[attribute]==i][attribute_num2[target_attribute]=='junior'].sum()\n",
        "        num6 = 0\n",
        "        for i in remaining_variables:\n",
        "          num6 += attribute_num2['count'][attribute_num2[attribute]==i][attribute_num2[target_attribute]=='senior'].sum()\n",
        "        #print(num4,num5,num6)\n",
        "        #print(remaining_variables)\n",
        "        gini_index = (num1*(1 - (num2/num1)**2 - (num3/num1)**2) +  num4*(1 - (num5/num4)**2 - (num6/num4)**2))/sum(df['count'])\n",
        "        print(\"gini index of\",variable,round(gini_index,4))\n",
        "    #return round(entropy(df,'status') - entropy_attribute,4)\n",
        "gini(df,'department','status')\n",
        "gini(df,'age','status')\n",
        "gini(df,'salary','status')  "
      ],
      "execution_count": 144,
      "outputs": [
        {
          "output_type": "stream",
          "text": [
            "gini index of ['sales', 'marketing', 'secretary'] 0.4302\n",
            "gini index of ['sales', 'secretary'] 0.4263\n",
            "gini index of ['marketing', 'secretary'] 0.4072\n",
            "gini index of ['sales', 'systems'] 0.4072\n",
            "gini index of ['secretary'] 0.4307\n",
            "gini index of ['sales', 'marketing'] 0.4313\n",
            "gini index of ['systems', 'secretary'] 0.4313\n",
            "gini index of ['systems', 'marketing'] 0.4263\n",
            "gini index of ['sales', 'systems', 'marketing'] 0.4307\n",
            "gini index of ['systems'] 0.4302\n",
            "gini index of ['systems', 'marketing', 'secretary'] 0.4245\n",
            "gini index of ['marketing'] 0.4021\n",
            "gini index of ['sales', 'systems', 'secretary'] 0.4021\n",
            "gini index of ['sales'] 0.4245\n",
            "gini index of ['26..30', '46..50'] 0.3773\n",
            "gini index of ['31..35', '46..50'] 0.3832\n",
            "gini index of ['36..40', '46..50'] 0.3447\n",
            "gini index of ['21..25', '36..40', '46..50'] 0.4268\n",
            "gini index of ['41..45'] 0.4143\n",
            "gini index of ['31..35', '21..25'] 0.4272\n",
            "gini index of ['26..30', '21..25'] 0.2889\n",
            "gini index of ['31..35', '26..30', '46..50'] 0.4286\n",
            "gini index of ['31..35', '36..40', '46..50'] 0.3159\n",
            "gini index of ['26..30', '41..45'] 0.3707\n",
            "gini index of ['21..25', '41..45', '46..50'] 0.4304\n",
            "gini index of ['31..35', '21..25', '41..45', '36..40'] 0.3773\n",
            "gini index of ['31..35'] 0.4016\n",
            "gini index of ['31..35', '41..45', '46..50'] 0.3663\n",
            "gini index of ['31..35', '26..30', '21..25', '36..40', '46..50'] 0.4143\n",
            "gini index of ['31..35', '26..30', '41..45', '36..40'] 0.4242\n",
            "gini index of ['26..30', '36..40'] 0.408\n",
            "gini index of ['31..35', '26..30'] 0.4196\n",
            "gini index of ['31..35', '36..40'] 0.3467\n",
            "gini index of ['21..25', '41..45'] 0.4206\n",
            "gini index of ['41..45', '36..40', '46..50'] 0.3239\n",
            "gini index of ['26..30', '21..25', '36..40'] 0.3663\n",
            "gini index of ['26..30', '21..25', '41..45', '36..40', '46..50'] 0.4016\n",
            "gini index of ['31..35', '26..30', '21..25', '36..40'] 0.3901\n",
            "gini index of ['26..30', '36..40', '46..50'] 0.421\n",
            "gini index of ['31..35', '21..25', '41..45'] 0.421\n",
            "gini index of ['21..25', '46..50'] 0.4242\n",
            "gini index of ['31..35', '26..30', '41..45'] 0.4268\n",
            "gini index of ['26..30', '21..25', '46..50'] 0.3241\n",
            "gini index of ['31..35', '26..30', '21..25', '46..50'] 0.3514\n",
            "gini index of ['31..35', '26..30', '21..25', '41..45'] 0.3447\n",
            "gini index of ['46..50'] 0.4084\n",
            "gini index of ['31..35', '26..30', '21..25', '41..45', '46..50'] 0.3711\n",
            "gini index of ['26..30', '41..45', '36..40', '46..50'] 0.4272\n",
            "gini index of ['26..30', '41..45', '46..50'] 0.3945\n",
            "gini index of ['41..45', '36..40'] 0.3514\n",
            "gini index of ['31..35', '21..25', '41..45', '46..50'] 0.408\n",
            "gini index of ['21..25', '36..40'] 0.4315\n",
            "gini index of ['31..35', '41..45', '36..40', '46..50'] 0.2889\n",
            "gini index of ['26..30', '21..25', '41..45', '46..50'] 0.3467\n",
            "gini index of ['31..35', '26..30', '41..45', '36..40', '46..50'] 0.4043\n",
            "gini index of ['31..35', '26..30', '21..25', '41..45', '36..40'] 0.4084\n",
            "gini index of ['31..35', '21..25', '46..50'] 0.4183\n",
            "gini index of ['31..35', '21..25', '36..40', '46..50'] 0.3707\n",
            "gini index of ['31..35', '26..30', '36..40', '46..50'] 0.4206\n",
            "gini index of ['31..35', '21..25', '41..45', '36..40', '46..50'] 0.3478\n",
            "gini index of ['26..30', '21..25', '41..45', '36..40'] 0.3832\n",
            "gini index of ['31..35', '26..30', '36..40'] 0.4304\n",
            "gini index of ['26..30', '21..25', '41..45'] 0.3159\n",
            "gini index of ['21..25'] 0.4043\n",
            "gini index of ['21..25', '41..45', '36..40', '46..50'] 0.4196\n",
            "gini index of ['21..25', '41..45', '36..40'] 0.4286\n",
            "gini index of ['36..40'] 0.3711\n",
            "gini index of ['26..30'] 0.3478\n",
            "gini index of ['31..35', '21..25', '36..40'] 0.3945\n",
            "gini index of ['26..30', '21..25', '36..40', '46..50'] 0.3882\n",
            "gini index of ['41..45', '46..50'] 0.3901\n",
            "gini index of ['31..35', '26..30', '41..45', '46..50'] 0.4315\n",
            "gini index of ['31..35', '41..45', '36..40'] 0.3241\n",
            "gini index of ['26..30', '41..45', '36..40'] 0.4183\n",
            "gini index of ['31..35', '26..30', '21..25'] 0.3239\n",
            "gini index of ['31..35', '41..45'] 0.3882\n",
            "gini index of ['46k..50k', '66k..70k'] 0.2349\n",
            "gini index of ['46k..50k', '31k..35k', '41k..45k'] 0.419\n",
            "gini index of ['46k..50k', '31k..35k', '66k..70k'] 0.3751\n",
            "gini index of ['26k..30k', '41k..45k'] 0.3453\n",
            "gini index of ['31k..35k', '66k..70k', '41k..45k', '36k..40k'] 0.4212\n",
            "gini index of ['66k..70k'] 0.3839\n",
            "gini index of ['46k..50k', '66k..70k', '41k..45k'] 0.2558\n",
            "gini index of ['46k..50k'] 0.3054\n",
            "gini index of ['26k..30k', '31k..35k', '36k..40k'] 0.2558\n",
            "gini index of ['46k..50k', '31k..35k', '41k..45k', '36k..40k'] 0.4045\n",
            "gini index of ['46k..50k', '26k..30k', '31k..35k'] 0.3911\n",
            "gini index of ['46k..50k', '26k..30k', '41k..45k'] 0.4251\n",
            "gini index of ['46k..50k', '26k..30k', '66k..70k', '41k..45k'] 0.3951\n",
            "gini index of ['66k..70k', '41k..45k', '36k..40k'] 0.3911\n",
            "gini index of ['46k..50k', '26k..30k', '41k..45k', '36k..40k'] 0.4136\n",
            "gini index of ['26k..30k', '31k..35k'] 0.2154\n",
            "gini index of ['46k..50k', '26k..30k', '66k..70k', '36k..40k'] 0.3594\n",
            "gini index of ['46k..50k', '36k..40k'] 0.2721\n",
            "gini index of ['26k..30k', '66k..70k', '41k..45k', '36k..40k'] 0.4139\n",
            "gini index of ['26k..30k', '31k..35k', '66k..70k', '41k..45k', '36k..40k'] 0.3054\n",
            "gini index of ['46k..50k', '66k..70k', '36k..40k'] 0.1933\n",
            "gini index of ['31k..35k', '66k..70k', '36k..40k'] 0.4251\n",
            "gini index of ['46k..50k', '31k..35k', '66k..70k', '36k..40k'] 0.3453\n",
            "gini index of ['46k..50k', '26k..30k', '66k..70k'] 0.3876\n",
            "gini index of ['26k..30k', '31k..35k', '66k..70k', '41k..45k'] 0.2721\n",
            "gini index of ['46k..50k', '41k..45k', '36k..40k'] 0.2915\n",
            "gini index of ['36k..40k'] 0.4084\n",
            "gini index of ['31k..35k', '36k..40k'] 0.3951\n",
            "gini index of ['31k..35k'] 0.3681\n",
            "gini index of ['46k..50k', '26k..30k', '31k..35k', '66k..70k'] 0.4282\n",
            "gini index of ['46k..50k', '26k..30k', '31k..35k', '66k..70k', '36k..40k'] 0.4267\n",
            "gini index of ['46k..50k', '26k..30k', '36k..40k'] 0.4077\n",
            "gini index of ['46k..50k', '26k..30k'] 0.4212\n",
            "gini index of ['26k..30k', '66k..70k'] 0.4045\n",
            "gini index of ['26k..30k', '31k..35k', '41k..45k'] 0.1933\n",
            "gini index of ['26k..30k', '31k..35k', '66k..70k'] 0.2915\n",
            "gini index of ['46k..50k', '26k..30k', '66k..70k', '41k..45k', '36k..40k'] 0.3681\n",
            "gini index of ['46k..50k', '41k..45k'] 0.323\n",
            "gini index of ['31k..35k', '66k..70k', '41k..45k'] 0.4077\n",
            "gini index of ['26k..30k', '66k..70k', '41k..45k'] 0.3976\n",
            "gini index of ['26k..30k'] 0.3549\n",
            "gini index of ['46k..50k', '31k..35k', '36k..40k'] 0.3976\n",
            "gini index of ['46k..50k', '26k..30k', '31k..35k', '41k..45k'] 0.3581\n",
            "gini index of ['26k..30k', '31k..35k', '41k..45k', '36k..40k'] 0.2349\n",
            "gini index of ['46k..50k', '31k..35k'] 0.4139\n",
            "gini index of ['46k..50k', '66k..70k', '41k..45k', '36k..40k'] 0.2154\n",
            "gini index of ['26k..30k', '36k..40k'] 0.3836\n",
            "gini index of ['41k..45k', '36k..40k'] 0.4282\n",
            "gini index of ['46k..50k', '26k..30k', '31k..35k', '66k..70k', '41k..45k'] 0.4084\n",
            "gini index of ['46k..50k', '31k..35k', '66k..70k', '41k..45k', '36k..40k'] 0.3549\n",
            "gini index of ['41k..45k'] 0.4267\n",
            "gini index of ['26k..30k', '66k..70k', '36k..40k'] 0.419\n",
            "gini index of ['66k..70k', '36k..40k'] 0.3581\n",
            "gini index of ['46k..50k', '26k..30k', '31k..35k', '36k..40k'] 0.4123\n",
            "gini index of ['26k..30k', '31k..35k', '66k..70k', '36k..40k'] 0.323\n",
            "gini index of ['46k..50k', '31k..35k', '66k..70k', '41k..45k'] 0.3836\n",
            "gini index of ['31k..35k', '66k..70k'] 0.4136\n",
            "gini index of ['46k..50k', '26k..30k', '31k..35k', '41k..45k', '36k..40k'] 0.3839\n",
            "gini index of ['26k..30k', '41k..45k', '36k..40k'] 0.3751\n",
            "gini index of ['31k..35k', '41k..45k'] 0.3594\n",
            "gini index of ['31k..35k', '41k..45k', '36k..40k'] 0.3876\n",
            "gini index of ['66k..70k', '41k..45k'] 0.4123\n"
          ],
          "name": "stdout"
        }
      ]
    },
    {
      "cell_type": "code",
      "metadata": {
        "id": "Bgw1HeYnuzQ9"
      },
      "source": [
        ""
      ],
      "execution_count": 146,
      "outputs": []
    },
    {
      "cell_type": "code",
      "metadata": {
        "id": "9fqogcG1weWQ"
      },
      "source": [
        "\n",
        "\t"
      ],
      "execution_count": 146,
      "outputs": []
    }
  ]
}