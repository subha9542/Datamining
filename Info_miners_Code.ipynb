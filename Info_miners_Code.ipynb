{
  "nbformat": 4,
  "nbformat_minor": 0,
  "metadata": {
    "colab": {
      "name": "Info_miners_Code.ipynb",
      "provenance": [],
      "collapsed_sections": [
        "qiyUHZ-e0AP6",
        "SM_p06xb0Vo3",
        "0WXAdfJI0fdT",
        "5rGAGvbFE5Q5",
        "QWb90_i7F1HX",
        "X4Pnjn_CL6w_",
        "3Nq-LZxL3svS",
        "f6lzL69V38IS",
        "0O27_R-dS43N",
        "0fiTf_7k4u6-"
      ],
      "include_colab_link": true
    },
    "kernelspec": {
      "display_name": "Python 3",
      "name": "python3"
    }
  },
  "cells": [
    {
      "cell_type": "markdown",
      "metadata": {
        "id": "view-in-github",
        "colab_type": "text"
      },
      "source": [
        "<a href=\"https://colab.research.google.com/github/subha9542/Datamining/blob/master/Info_miners_Code.ipynb\" target=\"_parent\"><img src=\"https://colab.research.google.com/assets/colab-badge.svg\" alt=\"Open In Colab\"/></a>"
      ]
    },
    {
      "cell_type": "markdown",
      "metadata": {
        "id": "qiyUHZ-e0AP6"
      },
      "source": [
        "## Importing required libraries and defining Utility functions:"
      ]
    },
    {
      "cell_type": "code",
      "metadata": {
        "id": "WlYSBSST_uQP"
      },
      "source": [
        "# Importing library \n",
        "import math \n",
        "import random \n",
        "import csv \n",
        "import numpy as np\n",
        "import pandas as pd\n",
        "import itertools\n",
        "import numpy as np\n",
        "import matplotlib.pyplot as plt\n",
        "from random import seed\n",
        "from random import randrange\n",
        "from csv import reader\n",
        "from sklearn.metrics import confusion_matrix\n",
        "from sklearn.metrics import classification_report\n",
        "from sklearn.utils import shuffle\n",
        "from sklearn.preprocessing import MinMaxScaler\n",
        "from sklearn.model_selection import train_test_split as tts\n",
        "from sklearn.metrics import accuracy_score, recall_score, precision_score\n",
        "from sklearn.model_selection import train_test_split \n",
        "from sklearn import datasets\n",
        "from sklearn import metrics\n",
        "from sklearn.naive_bayes import GaussianNB\n",
        "from sklearn.tree import DecisionTreeClassifier\n",
        "from sklearn.svm import SVC\n",
        "from google.colab import files\n",
        "import matplotlib.pyplot as plt\n",
        "\n",
        "filename = 'diabetes_2.csv'"
      ],
      "execution_count": 1,
      "outputs": []
    },
    {
      "cell_type": "code",
      "metadata": {
        "id": "3XYkI9C717pH"
      },
      "source": [
        "#utility functions\n",
        "def plot_confusion_matrix(cm, title='Confusion matrix', cmap=plt.cm.Oranges):\n",
        "    plt.imshow(cm, interpolation='nearest', cmap=cmap)\n",
        "    plt.title(title)\n",
        "    plt.colorbar()\n",
        "    tick_marks = np.arange(cm.shape[1])\n",
        "    plt.xticks(tick_marks, rotation=45)\n",
        "    ax = plt.gca()\n",
        "    ax.set_xticklabels((ax.get_xticks() +1).astype(str))\n",
        "    plt.yticks(tick_marks)\n",
        "\n",
        "    thresh = cm.max() / 2.\n",
        "    for i, j in itertools.product(range(cm.shape[0]), range(cm.shape[1])):\n",
        "        plt.text(j, i, format(cm[i, j], '.1f'),\n",
        "                 horizontalalignment=\"center\",\n",
        "                 color=\"white\" if cm[i, j] > thresh else \"black\")\n",
        "\n",
        "    plt.tight_layout()\n",
        "    plt.ylabel('True label')\n",
        "    plt.xlabel('Predicted label')\n",
        "\n",
        "\n",
        "def get_classification_report(y_test, y_pred):\n",
        "    report = classification_report(y_test, y_pred, output_dict=True)\n",
        "    df_classification_report = pd.DataFrame(report).iloc[:,:2]\n",
        "    return df_classification_report"
      ],
      "execution_count": 2,
      "outputs": []
    },
    {
      "cell_type": "markdown",
      "metadata": {
        "id": "SM_p06xb0Vo3"
      },
      "source": [
        "## Algorithms from scratch"
      ]
    },
    {
      "cell_type": "markdown",
      "metadata": {
        "id": "0WXAdfJI0fdT"
      },
      "source": [
        "### Decision Tree Algorithm"
      ]
    },
    {
      "cell_type": "code",
      "metadata": {
        "id": "FJUwF0520e1C"
      },
      "source": [
        "def implement_decision_tree():\n",
        "\t\t# Load a CSV file\n",
        "\t\tdef load_csv(filename):\n",
        "\t\t\tfile = open(filename, \"rt\")\n",
        "\t\t\tlines = reader(file)\n",
        "\t\t\tdataset = list(lines)\n",
        "\t\t\treturn dataset\n",
        "\t\t\n",
        "\t\t# Split a dataset into k folds\n",
        "\t\tdef cross_validation_split(dataset, n_folds):\n",
        "\t\t\tdataset_split = list()\n",
        "\t\t\tdataset_copy = list(dataset)\n",
        "\t\t\tfold_size = int(len(dataset) / n_folds)\n",
        "\t\t\tfor i in range(n_folds):\n",
        "\t\t\t\tfold = list()\n",
        "\t\t\t\twhile len(fold) < fold_size:\n",
        "\t\t\t\t\tindex = randrange(len(dataset_copy))\n",
        "\t\t\t\t\tfold.append(dataset_copy.pop(index))\n",
        "\t\t\t\tdataset_split.append(fold)\n",
        "\t\t\treturn dataset_split\n",
        "\t\t\n",
        "\t\t# Calculate accuracy percentage\n",
        "\t\tdef accuracy_metric(actual, predicted):\n",
        "\t\t\tcorrect = 0\n",
        "\t\t\tfor i in range(len(actual)):\n",
        "\t\t\t\tif actual[i] == predicted[i]:\n",
        "\t\t\t\t\tcorrect += 1\n",
        "\t\t\treturn correct / float(len(actual)) * 100.0\n",
        "\t\t\n",
        "\t\t# Evaluate an algorithm using a cross validation split\n",
        "\t\tdef evaluate_algorithm(dataset, algorithm, n_folds, *args):\n",
        "\t\t\tfolds = cross_validation_split(dataset, n_folds)\n",
        "\t\t\tscores = list()\n",
        "\t\t\tfor fold in folds:\n",
        "\t\t\t\ttrain_set = list(folds)\n",
        "\t\t\t\ttrain_set.remove(fold)\n",
        "\t\t\t\ttrain_set = sum(train_set, [])\n",
        "\t\t\t\ttest_set = list()\n",
        "\t\t\t\tfor row in fold:\n",
        "\t\t\t\t\trow_copy = list(row)\n",
        "\t\t\t\t\ttest_set.append(row_copy)\n",
        "\t\t\t\t\trow_copy[-1] = None\n",
        "\t\t\t\tpredicted = algorithm(train_set, test_set, *args)\n",
        "\t\t\t\tactual = [row[-1] for row in fold]\n",
        "\t\t\t\taccuracy = accuracy_metric(actual, predicted)\n",
        "\t\t\t\tscores.append(accuracy)\n",
        "\t\t\treturn scores,predicted,actual\n",
        "\t\t\n",
        "\t\t# Split a dataset based on an attribute and an attribute value\n",
        "\t\tdef test_split(index, value, dataset):\n",
        "\t\t\tleft, right = list(), list()\n",
        "\t\t\tfor row in dataset:\n",
        "\t\t\t\tif row[index] < value:\n",
        "\t\t\t\t\tleft.append(row)\n",
        "\t\t\t\telse:\n",
        "\t\t\t\t\tright.append(row)\n",
        "\t\t\treturn left, right\n",
        "\t\t\n",
        "\t\t# Calculate the Gini index for a split dataset\n",
        "\t\tdef gini_index(groups, classes):\n",
        "\t\t\t# count all samples at split point\n",
        "\t\t\tn_instances = float(sum([len(group) for group in groups]))\n",
        "\t\t\t# sum weighted Gini index for each group\n",
        "\t\t\tgini = 0.0\n",
        "\t\t\tfor group in groups:\n",
        "\t\t\t\tsize = float(len(group))\n",
        "\t\t\t\t# avoid divide by zero\n",
        "\t\t\t\tif size == 0:\n",
        "\t\t\t\t\tcontinue\n",
        "\t\t\t\tscore = 0.0\n",
        "\t\t\t\t# score the group based on the score for each class\n",
        "\t\t\t\tfor class_val in classes:\n",
        "\t\t\t\t\tp = [row[-1] for row in group].count(class_val) / size\n",
        "\t\t\t\t\tscore += p * p\n",
        "\t\t\t\t# weight the group score by its relative size\n",
        "\t\t\t\tgini += (1.0 - score) * (size / n_instances)\n",
        "\t\t\treturn gini\n",
        "\t\t\n",
        "\t\t# Select the best split point for a dataset\n",
        "\t\tdef get_split(dataset):\n",
        "\t\t\tclass_values = list(set(row[-1] for row in dataset))\n",
        "\t\t\tb_index, b_value, b_score, b_groups = 999, 999, 999, None\n",
        "\t\t\tfor index in range(len(dataset[0])-1):\n",
        "\t\t\t\tfor row in dataset:\n",
        "\t\t\t\t\tgroups = test_split(index, row[index], dataset)\n",
        "\t\t\t\t\tgini = gini_index(groups, class_values)\n",
        "\t\t\t\t\tif gini < b_score:\n",
        "\t\t\t\t\t\tb_index, b_value, b_score, b_groups = index, row[index], gini, groups\n",
        "\t\t\treturn {'index':b_index, 'value':b_value, 'groups':b_groups}\n",
        "\t\t\n",
        "\t\t# Create a terminal node value\n",
        "\t\tdef to_terminal(group):\n",
        "\t\t\toutcomes = [row[-1] for row in group]\n",
        "\t\t\treturn max(set(outcomes), key=outcomes.count)\n",
        "\t\t\n",
        "\t\t# Create child splits for a node or make terminal\n",
        "\t\tdef split(node, max_depth, min_size, depth):\n",
        "\t\t\tleft, right = node['groups']\n",
        "\t\t\tdel(node['groups'])\n",
        "\t\t\t# check for a no split\n",
        "\t\t\tif not left or not right:\n",
        "\t\t\t\tnode['left'] = node['right'] = to_terminal(left + right)\n",
        "\t\t\t\treturn\n",
        "\t\t\t# check for max depth\n",
        "\t\t\tif depth >= max_depth:\n",
        "\t\t\t\tnode['left'], node['right'] = to_terminal(left), to_terminal(right)\n",
        "\t\t\t\treturn\n",
        "\t\t\t# process left child\n",
        "\t\t\tif len(left) <= min_size:\n",
        "\t\t\t\tnode['left'] = to_terminal(left)\n",
        "\t\t\telse:\n",
        "\t\t\t\tnode['left'] = get_split(left)\n",
        "\t\t\t\tsplit(node['left'], max_depth, min_size, depth+1)\n",
        "\t\t\t# process right child\n",
        "\t\t\tif len(right) <= min_size:\n",
        "\t\t\t\tnode['right'] = to_terminal(right)\n",
        "\t\t\telse:\n",
        "\t\t\t\tnode['right'] = get_split(right)\n",
        "\t\t\t\tsplit(node['right'], max_depth, min_size, depth+1)\n",
        "\t\t\n",
        "\t\t# Build a decision tree\n",
        "\t\tdef build_tree(train, max_depth, min_size):\n",
        "\t\t\troot = get_split(train)\n",
        "\t\t\tsplit(root, max_depth, min_size, 1)\n",
        "\t\t\treturn root\n",
        "\t\t\n",
        "\t\t# Make a prediction with a decision tree\n",
        "\t\tdef predict(node, row):\n",
        "\t\t\tif row[node['index']] < node['value']:\n",
        "\t\t\t\tif isinstance(node['left'], dict):\n",
        "\t\t\t\t\treturn predict(node['left'], row)\n",
        "\t\t\t\telse:\n",
        "\t\t\t\t\treturn node['left']\n",
        "\t\t\telse:\n",
        "\t\t\t\tif isinstance(node['right'], dict):\n",
        "\t\t\t\t\treturn predict(node['right'], row)\n",
        "\t\t\t\telse:\n",
        "\t\t\t\t\treturn node['right']\n",
        "\t\t\n",
        "\t\t# Classification and Regression Tree Algorithm\n",
        "\t\tdef decision_tree(train, test, max_depth, min_size):\n",
        "\t\t\ttree = build_tree(train, max_depth, min_size)\n",
        "\t\t\tpredictions = list()\n",
        "\t\t\tfor row in test:\n",
        "\t\t\t\tprediction = predict(tree, row)\n",
        "\t\t\t\tpredictions.append(prediction)\n",
        "\t\t\treturn(predictions)\n",
        "\t\t\n",
        "\n",
        "\t\t# evaluate algorithm\n",
        "\t\t#def implement_decision_tree():\n",
        "\t\tseed(1)\n",
        "\t\tdataset = load_csv(filename)\n",
        "\t\tn_folds = 5\n",
        "\t\tmax_depth = 5\n",
        "\t\tmin_size = 10\n",
        "\t\tscores,predictions ,test_label = evaluate_algorithm(dataset, decision_tree, n_folds, max_depth, min_size)\n",
        "\t\tprint('Scores: %s' % scores)\n",
        "\t\taccuracy=round(sum(scores)/float(len(scores)),4)\n",
        "\t\t#result.append(accuracy)\n",
        "\t\tprint('Mean Accuracy: %.3f%%' % (accuracy))\n",
        "\n",
        "\t\tcm = confusion_matrix(test_label, predictions)\n",
        "\t\tnp.set_printoptions(precision=1) \n",
        "\t\tfig, ax = plt.subplots()\n",
        "\t\tplot_confusion_matrix(cm)\n",
        "\t\tplt.show()\n",
        "\t\t#classification report\n",
        "\t\tprint(\"\\nClassification Report:\\n\")\n",
        "\t\tprint(get_classification_report(test_label, predictions))\n",
        "\t\treturn accuracy"
      ],
      "execution_count": 3,
      "outputs": []
    },
    {
      "cell_type": "markdown",
      "metadata": {
        "id": "5rGAGvbFE5Q5"
      },
      "source": [
        "### Naive Bayes\n",
        "\n",
        "\n"
      ]
    },
    {
      "cell_type": "code",
      "metadata": {
        "id": "JLMi2EnuFRrZ"
      },
      "source": [
        "def implement_naive_bayes():\n",
        "    def encode_class(mydata): \n",
        "        classes = [] \n",
        "        for i in range(len(mydata)): \n",
        "            if mydata[i][-1] not in classes: \n",
        "                classes.append(mydata[i][-1]) \n",
        "        for i in range(len(classes)): \n",
        "            for j in range(len(mydata)): \n",
        "                if mydata[j][-1] == classes[i]: \n",
        "                    mydata[j][-1] = i \n",
        "        return mydata             \n",
        "                  \n",
        "      \n",
        "    # Splitting the data \n",
        "    def splitting(mydata, ratio): \n",
        "        train_num = int(len(mydata) * ratio) \n",
        "        train = [] \n",
        "        # initally testset will have all the dataset  \n",
        "        test = list(mydata) \n",
        "        while len(train) < train_num: \n",
        "            # index generated randomly from range 0  \n",
        "            # to length of testset \n",
        "            index = random.randrange(len(test)) \n",
        "            # from testset, pop data rows and put it in train \n",
        "            train.append(test.pop(index)) \n",
        "        return train, test \n",
        "      \n",
        "      \n",
        "    # Group the data rows under each class yes or  \n",
        "    # no in dictionary eg: dict[yes] and dict[no]  \n",
        "    def groupUnderClass(mydata): \n",
        "          dict = {} \n",
        "          for i in range(len(mydata)): \n",
        "              if (mydata[i][-1] not in dict): \n",
        "                  dict[mydata[i][-1]] = [] \n",
        "              dict[mydata[i][-1]].append(mydata[i]) \n",
        "          return dict\n",
        "      \n",
        "      \n",
        "    # Calculating Mean \n",
        "    def mean(numbers): \n",
        "        return sum(numbers) / float(len(numbers)) \n",
        "      \n",
        "    # Calculating Standard Deviation \n",
        "    def std_dev(numbers): \n",
        "        avg = mean(numbers) \n",
        "        variance = sum([pow(x - avg, 2) for x in numbers]) / float(len(numbers) - 1) \n",
        "        return math.sqrt(variance) \n",
        "      \n",
        "    def MeanAndStdDev(mydata): \n",
        "        info = [(mean(attribute), std_dev(attribute)) for attribute in zip(*mydata)] \n",
        "        del info[-1] \n",
        "        return info \n",
        "      \n",
        "    # find Mean and Standard Deviation under each class \n",
        "    def MeanAndStdDevForClass(mydata): \n",
        "        info = {} \n",
        "        dict = groupUnderClass(mydata) \n",
        "        for classValue, instances in dict.items(): \n",
        "            info[classValue] = MeanAndStdDev(instances) \n",
        "        return info \n",
        "      \n",
        "      \n",
        "    # Calculate Gaussian Probability Density Function \n",
        "    def calculateGaussianProbability(x, mean, stdev): \n",
        "        expo = math.exp(-(math.pow(x - mean, 2) / (2 * math.pow(stdev, 2)))) \n",
        "        return (1 / (math.sqrt(2 * math.pi) * stdev)) * expo \n",
        "      \n",
        "      \n",
        "    # Calculate Class Probabilities \n",
        "    def calculateClassProbabilities(info, test): \n",
        "        probabilities = {} \n",
        "        for classValue, classSummaries in info.items(): \n",
        "            probabilities[classValue] = 1\n",
        "            for i in range(len(classSummaries)): \n",
        "                mean, std_dev = classSummaries[i] \n",
        "                x = test[i] \n",
        "                probabilities[classValue] *= calculateGaussianProbability(x, mean, std_dev) \n",
        "        return probabilities \n",
        "      \n",
        "      \n",
        "    # Make prediction - highest probability is the prediction \n",
        "    def predict(info, test): \n",
        "        probabilities = calculateClassProbabilities(info, test) \n",
        "        bestLabel, bestProb = None, -1\n",
        "        for classValue, probability in probabilities.items(): \n",
        "            if bestLabel is None or probability > bestProb: \n",
        "                bestProb = probability \n",
        "                bestLabel = classValue \n",
        "        return bestLabel \n",
        "      \n",
        "      \n",
        "    # returns predictions for a set of examples \n",
        "    def getPredictions(info, test): \n",
        "        predictions = [] \n",
        "        for i in range(len(test)): \n",
        "            result = predict(info, test[i]) \n",
        "            predictions.append(result) \n",
        "        return predictions \n",
        "      \n",
        "    # Accuracy score \n",
        "    def accuracy_rate(test, predictions): \n",
        "        correct = 0\n",
        "        for i in range(len(test)): \n",
        "            if test[i][-1] == predictions[i]: \n",
        "                correct += 1\n",
        "        return (correct / float(len(test))) * 100.0\n",
        "      \n",
        "\n",
        "#def implement_naive_bayes():  \n",
        "    mydata = csv.reader(open(filename, \"rt\")) \n",
        "    mydata = list(mydata) \n",
        "    mydata = encode_class(mydata) \n",
        "    for i in range(len(mydata)): \n",
        "        mydata[i] = [float(x) for x in mydata[i]] \n",
        "      \n",
        "    ratio = 0.7\n",
        "    train_data, test_data = splitting(mydata, ratio) \n",
        "    print('Total number of examples are: ', len(mydata)) \n",
        "    print('Out of these, training examples are: ', len(train_data)) \n",
        "    print(\"Test examples are: \", len(test_data)) \n",
        "      \n",
        "    # prepare model \n",
        "    info = MeanAndStdDevForClass(train_data) \n",
        "      \n",
        "    # test model \n",
        "    predictions = getPredictions(info, test_data) \n",
        "    accuracy = round(accuracy_rate(test_data, predictions),4) \n",
        "    #result.append(accuracy)\n",
        "    print(\"Accuracy of your model is: \", accuracy)\n",
        "\n",
        "    test_label=[i[-1] for i in test_data]\n",
        "    cm = confusion_matrix(test_label, predictions)\n",
        "    np.set_printoptions(precision=1) \n",
        "    # print('Confusion matrix')\n",
        "    # print(cm)\n",
        "    fig, ax = plt.subplots()\n",
        "    plot_confusion_matrix(cm)\n",
        "    plt.show()\n",
        "\n",
        "    #classification report\n",
        "    print(\"\\nClassification Report:\\n\")\n",
        "    print(get_classification_report(test_label, predictions))\n",
        "    return accuracy\n"
      ],
      "execution_count": 4,
      "outputs": []
    },
    {
      "cell_type": "markdown",
      "metadata": {
        "id": "QWb90_i7F1HX"
      },
      "source": [
        "### Support Vector Machine\n"
      ]
    },
    {
      "cell_type": "code",
      "metadata": {
        "id": "lPZ_aOFOGSd4"
      },
      "source": [
        "def implement_SVM():\n",
        "    def compute_cost(W, X, Y):\n",
        "        # calculate hinge loss\n",
        "        N = X.shape[0]\n",
        "        distances = 1 - Y * (np.dot(X, W))\n",
        "        distances[distances < 0] = 0  # equivalent to max(0, distance)\n",
        "        hinge_loss = regularization_strength * (np.sum(distances) / N)\n",
        "\n",
        "        # calculate cost\n",
        "        cost = 1 / 2 * np.dot(W, W) + hinge_loss\n",
        "        return cost\n",
        "\n",
        "\n",
        "    def calculate_cost_gradient(W, X_batch, Y_batch):\n",
        "        if type(Y_batch) == np.float64:\n",
        "            Y_batch = np.array([Y_batch])\n",
        "            X_batch = np.array([X_batch])  \n",
        "\n",
        "        distance = 1 - (Y_batch * np.dot(X_batch, W))\n",
        "        dw = np.zeros(len(W))\n",
        "\n",
        "        for ind, d in enumerate(distance):\n",
        "            if max(0, d) == 0:\n",
        "                di = W\n",
        "            else:\n",
        "                di = W - (regularization_strength * Y_batch[ind] * X_batch[ind])\n",
        "            dw += di\n",
        "\n",
        "        dw = dw/len(Y_batch)  \n",
        "        return dw\n",
        "\n",
        "\n",
        "    def sgd(features, outputs):\n",
        "        max_epochs = 5000\n",
        "        weights = np.zeros(features.shape[1])\n",
        "        nth = 0\n",
        "        prev_cost = float(\"inf\")\n",
        "        cost_threshold = 0.01  \n",
        "        for epoch in range(1, max_epochs):\n",
        "            X, Y = shuffle(features, outputs)\n",
        "            for ind, x in enumerate(X):\n",
        "                ascent = calculate_cost_gradient(weights, x, Y[ind])\n",
        "                weights = weights - (learning_rate * ascent)\n",
        "            if epoch == 2 ** nth or epoch == max_epochs - 1:\n",
        "                cost = compute_cost(weights, features, outputs)\n",
        "    #             print(\"Epoch is: {} and Cost is: {}\".format(epoch, cost))\n",
        "                # stoppage criterion\n",
        "                if abs(prev_cost - cost) < cost_threshold * prev_cost:\n",
        "                    return weights\n",
        "                prev_cost = cost\n",
        "                nth += 1\n",
        "        return weights\n",
        "\n",
        "    # Accuracy score \n",
        "    def accuracy_rate(test, predictions): \n",
        "        correct = 0\n",
        "        for i in range(len(test)): \n",
        "            if test[i][-1] == predictions[i]: \n",
        "                correct += 1\n",
        "        return (correct / float(len(test))) * 100.0\n",
        "\n",
        "\n",
        "    def init(dataset):\n",
        "        Y = dataset.iloc[:,-1:]\n",
        "        X = dataset.iloc[:,:-1]\n",
        "\n",
        "        X_normalized = MinMaxScaler().fit_transform(X.values)\n",
        "        X = pd.DataFrame(X_normalized)\n",
        "\n",
        "        # insert 1 in every row for intercept b\n",
        "        X.insert(loc=len(X.columns), column='intercept', value=1)\n",
        "\n",
        "        X_train, X_test, y_train, y_test = tts(X, Y, test_size=0.3, random_state=1)\n",
        "\n",
        "        W = sgd(X_train.values, y_train.values)\n",
        "        y_train_predicted = np.array([])\n",
        "        for i in range(X_train.shape[0]):\n",
        "            yp = np.sign(np.dot(X_train.values[i], W))\n",
        "            y_train_predicted = np.append(y_train_predicted, yp)\n",
        "\n",
        "        y_test_predicted = np.array([])\n",
        "        for i in range(X_test.shape[0]):\n",
        "            yp = np.sign(np.dot(X_test.values[i], W))\n",
        "            y_test_predicted = np.append(y_test_predicted, yp)\n",
        "        \n",
        "        print('Total number of examples are: ', len(dataset)) \n",
        "        print('Out of these, training examples are: ', len(X_train)) \n",
        "        print(\"Test examples are: \", len(X_test)) \n",
        "        accuracy =round(accuracy_score(y_test, y_test_predicted) * 100,4)\n",
        "        #result.append(accuracy)\n",
        "        print(\"Accuracy of your model is: \", accuracy)\n",
        "\n",
        "        cm = confusion_matrix(y_test, y_test_predicted)\n",
        "        np.set_printoptions(precision=1) \n",
        "        fig, ax = plt.subplots()\n",
        "        plot_confusion_matrix(cm)\n",
        "        plt.show()\n",
        "\n",
        "        #classification report\n",
        "        print(\"\\nClassification Report:\\n\")\n",
        "        print(get_classification_report(y_test, y_test_predicted))\n",
        "        return accuracy\n",
        "\n",
        "\n",
        "#def implement_SVM():\n",
        "    # set hyper-parameters and call init\n",
        "    regularization_strength = 10000\n",
        "    learning_rate = 0.000001\n",
        "    dataset = pd.read_csv(filename)\n",
        "    return init(dataset)"
      ],
      "execution_count": 5,
      "outputs": []
    },
    {
      "cell_type": "markdown",
      "metadata": {
        "id": "X4Pnjn_CL6w_"
      },
      "source": [
        "## Algorithms using built-in libraries:"
      ]
    },
    {
      "cell_type": "markdown",
      "metadata": {
        "id": "3Nq-LZxL3svS"
      },
      "source": [
        "### Naive Bayes using Scikit"
      ]
    },
    {
      "cell_type": "code",
      "metadata": {
        "id": "yhntGrOAFkgz"
      },
      "source": [
        "def implement_NaiveBayes_scikit():\n",
        "    dataset=pd.read_csv(filename,header=None)\n",
        "\n",
        "\n",
        "    X = dataset.loc[:,0:7]\n",
        "    y =dataset[8]\n",
        "      \n",
        "    X_train, X_test, y_train, y_test = train_test_split(X, y, test_size=0.3, random_state=1) \n",
        "\n",
        "      \n",
        "    # training the model on training set \n",
        "    from sklearn.naive_bayes import GaussianNB \n",
        "    gnb = GaussianNB() \n",
        "    gnb.fit(X_train, y_train) \n",
        "      \n",
        "    # making predictions on the testing set \n",
        "    y_pred = gnb.predict(X_test) \n",
        "      \n",
        "    # comparing actual response values (y_test) with predicted response values (y_pred) \n",
        "    from sklearn import metrics \n",
        "\n",
        "    print('Total number of examples are: ', len(dataset)) \n",
        "    print('Out of these, training examples are: ', len(X_train)) \n",
        "    print(\"Test examples are: \", len(X_test)) \n",
        "    accuracy= round(metrics.accuracy_score(y_test, y_pred)*100)\n",
        "    #result.append(accuracy)\n",
        "    print(\"Gaussian Naive Bayes model accuracy(in %):\",accuracy )\n",
        "\n",
        "    #confusion matrix\n",
        "    cm = confusion_matrix(y_test, y_pred)\n",
        "    np.set_printoptions(precision=1) \n",
        "    # print('Confusion matrix')\n",
        "    # print(cm)\n",
        "    fig, ax = plt.subplots()\n",
        "    plot_confusion_matrix(cm)\n",
        "\n",
        "    plt.show()\n",
        "\n",
        "\n",
        "\n",
        "    #classification report\n",
        "    print(\"\\nClassification Report:\\n\")\n",
        "    print(get_classification_report(y_test, y_pred))\n",
        "    return accuracy\n",
        "\n"
      ],
      "execution_count": 6,
      "outputs": []
    },
    {
      "cell_type": "markdown",
      "metadata": {
        "id": "f6lzL69V38IS"
      },
      "source": [
        "### Support Vection machine using Scikit"
      ]
    },
    {
      "cell_type": "code",
      "metadata": {
        "id": "Os-2LvajSw6V"
      },
      "source": [
        "def implement_SVM_scikit():\n",
        "    model = SVC(kernel='linear')    \n",
        "    dataset=pd.read_csv(filename,header=None)\n",
        "    X = dataset.loc[:,0:7]\n",
        "    y =dataset[8]\n",
        "      \n",
        "    X_train, X_test, y_train, y_test = train_test_split(X, y, test_size=0.3, random_state=1) \n",
        "    model.fit(X_train, y_train)\n",
        "\n",
        "    model = SVC(kernel='linear')\n",
        "    model.fit(X_train, y_train)\n",
        "\n",
        "    y_pred = model.predict(X_test) \n",
        "      \n",
        "    # comparing actual response values (y_test) with predicted response values (y_pred) \n",
        "\n",
        "\n",
        "    print('Total number of examples are: ', len(dataset)) \n",
        "    print('Out of these, training examples are: ', len(X_train)) \n",
        "    print(\"Test examples are: \", len(X_test))\n",
        "    accuracy= round(metrics.accuracy_score(y_test, y_pred)*100,4)\n",
        "    #result.append(accuracy)\n",
        "    print(\" model accuracy(in %):\", accuracy)\n",
        "\n",
        "    #confusion matrix\n",
        "    cm = confusion_matrix(y_test, y_pred)\n",
        "    np.set_printoptions(precision=1) \n",
        "    # print('Confusion matrix')\n",
        "    # print(cm)\n",
        "    fig, ax = plt.subplots()\n",
        "    plot_confusion_matrix(cm)\n",
        "\n",
        "    plt.show()\n",
        "\n",
        "\n",
        "    #classification report\n",
        "    print(\"\\nClassification Report:\\n\")\n",
        "    print(get_classification_report(y_test, y_pred))\n",
        "    return accuracy\n"
      ],
      "execution_count": 7,
      "outputs": []
    },
    {
      "cell_type": "markdown",
      "metadata": {
        "id": "0O27_R-dS43N"
      },
      "source": [
        "### Decision Tree using Scikit:"
      ]
    },
    {
      "cell_type": "code",
      "metadata": {
        "id": "B_yM5tEVSxpD"
      },
      "source": [
        "def implement_Decision_tree_scikit():\n",
        "    tree = DecisionTreeClassifier(max_depth=3, random_state=0)    \n",
        "    dataset=pd.read_csv(filename,header=None)\n",
        "\n",
        "\n",
        "    X = dataset.loc[:,0:7]\n",
        "    y =dataset[8]\n",
        "      \n",
        "    X_train, X_test, y_train, y_test = train_test_split(X, y, test_size=0.3, random_state=1) \n",
        "    tree.fit(X_train, y_train)\n",
        "\n",
        "    # making predictions on the testing set \n",
        "    y_pred = tree.predict(X_test) \n",
        "\n",
        "    from sklearn import metrics \n",
        "\n",
        "    print('Total number of examples are: ', len(dataset)) \n",
        "    print('Out of these, training examples are: ', len(X_train)) \n",
        "    print(\"Test examples are: \", len(X_test)) \n",
        "    accuracy= round(metrics.accuracy_score(y_test, y_pred)*100,4)\n",
        "    #result.append(accuracy)\n",
        "    print(\"Desicion tree model accuracy(in %):\", accuracy)\n",
        "\n",
        "\n",
        "    #confusion matrix\n",
        "    cm = confusion_matrix(y_test, y_pred)\n",
        "    np.set_printoptions(precision=1) \n",
        "    # print('Confusion matrix')\n",
        "    # print(cm)\n",
        "    fig, ax = plt.subplots()\n",
        "    plot_confusion_matrix(cm)\n",
        "\n",
        "    plt.show()\n",
        "\n",
        "    #classification report\n",
        "    print(\"\\nClassification Report:\\n\")\n",
        "    print(get_classification_report(y_test, y_pred))\n",
        "    return accuracy\n"
      ],
      "execution_count": 8,
      "outputs": []
    },
    {
      "cell_type": "markdown",
      "metadata": {
        "id": "0fiTf_7k4u6-"
      },
      "source": [
        "## Comparing Algorithms:"
      ]
    },
    {
      "cell_type": "code",
      "metadata": {
        "id": "Vj2YJC1VXfNm"
      },
      "source": [
        "def compare():\n",
        "    result = [implement_decision_tree(), implement_Decision_tree_scikit(), implement_SVM(),implement_SVM_scikit(),implement_naive_bayes(),implement_NaiveBayes_scikit()]\n",
        "    print(result)\n",
        "    labels =['DT','SVM','NB']\n",
        "    acc_alg = [result[x] for x in range(len(result)) if x%2==0]\n",
        "    acc_lib = [result[x] for x in range(len(result)) if x%2!=0]\n",
        "\n",
        "    x = np.arange(len(labels))  # the label locations\n",
        "    width = 0.2  # the width of the bars\n",
        "\n",
        "    fig, ax = plt.subplots(figsize=(10,7))\n",
        "    fig.suptitle('Comparison of Algorithm ')\n",
        "    # plt.figure(figsize=(10,10))\n",
        "    rects1 = ax.bar(x - width/2, acc_alg, width, label='Algorithm from scratch')\n",
        "    rects2 = ax.bar(x + width/2, acc_lib, width, label='Algorithm using libraries')\n",
        "\n",
        "    # Add some text for labels, title and custom x-axis tick labels, etc.\n",
        "    ax.set_ylabel('Accuracy Score')\n",
        "    ax.set_xlabel('Classifiction Algorithms')\n",
        "    ax.set_xticks(x)\n",
        "    ax.set_xticklabels(labels)\n",
        "    ax.legend(loc=1)\n",
        "\n",
        "    plt.show()\n"
      ],
      "execution_count": 9,
      "outputs": []
    },
    {
      "cell_type": "markdown",
      "metadata": {
        "id": "uvisoqBz5rD0"
      },
      "source": [
        "# Start Here:"
      ]
    },
    {
      "cell_type": "markdown",
      "metadata": {
        "id": "Wqf2Nt4t751Q"
      },
      "source": [
        "## If using Anaconda\n",
        "### Please select the algorithm you want to implement from the choice list (input integer):\n",
        "#### 1. Decision Tree\n",
        "#### 2. Support Vector Machine\n",
        "#### 3. Naive Bayes"
      ]
    },
    {
      "cell_type": "code",
      "metadata": {
        "colab": {
          "base_uri": "https://localhost:8080/"
        },
        "id": "hwjlltME79eb",
        "outputId": "db7ab621-511e-42b7-a7c7-79d22f452071"
      },
      "source": [
        "choice = int(input('Your choice: '))\n",
        "filename = input('Please input dataset you want to use: ')\n"
      ],
      "execution_count": 10,
      "outputs": [
        {
          "output_type": "stream",
          "text": [
            "Your choice: 1\n",
            "Please input dataset you want to use: diabetes_2.csv\n"
          ],
          "name": "stdout"
        }
      ]
    },
    {
      "cell_type": "code",
      "metadata": {
        "id": "1zlfbxUE9wAD",
        "colab": {
          "base_uri": "https://localhost:8080/",
          "height": 1000
        },
        "outputId": "14e260be-1c03-4549-875a-8fa3d4fdc233"
      },
      "source": [
        "if choice == 1:\n",
        "    print(\"\\033[1m --------------Implemenation of Decision Tree algorithm without using libraries:--------------\\033[0m \\n\")\n",
        "    implement_decision_tree()\n",
        "    print(\"\\n\\n\\033[1m --------------Implemenation of Decision Tree algorithm using libraries:--------------\\033[0m \\n\")\n",
        "    implement_Decision_tree_scikit()\n",
        "elif choice == 2:\n",
        "    print(\"\\033[1m --------------Implemenation of SVM algorithm without using libraries:--------------\\033[0m \\n\")\n",
        "    implement_SVM()\n",
        "    print(\"\\n\\n\\033[1m --------------Implemenation of SVM algorithm using libraries:--------------\\033[0m \\n\")\n",
        "    implement_SVM_scikit()\n",
        "else:\n",
        "    print(\"\\n\\n\\033[1m --------------Implemenation of Naive Bayes algorithm without using libraries:--------------\\033[0m \\n\")\n",
        "    implement_naive_bayes()\n",
        "    print(\"\\n\\n\\033[1m --------------Implemenation of Naive Bayes algorithm using libraries:--------------\\033[0m \\n\")\n",
        "    implement_NaiveBayes_scikit()\n"
      ],
      "execution_count": 11,
      "outputs": [
        {
          "output_type": "stream",
          "text": [
            "\u001b[1m --------------Implemenation of Decision Tree algorithm without using libraries:--------------\u001b[0m \n",
            "\n",
            "Scores: [80.75, 80.5, 81.5, 78.0, 77.0]\n",
            "Mean Accuracy: 79.550%\n"
          ],
          "name": "stdout"
        },
        {
          "output_type": "display_data",
          "data": {
            "image/png": "[encoded data removed]",
            "text/plain": [
              "<Figure size 432x288 with 2 Axes>"
            ]
          },
          "metadata": {
            "tags": [],
            "needs_background": "light"
          }
        },
        {
          "output_type": "stream",
          "text": [
            "\n",
            "Classification Report:\n",
            "\n",
            "                    0           1\n",
            "precision    0.780669    0.748092\n",
            "recall       0.864198    0.624204\n",
            "f1-score     0.820312    0.680556\n",
            "support    243.000000  157.000000\n",
            "\n",
            "\n",
            "\u001b[1m --------------Implemenation of Decision Tree algorithm using libraries:--------------\u001b[0m \n",
            "\n",
            "Total number of examples are:  2000\n",
            "Out of these, training examples are:  1400\n",
            "Test examples are:  600\n",
            "Desicion tree model accuracy(in %): 78.6667\n"
          ],
          "name": "stdout"
        },
        {
          "output_type": "display_data",
          "data": {
            "image/png": "[encoded data removed]",
            "text/plain": [
              "<Figure size 432x288 with 2 Axes>"
            ]
          },
          "metadata": {
            "tags": [],
            "needs_background": "light"
          }
        },
        {
          "output_type": "stream",
          "text": [
            "\n",
            "Classification Report:\n",
            "\n",
            "                    0           1\n",
            "precision    0.830144    0.686813\n",
            "recall       0.858911    0.637755\n",
            "f1-score     0.844282    0.661376\n",
            "support    404.000000  196.000000\n"
          ],
          "name": "stdout"
        }
      ]
    },
    {
      "cell_type": "code",
      "metadata": {
        "id": "ymWL1FcCwoN4",
        "colab": {
          "base_uri": "https://localhost:8080/",
          "height": 1000
        },
        "outputId": "d814080f-c182-4305-f3d3-6b36ec45f5a9"
      },
      "source": [
        "compare()"
      ],
      "execution_count": 12,
      "outputs": [
        {
          "output_type": "stream",
          "text": [
            "Scores: [80.75, 80.5, 81.5, 78.0, 77.0]\n",
            "Mean Accuracy: 79.550%\n"
          ],
          "name": "stdout"
        },
        {
          "output_type": "display_data",
          "data": {
            "image/png": "[encoded data removed]",
            "text/plain": [
              "<Figure size 432x288 with 2 Axes>"
            ]
          },
          "metadata": {
            "tags": [],
            "needs_background": "light"
          }
        },
        {
          "output_type": "stream",
          "text": [
            "\n",
            "Classification Report:\n",
            "\n",
            "                    0           1\n",
            "precision    0.780669    0.748092\n",
            "recall       0.864198    0.624204\n",
            "f1-score     0.820312    0.680556\n",
            "support    243.000000  157.000000\n",
            "Total number of examples are:  2000\n",
            "Out of these, training examples are:  1400\n",
            "Test examples are:  600\n",
            "Desicion tree model accuracy(in %): 78.6667\n"
          ],
          "name": "stdout"
        },
        {
          "output_type": "display_data",
          "data": {
            "image/png": "[encoded data removed]",
            "text/plain": [
              "<Figure size 432x288 with 2 Axes>"
            ]
          },
          "metadata": {
            "tags": [],
            "needs_background": "light"
          }
        },
        {
          "output_type": "stream",
          "text": [
            "\n",
            "Classification Report:\n",
            "\n",
            "                    0           1\n",
            "precision    0.830144    0.686813\n",
            "recall       0.858911    0.637755\n",
            "f1-score     0.844282    0.661376\n",
            "support    404.000000  196.000000\n",
            "Total number of examples are:  1999\n",
            "Out of these, training examples are:  1399\n",
            "Test examples are:  600\n",
            "Accuracy of your model is:  34.1667\n"
          ],
          "name": "stdout"
        },
        {
          "output_type": "display_data",
          "data": {
            "image/png": "[encoded data removed]",
            "text/plain": [
              "<Figure size 432x288 with 2 Axes>"
            ]
          },
          "metadata": {
            "tags": [],
            "needs_background": "light"
          }
        },
        {
          "output_type": "stream",
          "text": [
            "\n",
            "Classification Report:\n",
            "\n",
            "               0           1\n",
            "precision    0.0    0.341667\n",
            "recall       0.0    1.000000\n",
            "f1-score     0.0    0.509317\n",
            "support    395.0  205.000000\n"
          ],
          "name": "stdout"
        },
        {
          "output_type": "stream",
          "text": [
            "/usr/local/lib/python3.6/dist-packages/sklearn/metrics/_classification.py:1272: UndefinedMetricWarning: Precision and F-score are ill-defined and being set to 0.0 in labels with no predicted samples. Use `zero_division` parameter to control this behavior.\n",
            "  _warn_prf(average, modifier, msg_start, len(result))\n"
          ],
          "name": "stderr"
        },
        {
          "output_type": "stream",
          "text": [
            "Total number of examples are:  2000\n",
            "Out of these, training examples are:  1400\n",
            "Test examples are:  600\n",
            " model accuracy(in %): 78.8333\n"
          ],
          "name": "stdout"
        },
        {
          "output_type": "display_data",
          "data": {
            "image/png": "[encoded data removed]",
            "text/plain": [
              "<Figure size 432x288 with 2 Axes>"
            ]
          },
          "metadata": {
            "tags": [],
            "needs_background": "light"
          }
        },
        {
          "output_type": "stream",
          "text": [
            "\n",
            "Classification Report:\n",
            "\n",
            "                    0           1\n",
            "precision    0.819861    0.706587\n",
            "recall       0.878713    0.602041\n",
            "f1-score     0.848268    0.650138\n",
            "support    404.000000  196.000000\n",
            "Total number of examples are:  2000\n",
            "Out of these, training examples are:  1400\n",
            "Test examples are:  600\n",
            "Accuracy of your model is:  71.6667\n"
          ],
          "name": "stdout"
        },
        {
          "output_type": "display_data",
          "data": {
            "image/png": "[encoded data removed]",
            "text/plain": [
              "<Figure size 432x288 with 2 Axes>"
            ]
          },
          "metadata": {
            "tags": [],
            "needs_background": "light"
          }
        },
        {
          "output_type": "stream",
          "text": [
            "\n",
            "Classification Report:\n",
            "\n",
            "                  0.0         1.0\n",
            "precision    0.590090    0.791005\n",
            "recall       0.623810    0.766667\n",
            "f1-score     0.606481    0.778646\n",
            "support    210.000000  390.000000\n",
            "Total number of examples are:  2000\n",
            "Out of these, training examples are:  1400\n",
            "Test examples are:  600\n",
            "Gaussian Naive Bayes model accuracy(in %): 77.0\n"
          ],
          "name": "stdout"
        },
        {
          "output_type": "display_data",
          "data": {
            "image/png": "[encoded data removed]",
            "text/plain": [
              "<Figure size 432x288 with 2 Axes>"
            ]
          },
          "metadata": {
            "tags": [],
            "needs_background": "light"
          }
        },
        {
          "output_type": "stream",
          "text": [
            "\n",
            "Classification Report:\n",
            "\n",
            "                    0           1\n",
            "precision    0.830049    0.654639\n",
            "recall       0.834158    0.647959\n",
            "f1-score     0.832099    0.651282\n",
            "support    404.000000  196.000000\n",
            "[79.55, 78.6667, 34.1667, 78.8333, 71.6667, 77.0]\n"
          ],
          "name": "stdout"
        },
        {
          "output_type": "display_data",
          "data": {
            "image/png": "[encoded data removed]",
            "text/plain": [
              "<Figure size 720x504 with 1 Axes>"
            ]
          },
          "metadata": {
            "tags": [],
            "needs_background": "light"
          }
        }
      ]
    },
    {
      "cell_type": "code",
      "metadata": {
        "id": "ehV8E9muHZP4"
      },
      "source": [
        ""
      ],
      "execution_count": 12,
      "outputs": []
    }
  ]
}