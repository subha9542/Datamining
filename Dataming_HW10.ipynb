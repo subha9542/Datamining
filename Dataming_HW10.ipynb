{
  "nbformat": 4,
  "nbformat_minor": 0,
  "metadata": {
    "colab": {
      "name": "Dataming_HW10.ipynb",
      "provenance": [],
      "collapsed_sections": [],
      "authorship_tag": "ABX9TyMiDzdexjNTDWQFGA5E19Ky",
      "include_colab_link": true
    },
    "kernelspec": {
      "name": "python3",
      "display_name": "Python 3"
    }
  },
  "cells": [
    {
      "cell_type": "markdown",
      "metadata": {
        "id": "view-in-github",
        "colab_type": "text"
      },
      "source": [
        "<a href=\"https://colab.research.google.com/github/subha9542/Datamining/blob/master/Dataming_HW10.ipynb\" target=\"_parent\"><img src=\"https://colab.research.google.com/assets/colab-badge.svg\" alt=\"Open In Colab\"/></a>"
      ]
    },
    {
      "cell_type": "code",
      "metadata": {
        "id": "sBBC4p-iKjLB"
      },
      "source": [
        "import pandas as pd\n",
        "from sklearn.preprocessing import StandardScaler\n",
        "from sklearn.linear_model import Perceptron\n",
        "from sklearn.neural_network import MLPClassifier\n",
        "from sklearn.svm import SVC\n",
        "from sklearn.neighbors import KNeighborsClassifier\n",
        "from sklearn.model_selection import train_test_split\n",
        "from sklearn.metrics import accuracy_score\n",
        "import warnings\n",
        "warnings.filterwarnings(\"ignore\", category=DeprecationWarning)"
      ],
      "execution_count": 21,
      "outputs": []
    },
    {
      "cell_type": "markdown",
      "metadata": {
        "id": "S3JLKXXTNQq7"
      },
      "source": [
        "3. [50] Write a Python program (Jupyter notebook) that uses the data mining algorithms provided in SciKit-Learn to build knowledge models using the given hmwk10.csv."
      ]
    },
    {
      "cell_type": "code",
      "metadata": {
        "id": "Bu4YlW8dK6Qh",
        "outputId": "93943ff8-cdfc-4eba-e8cd-9941485bacc5",
        "colab": {
          "base_uri": "https://localhost:8080/",
          "height": 415
        }
      },
      "source": [
        "df = pd.read_csv('hwk10.csv')\n",
        "df"
      ],
      "execution_count": 2,
      "outputs": [
        {
          "output_type": "execute_result",
          "data": {
            "text/html": [
              "<div>\n",
              "<style scoped>\n",
              "    .dataframe tbody tr th:only-of-type {\n",
              "        vertical-align: middle;\n",
              "    }\n",
              "\n",
              "    .dataframe tbody tr th {\n",
              "        vertical-align: top;\n",
              "    }\n",
              "\n",
              "    .dataframe thead th {\n",
              "        text-align: right;\n",
              "    }\n",
              "</style>\n",
              "<table border=\"1\" class=\"dataframe\">\n",
              "  <thead>\n",
              "    <tr style=\"text-align: right;\">\n",
              "      <th></th>\n",
              "      <th>A</th>\n",
              "      <th>B</th>\n",
              "      <th>C</th>\n",
              "      <th>D</th>\n",
              "      <th>E</th>\n",
              "      <th>F</th>\n",
              "      <th>G</th>\n",
              "      <th>H</th>\n",
              "    </tr>\n",
              "  </thead>\n",
              "  <tbody>\n",
              "    <tr>\n",
              "      <th>0</th>\n",
              "      <td>-0.851789</td>\n",
              "      <td>-1.205610</td>\n",
              "      <td>-0.474291</td>\n",
              "      <td>0.313508</td>\n",
              "      <td>-0.452754</td>\n",
              "      <td>-0.381246</td>\n",
              "      <td>-1.414164</td>\n",
              "      <td>2</td>\n",
              "    </tr>\n",
              "    <tr>\n",
              "      <th>1</th>\n",
              "      <td>-2.243104</td>\n",
              "      <td>1.252614</td>\n",
              "      <td>0.118889</td>\n",
              "      <td>-0.569868</td>\n",
              "      <td>-1.536101</td>\n",
              "      <td>1.536289</td>\n",
              "      <td>-0.473938</td>\n",
              "      <td>2</td>\n",
              "    </tr>\n",
              "    <tr>\n",
              "      <th>2</th>\n",
              "      <td>1.096491</td>\n",
              "      <td>-0.736308</td>\n",
              "      <td>0.070911</td>\n",
              "      <td>-1.822606</td>\n",
              "      <td>1.662994</td>\n",
              "      <td>0.319114</td>\n",
              "      <td>2.321419</td>\n",
              "      <td>0</td>\n",
              "    </tr>\n",
              "    <tr>\n",
              "      <th>3</th>\n",
              "      <td>0.927066</td>\n",
              "      <td>2.737201</td>\n",
              "      <td>2.115261</td>\n",
              "      <td>1.826195</td>\n",
              "      <td>0.140160</td>\n",
              "      <td>0.758732</td>\n",
              "      <td>1.104514</td>\n",
              "      <td>2</td>\n",
              "    </tr>\n",
              "    <tr>\n",
              "      <th>4</th>\n",
              "      <td>-1.251867</td>\n",
              "      <td>0.147549</td>\n",
              "      <td>1.398634</td>\n",
              "      <td>0.418399</td>\n",
              "      <td>0.377142</td>\n",
              "      <td>0.911071</td>\n",
              "      <td>0.139122</td>\n",
              "      <td>1</td>\n",
              "    </tr>\n",
              "    <tr>\n",
              "      <th>...</th>\n",
              "      <td>...</td>\n",
              "      <td>...</td>\n",
              "      <td>...</td>\n",
              "      <td>...</td>\n",
              "      <td>...</td>\n",
              "      <td>...</td>\n",
              "      <td>...</td>\n",
              "      <td>...</td>\n",
              "    </tr>\n",
              "    <tr>\n",
              "      <th>495</th>\n",
              "      <td>-1.173401</td>\n",
              "      <td>1.008015</td>\n",
              "      <td>-0.370141</td>\n",
              "      <td>-0.091205</td>\n",
              "      <td>0.580675</td>\n",
              "      <td>-1.570397</td>\n",
              "      <td>-0.546478</td>\n",
              "      <td>1</td>\n",
              "    </tr>\n",
              "    <tr>\n",
              "      <th>496</th>\n",
              "      <td>-0.187153</td>\n",
              "      <td>-0.440826</td>\n",
              "      <td>-1.609754</td>\n",
              "      <td>-1.207334</td>\n",
              "      <td>-1.325653</td>\n",
              "      <td>1.170942</td>\n",
              "      <td>0.844724</td>\n",
              "      <td>2</td>\n",
              "    </tr>\n",
              "    <tr>\n",
              "      <th>497</th>\n",
              "      <td>-1.660589</td>\n",
              "      <td>-0.324257</td>\n",
              "      <td>0.546630</td>\n",
              "      <td>-0.498640</td>\n",
              "      <td>-0.624079</td>\n",
              "      <td>0.180790</td>\n",
              "      <td>-0.285721</td>\n",
              "      <td>1</td>\n",
              "    </tr>\n",
              "    <tr>\n",
              "      <th>498</th>\n",
              "      <td>-3.602431</td>\n",
              "      <td>-0.852292</td>\n",
              "      <td>0.595791</td>\n",
              "      <td>1.916982</td>\n",
              "      <td>-1.123922</td>\n",
              "      <td>0.915271</td>\n",
              "      <td>1.428713</td>\n",
              "      <td>2</td>\n",
              "    </tr>\n",
              "    <tr>\n",
              "      <th>499</th>\n",
              "      <td>-1.234651</td>\n",
              "      <td>-0.017871</td>\n",
              "      <td>-0.834179</td>\n",
              "      <td>-0.400159</td>\n",
              "      <td>0.420301</td>\n",
              "      <td>1.380979</td>\n",
              "      <td>0.805326</td>\n",
              "      <td>1</td>\n",
              "    </tr>\n",
              "  </tbody>\n",
              "</table>\n",
              "<p>500 rows × 8 columns</p>\n",
              "</div>"
            ],
            "text/plain": [
              "            A         B         C         D         E         F         G  H\n",
              "0   -0.851789 -1.205610 -0.474291  0.313508 -0.452754 -0.381246 -1.414164  2\n",
              "1   -2.243104  1.252614  0.118889 -0.569868 -1.536101  1.536289 -0.473938  2\n",
              "2    1.096491 -0.736308  0.070911 -1.822606  1.662994  0.319114  2.321419  0\n",
              "3    0.927066  2.737201  2.115261  1.826195  0.140160  0.758732  1.104514  2\n",
              "4   -1.251867  0.147549  1.398634  0.418399  0.377142  0.911071  0.139122  1\n",
              "..        ...       ...       ...       ...       ...       ...       ... ..\n",
              "495 -1.173401  1.008015 -0.370141 -0.091205  0.580675 -1.570397 -0.546478  1\n",
              "496 -0.187153 -0.440826 -1.609754 -1.207334 -1.325653  1.170942  0.844724  2\n",
              "497 -1.660589 -0.324257  0.546630 -0.498640 -0.624079  0.180790 -0.285721  1\n",
              "498 -3.602431 -0.852292  0.595791  1.916982 -1.123922  0.915271  1.428713  2\n",
              "499 -1.234651 -0.017871 -0.834179 -0.400159  0.420301  1.380979  0.805326  1\n",
              "\n",
              "[500 rows x 8 columns]"
            ]
          },
          "metadata": {
            "tags": []
          },
          "execution_count": 2
        }
      ]
    },
    {
      "cell_type": "markdown",
      "metadata": {
        "id": "fcwiRwI5NNDP"
      },
      "source": [
        "(a) [5] Create a set of unseen data (5 to 20 tuples)."
      ]
    },
    {
      "cell_type": "code",
      "metadata": {
        "id": "5VBdwKYEM4Sw",
        "outputId": "d30ae821-04c4-4021-e487-861ad80003e6",
        "colab": {
          "base_uri": "https://localhost:8080/"
        }
      },
      "source": [
        "X_train, X_test, y_train, y_test = train_test_split(df[['A','B','C','D','E','F','G']], df['H'], test_size=0.03, random_state=42)\n",
        "print(X_train, X_test, y_train, y_test)"
      ],
      "execution_count": 3,
      "outputs": [
        {
          "output_type": "stream",
          "text": [
            "            A         B         C         D         E         F         G\n",
            "388 -0.459473  0.703259  3.266176  1.570088 -1.948850 -1.018619 -0.359102\n",
            "495 -1.173401  1.008015 -0.370141 -0.091205  0.580675 -1.570397 -0.546478\n",
            "30  -0.913586 -0.605161  0.952221  0.421039 -1.818574 -0.814827  0.598558\n",
            "316  0.578367 -0.036097  1.213166  0.342765  1.302046 -0.382310  2.791997\n",
            "408  0.483209  1.485105 -0.089575  0.703768  1.101756  0.279671  0.638157\n",
            "..        ...       ...       ...       ...       ...       ...       ...\n",
            "106 -0.569883 -0.054611  1.351632 -1.929057 -0.280471  0.924542  0.252880\n",
            "270 -1.186027  0.244650 -1.721847  0.645435  0.502034  0.161061  0.107582\n",
            "348 -1.222824 -1.130578  1.117587  0.215888  0.391710  0.531535 -0.815249\n",
            "435  0.957355  0.687236 -0.131569  1.428889 -2.210720  1.886426  1.739085\n",
            "102  1.122401 -0.339571  0.374830 -0.083377  1.337787  0.573418 -1.075053\n",
            "\n",
            "[485 rows x 7 columns]             A         B         C         D         E         F         G\n",
            "361 -0.390495  0.569205  1.986435 -0.600447  2.756395  1.305939 -3.011175\n",
            "73  -1.662526 -0.316769  0.276112  0.524012 -0.461687  0.442191  1.162849\n",
            "374  0.567847 -0.344377 -0.822122  0.464560  0.972229  2.106558  1.737196\n",
            "155 -0.523416 -0.504229  0.238031 -0.275559 -1.757338  0.176338 -1.180387\n",
            "104 -0.778634 -0.627068  0.568602 -0.203774  1.645668 -0.531673 -1.359107\n",
            "394  0.929813 -0.309996  0.016771  0.796028  1.400077 -1.502928 -1.170271\n",
            "377 -0.943919  0.123961 -0.028131  0.099860  1.185694 -1.187413 -0.112550\n",
            "124  0.646280 -0.657676 -0.386034 -0.998344  1.308307 -0.060894 -0.816262\n",
            "68  -1.757467 -0.621986  0.447166  0.934786 -0.171439 -0.192424  0.064249\n",
            "450  0.987815  1.194136 -0.100917  1.395460  0.944517 -0.761185 -0.523016\n",
            "9   -1.178588  0.710882 -1.170984 -0.281312  0.484823  1.566294  0.769804\n",
            "194 -1.489067  0.067200  0.539966 -0.103989 -2.718742  1.348472 -0.138196\n",
            "406 -2.419841 -1.540310  0.266919 -0.572448 -1.585219 -0.679826  2.433521\n",
            "84  -0.511981 -0.528339  0.118666  1.780819  2.083865  0.409554  0.229546\n",
            "371  0.567881  0.088916 -1.471432  0.124804 -0.522361  0.885195 -0.378624 388    2\n",
            "495    1\n",
            "30     2\n",
            "316    0\n",
            "408    0\n",
            "      ..\n",
            "106    2\n",
            "270    1\n",
            "348    1\n",
            "435    2\n",
            "102    0\n",
            "Name: H, Length: 485, dtype: int64 361    1\n",
            "73     2\n",
            "374    0\n",
            "155    1\n",
            "104    1\n",
            "394    0\n",
            "377    1\n",
            "124    0\n",
            "68     2\n",
            "450    0\n",
            "9      1\n",
            "194    2\n",
            "406    2\n",
            "84     1\n",
            "371    0\n",
            "Name: H, dtype: int64\n"
          ],
          "name": "stdout"
        }
      ]
    },
    {
      "cell_type": "markdown",
      "metadata": {
        "id": "0rjPbN9MNWum"
      },
      "source": [
        "(b) [15] Build a multiple level perceptron classifier and use it to classify several unseen\n",
        "data. Investigate the impact of number and size of hidden layers and the different\n",
        "activation functions.\n"
      ]
    },
    {
      "cell_type": "code",
      "metadata": {
        "id": "djv6kJaoNVK1",
        "outputId": "0aceaaa9-0b73-452a-f8ac-de8ebb3c0943",
        "colab": {
          "base_uri": "https://localhost:8080/"
        }
      },
      "source": [
        "def MLPClassifier_Algo(hidden = 100, activation = 'relu'):\n",
        "    mlp = MLPClassifier(hidden_layer_sizes = hidden, activation = activation,max_iter=250)\n",
        "    mlp.fit(X_train, y_train)\n",
        "    y_pred = mlp.predict(X_test)\n",
        "    #print(mlp.score(X_test, y_test))\n",
        "    return y_pred\n",
        "\n",
        "print(MLPClassifier_Algo(100,'relu'))\n",
        "print(MLPClassifier_Algo(75,'identity'))\n",
        "print(MLPClassifier_Algo(150,'logistic'))"
      ],
      "execution_count": 16,
      "outputs": [
        {
          "output_type": "stream",
          "text": [
            "/usr/local/lib/python3.6/dist-packages/sklearn/neural_network/_multilayer_perceptron.py:571: ConvergenceWarning: Stochastic Optimizer: Maximum iterations (250) reached and the optimization hasn't converged yet.\n",
            "  % self.max_iter, ConvergenceWarning)\n"
          ],
          "name": "stderr"
        },
        {
          "output_type": "stream",
          "text": [
            "[1 2 0 2 1 0 1 0 2 0 1 2 2 1 0]\n",
            "[1 2 0 2 1 0 1 0 2 0 1 2 2 1 0]\n",
            "[1 2 0 2 1 0 1 0 2 0 1 2 2 1 0]\n"
          ],
          "name": "stdout"
        },
        {
          "output_type": "stream",
          "text": [
            "/usr/local/lib/python3.6/dist-packages/sklearn/neural_network/_multilayer_perceptron.py:571: ConvergenceWarning: Stochastic Optimizer: Maximum iterations (250) reached and the optimization hasn't converged yet.\n",
            "  % self.max_iter, ConvergenceWarning)\n"
          ],
          "name": "stderr"
        }
      ]
    },
    {
      "cell_type": "markdown",
      "metadata": {
        "id": "IDAfeoIqSOP3"
      },
      "source": [
        "(c) [15] Build a support vector classifier and use it to classify the same set of unseen data.\n",
        "Investigate the effect of different types of kernel functions and their parameters"
      ]
    },
    {
      "cell_type": "code",
      "metadata": {
        "id": "2R5P7ruqSFhi",
        "outputId": "c2aae055-b3f9-41a7-fd1e-088d916ef991",
        "colab": {
          "base_uri": "https://localhost:8080/"
        }
      },
      "source": [
        "def SVC_Algo(kernel = 'rbf'):\n",
        "    svc = SVC(kernel = kernel, random_state=42)\n",
        "    svc.fit(X_train, y_train)\n",
        "    y_pred = svc.predict(X_test)\n",
        "    print(svc.score(X_test, y_test))\n",
        "    return y_pred\n",
        "\n",
        "print(SVC_Algo(kernel = 'linear'))\n",
        "print(SVC_Algo(kernel = 'poly'))\n",
        "print(SVC_Algo(kernel = 'sigmoid'))"
      ],
      "execution_count": 26,
      "outputs": [
        {
          "output_type": "stream",
          "text": [
            "0.9333333333333333\n",
            "[1 2 0 2 1 0 1 0 2 0 1 2 2 1 0]\n",
            "0.9333333333333333\n",
            "[1 2 0 2 1 0 1 0 2 0 1 2 2 1 0]\n",
            "0.9333333333333333\n",
            "[1 2 0 2 1 0 1 0 2 0 1 2 2 1 0]\n"
          ],
          "name": "stdout"
        }
      ]
    },
    {
      "cell_type": "markdown",
      "metadata": {
        "id": "wIDVOf5JTIZ2"
      },
      "source": [
        "(d) [15] Build a K neighbors classifier and use it to classify the same set of unseen data.\n",
        "Investigate the impact of the number of neighbors and the metrics.\n"
      ]
    },
    {
      "cell_type": "code",
      "metadata": {
        "id": "8nvHpHBsTJKg",
        "outputId": "d800718c-88a8-4057-cb48-1330d86e6bad",
        "colab": {
          "base_uri": "https://localhost:8080/"
        }
      },
      "source": [
        "def KNeighborsClassifier_Algo(n_neighbors = 3):\n",
        "    knc = KNeighborsClassifier(n_neighbors = n_neighbors)\n",
        "    knc.fit(X_train, y_train)\n",
        "    y_pred = knc.predict(X_test)\n",
        "    print(knc.score(X_test, y_test))\n",
        "    return y_pred\n",
        "\n",
        "print(KNeighborsClassifier_Algo(n_neighbors = 3))\n",
        "print(KNeighborsClassifier_Algo(n_neighbors = 4))\n",
        "print(KNeighborsClassifier_Algo(n_neighbors = 2))"
      ],
      "execution_count": 25,
      "outputs": [
        {
          "output_type": "stream",
          "text": [
            "0.8666666666666667\n",
            "[0 2 0 2 1 0 1 0 2 0 1 2 2 1 0]\n",
            "0.8666666666666667\n",
            "[0 2 0 2 1 0 1 0 2 0 1 2 2 1 0]\n",
            "0.8666666666666667\n",
            "[0 2 0 2 1 0 1 0 2 0 1 2 2 1 0]\n"
          ],
          "name": "stdout"
        }
      ]
    }
  ]
}